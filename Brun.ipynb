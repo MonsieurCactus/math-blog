{
 "cells": [
  {
   "cell_type": "code",
   "execution_count": 1,
   "metadata": {
    "collapsed": true
   },
   "outputs": [],
   "source": [
    "import numpy as np"
   ]
  },
  {
   "cell_type": "code",
   "execution_count": 14,
   "metadata": {
    "collapsed": true
   },
   "outputs": [],
   "source": [
    "x = np.array([[0,0,2],[1,0,0],[0,1,0]])"
   ]
  },
  {
   "cell_type": "code",
   "execution_count": 15,
   "metadata": {
    "collapsed": false
   },
   "outputs": [
    {
     "data": {
      "text/plain": [
       "array([[0, 0, 2],\n",
       "       [1, 0, 0],\n",
       "       [0, 1, 0]])"
      ]
     },
     "execution_count": 15,
     "metadata": {},
     "output_type": "execute_result"
    }
   ],
   "source": [
    "x"
   ]
  },
  {
   "cell_type": "code",
   "execution_count": 13,
   "metadata": {
    "collapsed": false
   },
   "outputs": [
    {
     "data": {
      "text/plain": [
       "array([[0, 2, 0],\n",
       "       [0, 0, 2],\n",
       "       [1, 0, 0]])"
      ]
     },
     "execution_count": 13,
     "metadata": {},
     "output_type": "execute_result"
    }
   ],
   "source": [
    "np.dot(x,x)"
   ]
  },
  {
   "cell_type": "code",
   "execution_count": 11,
   "metadata": {
    "collapsed": false
   },
   "outputs": [
    {
     "data": {
      "text/plain": [
       "array([[2, 0, 0],\n",
       "       [0, 2, 0],\n",
       "       [0, 0, 2]])"
      ]
     },
     "execution_count": 11,
     "metadata": {},
     "output_type": "execute_result"
    }
   ],
   "source": [
    "np.dot(x,np.dot(x,x))"
   ]
  },
  {
   "cell_type": "code",
   "execution_count": 19,
   "metadata": {
    "collapsed": false
   },
   "outputs": [
    {
     "data": {
      "text/plain": [
       "array([[0, 0, 2],\n",
       "       [1, 0, 0],\n",
       "       [0, 1, 0]])"
      ]
     },
     "execution_count": 19,
     "metadata": {},
     "output_type": "execute_result"
    }
   ],
   "source": [
    "X = np.array([x, np.dot(x,x), np.dot(x, np.dot(x,x))])\n",
    "X[0]"
   ]
  },
  {
   "cell_type": "code",
   "execution_count": 27,
   "metadata": {
    "collapsed": false
   },
   "outputs": [
    {
     "data": {
      "text/plain": [
       "2.0"
      ]
     },
     "execution_count": 27,
     "metadata": {},
     "output_type": "execute_result"
    }
   ],
   "source": [
    "a = np.array([1, 2**0.333333, 4**0.333333])\n",
    "np.dot(a, np.dot(x,np.dot(x,x))[:,0])"
   ]
  },
  {
   "cell_type": "code",
   "execution_count": 120,
   "metadata": {
    "collapsed": false
   },
   "outputs": [
    {
     "name": "stdout",
     "output_type": "stream",
     "text": [
      "c [ 0.32748     1.          1.25992105]\n",
      "c [ 0.25992105  0.32748     1.        ]\n",
      "a [ 0.25992105  0.32748     0.67252   ]\n",
      "a [ 0.25992105  0.32748     0.34504   ]\n",
      "c [ 0.01755999  0.25992105  0.32748   ]\n",
      "b [ 0.01755999  0.06755895  0.25992105]\n",
      "a [ 0.01755999  0.06755895  0.1923621 ]\n",
      "a [ 0.01755999  0.06755895  0.12480315]\n",
      "b [ 0.01755999  0.05724419  0.06755895]\n",
      "c [ 0.01031476  0.01755999  0.05724419]\n",
      "a [ 0.01031476  0.01755999  0.0396842 ]\n",
      "a [ 0.01031476  0.01755999  0.02212421]\n",
      "c [ 0.00456421  0.01031476  0.01755999]\n",
      "b [ 0.00456421  0.00724523  0.01031476]\n",
      "c [ 0.00306952  0.00456421  0.00724523]\n",
      "c [ 0.00268102  0.00306952  0.00456421]\n",
      "c [ 0.00149469  0.00268102  0.00306952]\n",
      "c [ 0.0003885   0.00149469  0.00268102]\n",
      "b [ 0.0003885   0.00118633  0.00149469]\n",
      "c [ 0.00030835  0.0003885   0.00118633]\n",
      "a [ 0.00030835  0.0003885   0.00079783]\n",
      "a [ 0.00030835  0.0003885   0.00040933]\n",
      "c [  2.08320314e-05   3.08353382e-04   3.88500916e-04]\n",
      "b [  2.08320314e-05   8.01475347e-05   3.08353382e-04]\n",
      "a [  2.08320314e-05   8.01475347e-05   2.28205847e-04]\n",
      "a [  2.08320314e-05   8.01475347e-05   1.48058312e-04]\n",
      "b [  2.08320314e-05   6.79107775e-05   8.01475347e-05]\n",
      "c [  1.22367571e-05   2.08320314e-05   6.79107775e-05]\n",
      "a [  1.22367571e-05   2.08320314e-05   4.70787462e-05]\n",
      "a [  1.22367571e-05   2.08320314e-05   2.62467148e-05]\n",
      "c [  5.41468341e-06   1.22367571e-05   2.08320314e-05]\n",
      "b [  5.41468341e-06   8.59527424e-06   1.22367571e-05]\n",
      "c [  3.64148292e-06   5.41468341e-06   8.59527424e-06]\n",
      "c [  3.18059085e-06   3.64148292e-06   5.41468341e-06]\n",
      "c [  1.77320052e-06   3.18059085e-06   3.64148292e-06]\n",
      "c [  4.60892011e-07   1.77320052e-06   3.18059085e-06]\n",
      "b [  4.60892011e-07   1.40739024e-06   1.77320052e-06]\n",
      "c [  3.65810308e-07   4.60892011e-07   1.40739024e-06]\n",
      "a [  3.65810308e-07   4.60892011e-07   9.46498176e-07]\n",
      "a [  3.65810308e-07   4.60892011e-07   4.85606051e-07]\n",
      "c [  2.47141543e-08   3.65810308e-07   4.60892011e-07]\n",
      "b [  2.47141543e-08   9.50818730e-08   3.65810308e-07]\n",
      "a [  2.47141543e-08   9.50818730e-08   2.70728776e-07]\n",
      "a [  2.47141543e-08   9.50818730e-08   1.75646960e-07]\n",
      "b [  2.47141543e-08   8.05650870e-08   9.50818730e-08]\n",
      "c [  1.45168997e-08   2.47141543e-08   8.05650870e-08]\n",
      "a [  1.45168997e-08   2.47141543e-08   5.58511601e-08]\n",
      "a [  1.45168997e-08   2.47141543e-08   3.11374606e-08]\n",
      "c [  6.42285158e-09   1.45168997e-08   2.47141543e-08]\n",
      "b [  6.42285158e-09   1.01972546e-08   1.45168997e-08]\n",
      "c [  4.31737135e-09   6.42285158e-09   1.01972546e-08]\n",
      "c [  3.77440301e-09   4.31737135e-09   6.42285158e-09]\n",
      "c [  2.10252438e-09   3.77440301e-09   4.31737135e-09]\n",
      "c [  5.42058842e-10   2.10252438e-09   3.77440301e-09]\n",
      "b [  5.42058842e-10   1.67165126e-09   2.10252438e-09]\n",
      "c [  4.32919478e-10   5.42058842e-10   1.67165126e-09]\n",
      "a [  4.32919478e-10   5.42058842e-10   1.12777343e-09]\n",
      "a [  4.32919478e-10   5.42058842e-10   5.89352567e-10]\n",
      "c [  4.36557457e-11   4.32919478e-10   5.42058842e-10]\n",
      "b [  4.36557457e-11   1.11867848e-10   4.32919478e-10]\n",
      "a [  4.36557457e-11   1.11867848e-10   3.25599103e-10]\n",
      "a [  4.36557457e-11   1.11867848e-10   2.14640750e-10]\n",
      "b [  4.36557457e-11   1.02090780e-10   1.11867848e-10]\n",
      "c [  2.45563569e-11   4.36557457e-11   1.02090780e-10]\n",
      "a [  2.45563569e-11   4.36557457e-11   5.82076609e-11]\n",
      "b [  2.45563569e-11   2.91038305e-11   4.36557457e-11]\n",
      "[  2.45563569e-11   2.91038305e-11   2.91038305e-11]\n",
      "c [  0.00000000e+00   2.45563569e-11   2.91038305e-11]\n",
      "[  0.00000000e+00   2.45563569e-11   0.00000000e+00]\n",
      "[  0.00000000e+00   2.45563569e-11   0.00000000e+00]\n",
      "a [  0.00000000e+00   2.45563569e-11   2.91038305e-11]\n",
      "c [ -2.91038305e-11   0.00000000e+00   2.45563569e-11]\n",
      "[ -2.91038305e-11   0.00000000e+00   0.00000000e+00]\n",
      "caacbaabcaacbccccb\n",
      "caacbaabcaacbccccb\n",
      "caacbaabcaacbccccb\n",
      "caacbaabcabcac\n"
     ]
    },
    {
     "data": {
      "text/plain": [
       "(array([ -2.91038305e-11,   0.00000000e+00,   0.00000000e+00]),\n",
       " True,\n",
       " array([-1.34130009, -1.68993222, -2.12918117]),\n",
       " array([[ 46086720140,  58065628825,  73158108032],\n",
       "        [210040534251, 264634490434, 333418565026],\n",
       "        [191509072163, 241286311264, 304001702613]]))"
      ]
     },
     "execution_count": 120,
     "metadata": {},
     "output_type": "execute_result"
    }
   ],
   "source": [
    "import numpy as np\n",
    "\n",
    "w = [1,2**(1.0/3), 4**(1.0/3)]\n",
    "z = [1,2**(1.0/3), 4**(1.0/3)]\n",
    "x = np.array([[1,0,0],[0,1,0],[0,0,1]])\n",
    "y = np.array([[1,0,0],[0,1,0],[0,0,1]])\n",
    "code = ''\n",
    "\n",
    "T = 4\n",
    "for k in range(1+18*T):\n",
    "    #z = [z[0], z[1], z[2]-z[1]]\n",
    "\n",
    "    x = np.dot(np.array([[1,0,0],[0,1,1],[0,0,1]]),x)\n",
    "    y = np.dot(np.array([[1,0,0],[0,1,0],[0,-1,1]]),y)\n",
    "    z = np.dot(y,w)\n",
    "    \n",
    "    if(z[2] > z[1]):\n",
    "        print \"a\",\n",
    "        code += 'a'\n",
    "        x = np.dot(np.array([[1,0,0],[0,1,0],[0,0,1]]),x)\n",
    "        y = np.dot(np.array([[1,0,0],[0,1,0],[0,0,1]]),y)        \n",
    "    if(z[2] < z[1] and z[2] > z[0]):\n",
    "        print \"b\",\n",
    "        code += 'b'\n",
    "        #z = [z[0], z[2], z[1]]\n",
    "        x = np.dot(np.array([[1,0,0],[0,0,1],[0,1,0]]),x)\n",
    "        y = np.dot(np.array([[1,0,0],[0,0,1],[0,1,0]]),y)        \n",
    "    if(z[2] < z[1] and z[2] < z[0]):\n",
    "        print \"c\",\n",
    "        #z = [z[2], z[0], z[1]]\n",
    "        code += 'c'\n",
    "        x = np.dot(np.array([[0,0,1],[1,0,0],[0,1,0]]),x)\n",
    "        y = np.dot(np.array([[0,0,1],[1,0,0],[0,1,0]]),y)\n",
    "        \n",
    "    print np.dot(y,w)\n",
    "    \n",
    "for k in range(T):\n",
    "    print code[1+k*18: 1+(k+1)*18]\n",
    "\n",
    "z, (code[1:19]== code[19:37]),np.dot(z,x),x, \n",
    "#z, (code[1:19]== code[19:37]), code[1:1+18], code[1+18:1+2*18], code[1+2*18:1+3*18], np.dot(x,z)"
   ]
  },
  {
   "cell_type": "code",
   "execution_count": 82,
   "metadata": {
    "collapsed": false
   },
   "outputs": [
    {
     "data": {
      "text/plain": [
       "array([[-1079,   434,  -347],\n",
       "       [  583, -1079,  2096],\n",
       "       [  217,   583, -1445]])"
      ]
     },
     "execution_count": 82,
     "metadata": {},
     "output_type": "execute_result"
    }
   ],
   "source": [
    "xinv = np.round(np.linalg.inv(x)).astype(int)\n",
    "xinv"
   ]
  },
  {
   "cell_type": "code",
   "execution_count": 83,
   "metadata": {
    "collapsed": false
   },
   "outputs": [
    {
     "data": {
      "text/plain": [
       "array([[1, 0, 0],\n",
       "       [0, 1, 0],\n",
       "       [0, 0, 1]])"
      ]
     },
     "execution_count": 83,
     "metadata": {},
     "output_type": "execute_result"
    }
   ],
   "source": [
    "np.dot(x, xinv)"
   ]
  },
  {
   "cell_type": "code",
   "execution_count": 91,
   "metadata": {
    "collapsed": false
   },
   "outputs": [
    {
     "data": {
      "text/plain": [
       "array([[-1079,  -347,   434],\n",
       "       [  217, -1445,   583],\n",
       "       [  583,  2096, -1079]])"
      ]
     },
     "execution_count": 91,
     "metadata": {},
     "output_type": "execute_result"
    }
   ],
   "source": [
    "y"
   ]
  },
  {
   "cell_type": "code",
   "execution_count": 93,
   "metadata": {
    "collapsed": false
   },
   "outputs": [
    {
     "data": {
      "text/plain": [
       "array([ -827.26054776,  -678.1311038 ,  1510.98878551])"
      ]
     },
     "execution_count": 93,
     "metadata": {},
     "output_type": "execute_result"
    }
   ],
   "source": [
    "np.dot(y,[1,2**0.33333333333, 4**0.33333333333])"
   ]
  },
  {
   "cell_type": "code",
   "execution_count": null,
   "metadata": {
    "collapsed": true
   },
   "outputs": [],
   "source": []
  }
 ],
 "metadata": {
  "kernelspec": {
   "display_name": "Python 2",
   "language": "python",
   "name": "python2"
  },
  "language_info": {
   "codemirror_mode": {
    "name": "ipython",
    "version": 2
   },
   "file_extension": ".py",
   "mimetype": "text/x-python",
   "name": "python",
   "nbconvert_exporter": "python",
   "pygments_lexer": "ipython2",
   "version": "2.7.10"
  }
 },
 "nbformat": 4,
 "nbformat_minor": 0
}
