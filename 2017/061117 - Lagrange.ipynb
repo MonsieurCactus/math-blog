{
 "cells": [
  {
   "cell_type": "code",
   "execution_count": 1,
   "metadata": {
    "collapsed": true
   },
   "outputs": [],
   "source": [
    "import numpy as np\n",
    "import matplotlib.pyplot as plt\n",
    "%matplotlib inline"
   ]
  },
  {
   "cell_type": "code",
   "execution_count": 20,
   "metadata": {},
   "outputs": [
    {
     "data": {
      "text/plain": [
       "[array([  1, -10,  35, -50,  24]),\n",
       " array([  1,  -9,  26, -24,   0]),\n",
       " array([  1,  -8,  19, -12,   0]),\n",
       " array([ 1, -7, 14, -8,  0]),\n",
       " array([ 1, -6, 11, -6,  0])]"
      ]
     },
     "execution_count": 20,
     "metadata": {},
     "output_type": "execute_result"
    }
   ],
   "source": [
    "A = [[1,0],[1,-1],[1,-2],[1,-3],[1,-4]]\n",
    "\n",
    "B = []\n",
    "\n",
    "for k in range(5):\n",
    "    b = [1]\n",
    "    for j in range(5):\n",
    "        if j != k :\n",
    "            b = np.convolve(b, A[j])\n",
    "    B += [b]\n",
    "    \n",
    "B"
   ]
  },
  {
   "cell_type": "code",
   "execution_count": 22,
   "metadata": {},
   "outputs": [
    {
     "name": "stdout",
     "output_type": "stream",
     "text": [
      "24\n",
      "-6\n",
      "4\n",
      "-6\n",
      "24\n"
     ]
    },
    {
     "data": {
      "text/plain": [
       "array([-0.29166667,  2.08333333, -4.70833333,  3.91666667,  1.        ])"
      ]
     },
     "execution_count": 22,
     "metadata": {},
     "output_type": "execute_result"
    }
   ],
   "source": [
    "C = np.zeros(5)\n",
    "\n",
    "f = np.array([1,2,2,3,0])\n",
    "\n",
    "for k in range(5):\n",
    "    C += f[k]*B[k]*1.0/np.polyval(B[k], k)\n",
    "    print np.polyval(B[k], k)\n",
    "C"
   ]
  },
  {
   "cell_type": "code",
   "execution_count": 50,
   "metadata": {},
   "outputs": [
    {
     "data": {
      "image/png": "[encoded data removed]",
      "text/plain": [
       "<matplotlib.figure.Figure at 0x7f4ebf9275d0>"
      ]
     },
     "metadata": {},
     "output_type": "display_data"
    }
   ],
   "source": [
    "plt.rcParams['figure.figsize'] = 5,5\n",
    "\n",
    "t = np.arange(-0.1, 4.2, 0.01)\n",
    "\n",
    "z = np.polyval(C, t)\n",
    "\n",
    "plt.plot([0,1,2,3,4], f, 'o-', markersize=10, alpha=1)\n",
    "\n",
    "plt.plot(t, z)\n",
    "\n",
    "plt.xlim([-0.5,4.5])\n",
    "#plt.ylim([-1,4])\n",
    "plt.grid(True)\n"
   ]
  },
  {
   "cell_type": "code",
   "execution_count": null,
   "metadata": {
    "collapsed": true
   },
   "outputs": [],
   "source": []
  }
 ],
 "metadata": {
  "kernelspec": {
   "display_name": "Python 2",
   "language": "python",
   "name": "python2"
  },
  "language_info": {
   "codemirror_mode": {
    "name": "ipython",
    "version": 2
   },
   "file_extension": ".py",
   "mimetype": "text/x-python",
   "name": "python",
   "nbconvert_exporter": "python",
   "pygments_lexer": "ipython2",
   "version": "2.7.12"
  }
 },
 "nbformat": 4,
 "nbformat_minor": 2
}
