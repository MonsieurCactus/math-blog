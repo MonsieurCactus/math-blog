{
 "cells": [
  {
   "cell_type": "code",
   "execution_count": 73,
   "metadata": {
    "collapsed": true
   },
   "outputs": [],
   "source": [
    "import numpy as np\n",
    "\n",
    "import matplotlib.pyplot as plt\n",
    "%matplotlib inline"
   ]
  },
  {
   "cell_type": "code",
   "execution_count": 82,
   "metadata": {
    "collapsed": false
   },
   "outputs": [],
   "source": [
    "# hook walk\n",
    "\n",
    "L = [5,4,3,2,1]\n",
    "T = [ (a, b+1) for a in L for b in range(N-a+1)]\n",
    "P = { t: 0 for t in T }\n",
    "S = [s for s in T if P[s] == 0]\n",
    "    \n",
    "    \n",
    "def hook( S ):   \n",
    "    # choose random point in Tableau\n",
    "    a,b = S[int( np.random.random()*len(S) )]\n",
    "    hk = [(s,t) for (s,t) in S if s >= a and t >= b ]\n",
    "\n",
    "    # choose random element of hook\n",
    "    while (len(hk) > 1):\n",
    "        a,b = S[int( np.random.random()*len(S) )]\n",
    "        hk = [(s,t) for (s,t) in S if s >= a and t >= b ]\n",
    "        \n",
    "    return (a,b)"
   ]
  },
  {
   "cell_type": "code",
   "execution_count": 121,
   "metadata": {
    "collapsed": false
   },
   "outputs": [
    {
     "data": {
      "text/plain": [
       "{(1, 1): 15,\n",
       " (1, 2): 13,\n",
       " (1, 3): 12,\n",
       " (1, 4): 10,\n",
       " (1, 5): 7,\n",
       " (2, 1): 14,\n",
       " (2, 2): 11,\n",
       " (2, 3): 6,\n",
       " (2, 4): 1,\n",
       " (3, 1): 9,\n",
       " (3, 2): 8,\n",
       " (3, 3): 5,\n",
       " (4, 1): 4,\n",
       " (4, 2): 2,\n",
       " (5, 1): 3}"
      ]
     },
     "execution_count": 121,
     "metadata": {},
     "output_type": "execute_result"
    }
   ],
   "source": [
    "# generate random staircase tableaux\n",
    "\n",
    "L = [5,4,3,2,1]\n",
    "T = [ (a, b+1) for a in L for b in range(N-a+1)]\n",
    "P = { t: 0 for t in T }\n",
    "S = [s for s in T if P[s] == 0]\n",
    "\n",
    "for k in range( len(T) ):\n",
    "    P[hook(S)] = k+1\n",
    "    S = [s for s in T if P[s] == 0]\n",
    "\n",
    "P"
   ]
  },
  {
   "cell_type": "code",
   "execution_count": 122,
   "metadata": {
    "collapsed": false
   },
   "outputs": [
    {
     "name": "stdout",
     "output_type": "stream",
     "text": [
      "[(5, 1), (4, 1), (4, 2), (3, 1), (3, 2), (3, 3), (2, 1), (2, 2), (2, 3), (2, 4), (1, 1), (1, 2), (1, 3), (1, 4), (1, 5)]\n"
     ]
    },
    {
     "data": {
      "text/plain": [
       "array([[15, 13, 12, 10,  7],\n",
       "       [14, 11,  6,  1,  0],\n",
       "       [ 9,  8,  5,  0,  0],\n",
       "       [ 4,  2,  0,  0,  0],\n",
       "       [ 3,  0,  0,  0,  0]])"
      ]
     },
     "execution_count": 122,
     "metadata": {},
     "output_type": "execute_result"
    }
   ],
   "source": [
    "# show off result\n",
    "\n",
    "x = np.zeros((5,5)).astype(int)\n",
    "\n",
    "print T\n",
    "\n",
    "for (a,b) in T:\n",
    "    x[a-1,b-1] = P[a,b]\n",
    "    \n",
    "x"
   ]
  },
  {
   "cell_type": "code",
   "execution_count": 124,
   "metadata": {
    "collapsed": false
   },
   "outputs": [
    {
     "name": "stdout",
     "output_type": "stream",
     "text": [
      "15  13  12  10   7  \n",
      "14  11   6   1  \n",
      " 9   8   5  \n",
      " 4   2  \n",
      " 3  \n"
     ]
    }
   ],
   "source": [
    "# atlernatie style\n",
    "\n",
    "for a in range(5):\n",
    "    x = \"\"\n",
    "    for b in range(5-a):\n",
    "        x += (\" \" + str(P[a+1,b+1]))[-2:] + \"  \"\n",
    "    print x"
   ]
  },
  {
   "cell_type": "code",
   "execution_count": 3,
   "metadata": {
    "collapsed": true
   },
   "outputs": [],
   "source": [
    "# staircase tableau --> sorting network"
   ]
  },
  {
   "cell_type": "code",
   "execution_count": 4,
   "metadata": {
    "collapsed": true
   },
   "outputs": [],
   "source": [
    "# sorting network --> staircase tablea"
   ]
  },
  {
   "cell_type": "code",
   "execution_count": null,
   "metadata": {
    "collapsed": true
   },
   "outputs": [],
   "source": []
  }
 ],
 "metadata": {
  "kernelspec": {
   "display_name": "Python 2",
   "language": "python",
   "name": "python2"
  },
  "language_info": {
   "codemirror_mode": {
    "name": "ipython",
    "version": 2
   },
   "file_extension": ".py",
   "mimetype": "text/x-python",
   "name": "python",
   "nbconvert_exporter": "python",
   "pygments_lexer": "ipython2",
   "version": "2.7.10"
  }
 },
 "nbformat": 4,
 "nbformat_minor": 0
}
