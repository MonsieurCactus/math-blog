{
 "cells": [
  {
   "cell_type": "code",
   "execution_count": 32,
   "metadata": {
    "collapsed": true
   },
   "outputs": [],
   "source": [
    "import numpy as np"
   ]
  },
  {
   "cell_type": "code",
   "execution_count": 2,
   "metadata": {
    "collapsed": true
   },
   "outputs": [],
   "source": [
    "# https://stackoverflow.com/questions/11175131/code-for-greatest-common-divisor-in-python"
   ]
  },
  {
   "cell_type": "code",
   "execution_count": 5,
   "metadata": {
    "collapsed": true
   },
   "outputs": [],
   "source": [
    "import inspect\n",
    "from fractions import gcd"
   ]
  },
  {
   "cell_type": "code",
   "execution_count": 6,
   "metadata": {},
   "outputs": [
    {
     "name": "stdout",
     "output_type": "stream",
     "text": [
      "def gcd(a, b):\n",
      "    \"\"\"Calculate the Greatest Common Divisor of a and b.\n",
      "\n",
      "    Unless b==0, the result will have the same sign as b (so that when\n",
      "    b is divided by it, the result comes out positive).\n",
      "    \"\"\"\n",
      "    while b:\n",
      "        a, b = b, a%b\n",
      "    return a\n",
      "\n"
     ]
    }
   ],
   "source": [
    "print inspect.getsource(gcd)"
   ]
  },
  {
   "cell_type": "code",
   "execution_count": 3,
   "metadata": {
    "collapsed": true
   },
   "outputs": [],
   "source": [
    "def N(a):\n",
    "    return a.imag**2 + a.real**2"
   ]
  },
  {
   "cell_type": "code",
   "execution_count": 45,
   "metadata": {},
   "outputs": [
    {
     "data": {
      "text/plain": [
       "((1+0j), 0j, [1, (-3-6j), -1, -2, -1, 0])"
      ]
     },
     "execution_count": 45,
     "metadata": {},
     "output_type": "execute_result"
    }
   ],
   "source": [
    "def gcd2(a,b):\n",
    "    \n",
    "    x = [0]\n",
    "        \n",
    "    while b:\n",
    "        \n",
    "        while (a.real < 0) or (a.imag < 0):\n",
    "            a = 1j*a\n",
    "        while (b.real < 0) or (b.imag < 0):\n",
    "            b = 1j*b\n",
    "\n",
    "            \n",
    "        if N(b) > N(a):\n",
    "            a,b = b,a\n",
    "            x = [0] + x\n",
    "\n",
    "        c = a + 1*b\n",
    "        y = 1\n",
    "\n",
    "        if N(c) > N(a - 1*b):\n",
    "            c = a - 1*b\n",
    "            y = -1\n",
    "        if N(c) > N(a + 1j*b):\n",
    "            c = a + 1j*b\n",
    "            y = 1j\n",
    "        if N(c) > N(a - 1j*b):\n",
    "            c = a - 1j*b\n",
    "            y = -1j\n",
    "            \n",
    "        a , b = c , b\n",
    "        x[0] += y\n",
    "    \n",
    "\n",
    "        \n",
    "    return a,b,x\n",
    "\n",
    "gcd2(1+16j, 5+22j)"
   ]
  },
  {
   "cell_type": "code",
   "execution_count": 39,
   "metadata": {},
   "outputs": [
    {
     "name": "stdout",
     "output_type": "stream",
     "text": [
      "\n"
     ]
    }
   ],
   "source": [
    "f = lambda x,b  : int(round((x*1.0)%b ))\n",
    "g = lambda x,b  : int(round(((x*1.0/b)%1)*b ))"
   ]
  },
  {
   "cell_type": "code",
   "execution_count": 41,
   "metadata": {},
   "outputs": [
    {
     "name": "stdout",
     "output_type": "stream",
     "text": [
      " 0 0 0 0 0 0 0 0 0 0 0 0 0 0 0 0 0 0 0 0 0 0 0 0 0 0 0 0 0 0 0 0 0 0 0 0 0 0 0 0 0 0 0 0 0 0 0 0 0 0 0 0 0 0 0 0 0 0 0 0 0 0 0 0 0 0 0 0 0 0 0 0 0 0 0 0 0 0 0 0 0 0 0 0 0 0 0 0 0 0 0 0 0 0 0 0 0 0 0 0\n"
     ]
    }
   ],
   "source": [
    "for t in range(100):\n",
    "    a, b = int(100*np.random.random()), int(100*np.random.random())\n",
    "\n",
    "    if a < b:\n",
    "        a,b = b,a\n",
    "    \n",
    "    print f(a,b) - g(a,b),"
   ]
  },
  {
   "cell_type": "code",
   "execution_count": 13,
   "metadata": {},
   "outputs": [
    {
     "data": {
      "text/plain": [
       "101.0"
      ]
     },
     "execution_count": 13,
     "metadata": {},
     "output_type": "execute_result"
    }
   ],
   "source": [
    "N(1+10j)"
   ]
  },
  {
   "cell_type": "code",
   "execution_count": null,
   "metadata": {
    "collapsed": true
   },
   "outputs": [],
   "source": []
  }
 ],
 "metadata": {
  "kernelspec": {
   "display_name": "Python 2",
   "language": "python",
   "name": "python2"
  },
  "language_info": {
   "codemirror_mode": {
    "name": "ipython",
    "version": 2
   },
   "file_extension": ".py",
   "mimetype": "text/x-python",
   "name": "python",
   "nbconvert_exporter": "python",
   "pygments_lexer": "ipython2",
   "version": "2.7.12"
  }
 },
 "nbformat": 4,
 "nbformat_minor": 2
}
