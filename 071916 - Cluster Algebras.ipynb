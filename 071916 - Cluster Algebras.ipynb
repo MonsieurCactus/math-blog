{
 "cells": [
  {
   "cell_type": "code",
   "execution_count": 1,
   "metadata": {
    "collapsed": true
   },
   "outputs": [],
   "source": [
    "from sympy import * "
   ]
  },
  {
   "cell_type": "markdown",
   "metadata": {},
   "source": [
    "# Testing Sympy with Cluster Algebras\n",
    "\n",
    "[Sympy](http://www.sympy.org/en/index.html) \n",
    "\n",
    "> SymPy is a Python library for symbolic mathematics. It aims to become a full-featured computer algebra system (CAS) while keeping the code as simple as possible in order to be comprehensible and easily extensible. SymPy is written entirely in Python.\n",
    "\n",
    "As a test case of Sympy, we will do some algebra computations from Wikiedia's page on [Cluster Algebra](https://en.wikipedia.org/wiki/Cluster_algebra)\n",
    "\n",
    "![](http://i.imgur.com/rUIML9X.png)"
   ]
  },
  {
   "cell_type": "code",
   "execution_count": 3,
   "metadata": {
    "collapsed": true
   },
   "outputs": [],
   "source": [
    "a,b = symbols('a b')"
   ]
  },
  {
   "cell_type": "code",
   "execution_count": 4,
   "metadata": {
    "collapsed": false
   },
   "outputs": [
    {
     "data": {
      "text/plain": [
       "(b, (b + 1)/a)"
      ]
     },
     "execution_count": 4,
     "metadata": {},
     "output_type": "execute_result"
    }
   ],
   "source": [
    "b, a = (1+b)/a, b\n",
    "a,b"
   ]
  },
  {
   "cell_type": "code",
   "execution_count": 5,
   "metadata": {
    "collapsed": false
   },
   "outputs": [
    {
     "data": {
      "text/plain": [
       "((b + 1)/a, (1 + (b + 1)/a)/b)"
      ]
     },
     "execution_count": 5,
     "metadata": {},
     "output_type": "execute_result"
    }
   ],
   "source": [
    "b, a = (1+b)/a, b\n",
    "a,b"
   ]
  },
  {
   "cell_type": "code",
   "execution_count": 6,
   "metadata": {
    "collapsed": false
   },
   "outputs": [
    {
     "data": {
      "text/plain": [
       "((1 + (b + 1)/a)/b, a*(1 + (1 + (b + 1)/a)/b)/(b + 1))"
      ]
     },
     "execution_count": 6,
     "metadata": {},
     "output_type": "execute_result"
    }
   ],
   "source": [
    "b, a = (1+b)/a, b\n",
    "a,b"
   ]
  },
  {
   "cell_type": "code",
   "execution_count": 7,
   "metadata": {
    "collapsed": false
   },
   "outputs": [
    {
     "data": {
      "text/plain": [
       "(a*(1 + (1 + (b + 1)/a)/b)/(b + 1),\n",
       " b*(a*(1 + (1 + (b + 1)/a)/b)/(b + 1) + 1)/(1 + (b + 1)/a))"
      ]
     },
     "execution_count": 7,
     "metadata": {},
     "output_type": "execute_result"
    }
   ],
   "source": [
    "b, a = (1+b)/a, b\n",
    "a,b"
   ]
  },
  {
   "cell_type": "code",
   "execution_count": 8,
   "metadata": {
    "collapsed": false
   },
   "outputs": [
    {
     "data": {
      "text/plain": [
       "(b*(a*(1 + (1 + (b + 1)/a)/b)/(b + 1) + 1)/(1 + (b + 1)/a),\n",
       " (b + 1)*(b*(a*(1 + (1 + (b + 1)/a)/b)/(b + 1) + 1)/(1 + (b + 1)/a) + 1)/(a*(1 + (1 + (b + 1)/a)/b)))"
      ]
     },
     "execution_count": 8,
     "metadata": {},
     "output_type": "execute_result"
    }
   ],
   "source": [
    "b, a = (1+b)/a, b\n",
    "a,b"
   ]
  },
  {
   "cell_type": "code",
   "execution_count": 9,
   "metadata": {
    "collapsed": false
   },
   "outputs": [
    {
     "data": {
      "text/plain": [
       "((b + 1)*(b*(a*(1 + (1 + (b + 1)/a)/b)/(b + 1) + 1)/(1 + (b + 1)/a) + 1)/(a*(1 + (1 + (b + 1)/a)/b)),\n",
       " (1 + (b + 1)/a)*(1 + (b + 1)*(b*(a*(1 + (1 + (b + 1)/a)/b)/(b + 1) + 1)/(1 + (b + 1)/a) + 1)/(a*(1 + (1 + (b + 1)/a)/b)))/(b*(a*(1 + (1 + (b + 1)/a)/b)/(b + 1) + 1)))"
      ]
     },
     "execution_count": 9,
     "metadata": {},
     "output_type": "execute_result"
    }
   ],
   "source": [
    "b, a = (1+b)/a, b\n",
    "a,b"
   ]
  },
  {
   "cell_type": "markdown",
   "metadata": {},
   "source": [
    "## No simplification\n",
    "\n",
    "We know from theory the algebra should simplify.  These have to do with the shape of a pentagon.  There is also equations for the hexagon and more\n",
    "\n",
    "![](http://i.imgur.com/xa2m1CX.png)"
   ]
  },
  {
   "cell_type": "code",
   "execution_count": 10,
   "metadata": {
    "collapsed": false
   },
   "outputs": [
    {
     "data": {
      "text/plain": [
       "b"
      ]
     },
     "execution_count": 10,
     "metadata": {},
     "output_type": "execute_result"
    }
   ],
   "source": [
    "simplify(a)"
   ]
  },
  {
   "cell_type": "code",
   "execution_count": 11,
   "metadata": {
    "collapsed": false
   },
   "outputs": [
    {
     "data": {
      "text/plain": [
       "(b + 1)/a"
      ]
     },
     "execution_count": 11,
     "metadata": {},
     "output_type": "execute_result"
    }
   ],
   "source": [
    "simplify(b)"
   ]
  },
  {
   "cell_type": "code",
   "execution_count": null,
   "metadata": {
    "collapsed": true
   },
   "outputs": [],
   "source": []
  }
 ],
 "metadata": {
  "kernelspec": {
   "display_name": "Python 2",
   "language": "python",
   "name": "python2"
  },
  "language_info": {
   "codemirror_mode": {
    "name": "ipython",
    "version": 2
   },
   "file_extension": ".py",
   "mimetype": "text/x-python",
   "name": "python",
   "nbconvert_exporter": "python",
   "pygments_lexer": "ipython2",
   "version": "2.7.10"
  }
 },
 "nbformat": 4,
 "nbformat_minor": 0
}
