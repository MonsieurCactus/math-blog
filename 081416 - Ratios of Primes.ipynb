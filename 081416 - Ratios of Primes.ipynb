{
 "cells": [
  {
   "cell_type": "code",
   "execution_count": 1,
   "metadata": {
    "collapsed": true
   },
   "outputs": [],
   "source": [
    "import numpy as np\n",
    "import matplotlib.pyplot as plt\n",
    "%matplotlib inline\n",
    "plt.rcParams['figure.figsize'] = 7,7"
   ]
  },
  {
   "cell_type": "code",
   "execution_count": 2,
   "metadata": {
    "collapsed": false
   },
   "outputs": [
    {
     "name": "stdout",
     "output_type": "stream",
     "text": [
      "1 2 3 4 5 6 7 8 9 10 11 12 13 14 15 16 17 18 19 20 21 22 23 24 25 26 27 28 29 30 31 32 33 34 35 36 37 38 39 40 41 42 43 44 45 46 47 48 49 50 51 52 53 54 55 56 57 58 59 60 61 62 63 64 65 66 67 68 69 70 71 72 73 74 75 76 77 78 79 80 81 82 83 84 85 86 87 88 89 90 91 92 93 94 95 96 97 98 99"
     ]
    },
    {
     "data": {
      "text/plain": [
       "(50847534,)"
      ]
     },
     "execution_count": 2,
     "metadata": {},
     "output_type": "execute_result"
    },
    {
     "name": "stdout",
     "output_type": "stream",
     "text": [
      "\n"
     ]
    }
   ],
   "source": [
    "# primes less than 1000000000\n",
    "\n",
    "import numpy as np\n",
    "\n",
    "N = 10000000\n",
    "x = np.zeros(N).astype(int)\n",
    "x[0] = 1\n",
    "x[1] = 1\n",
    "\n",
    "p = 0\n",
    "while( p < np.sqrt(N)):\n",
    "    p = p + 1\n",
    "    while(x[p] == 1):\n",
    "        p += 1\n",
    "    x[2*p::p] = 1\n",
    "    \n",
    "P = np.where(x == 0)[0]\n",
    "\n",
    "for k in 1+np.arange(100-1):\n",
    "    print k,\n",
    "    x = np.zeros(N).astype(int)\n",
    "    for p in P[P < np.sqrt((k+1)*N)]:\n",
    "        #print x\n",
    "        if( (k*N)% p == 0):\n",
    "            x[0] = 1\n",
    "        x[ p - (k*N % p)::p] = 1\n",
    "    P = np.hstack((P, np.where(x == 0)[0] + k*N))\n",
    "\n",
    "P.shape"
   ]
  },
  {
   "cell_type": "code",
   "execution_count": 11,
   "metadata": {
    "collapsed": false
   },
   "outputs": [
    {
     "data": {
      "image/png": "[encoded data removed]",
      "text/plain": [
       "<matplotlib.figure.Figure at 0x7f5e45f43490>"
      ]
     },
     "metadata": {},
     "output_type": "display_data"
    }
   ],
   "source": [
    "#Q = P[P < 10000]\n",
    "\n",
    "#plt.hist([p*1.0/q for p in Q for q in Q if (p < 2*q)], bins=100)\n",
    "\n",
    "Q = P[P < 20000]\n",
    "\n",
    "plt.hist([p*1.0/q for p in Q for q in Q if (p < 2*q)], bins=100, color='#5B5AE8')\n",
    "\n",
    "\n",
    "plt.show()"
   ]
  },
  {
   "cell_type": "code",
   "execution_count": 2,
   "metadata": {
    "collapsed": false
   },
   "outputs": [
    {
     "data": {
      "image/png": "[encoded data removed]",
      "text/plain": [
       "<matplotlib.figure.Figure at 0x7f436f787cd0>"
      ]
     },
     "metadata": {},
     "output_type": "display_data"
    }
   ],
   "source": [
    "Q = np.arange(1000)\n",
    "\n",
    "plt.hist([p*1.0/q for p in Q for q in Q if (p < 2*q)], bins=500, color='#FFB828')\n",
    "\n",
    "\n",
    "plt.show()"
   ]
  },
  {
   "cell_type": "code",
   "execution_count": 4,
   "metadata": {
    "collapsed": true
   },
   "outputs": [],
   "source": [
    "def gcd(a, b):\n",
    "    \"\"\"Calculate the Greatest Common Divisor of a and b.\n",
    "\n",
    "    Unless b==0, the result will have the same sign as b (so that when\n",
    "    b is divided by it, the result comes out positive).\n",
    "    \"\"\"\n",
    "    while b:\n",
    "        a, b = b, a%b\n",
    "    return a"
   ]
  },
  {
   "cell_type": "code",
   "execution_count": 5,
   "metadata": {
    "collapsed": false
   },
   "outputs": [
    {
     "data": {
      "text/plain": [
       "0"
      ]
     },
     "execution_count": 5,
     "metadata": {},
     "output_type": "execute_result"
    }
   ],
   "source": [
    "gcd(0,0)"
   ]
  },
  {
   "cell_type": "code",
   "execution_count": 8,
   "metadata": {
    "collapsed": false
   },
   "outputs": [
    {
     "name": "stdout",
     "output_type": "stream",
     "text": [
      "2.0\n"
     ]
    },
    {
     "data": {
      "image/png": "[encoded data removed]",
      "text/plain": [
       "<matplotlib.figure.Figure at 0x7f435e199ed0>"
      ]
     },
     "metadata": {},
     "output_type": "display_data"
    }
   ],
   "source": [
    "x = 0.75\n",
    "\n",
    "dx = 0.01\n",
    "\n",
    "#X = [ b*1.0/a for a in range(1,1000+1) for b in range(1,2*a+1) if gcd(a,b) == 1 and b*1.0/a < x +dx and b*1.0/a > x-dx]\n",
    "\n",
    "X = [ b*1.0/a for a in range(1,1000+1) for b in range(1,2*a+1) if gcd(a,b) == 1 ]\n",
    "\n",
    "\n",
    "print np.max(X)\n",
    "\n",
    "plt.hist( X, bins=100, color=\"#2E2FE8\")\n",
    "\n",
    "plt.show()"
   ]
  },
  {
   "cell_type": "code",
   "execution_count": 3,
   "metadata": {
    "collapsed": true
   },
   "outputs": [],
   "source": [
    "def gcd(a, b):\n",
    "    \"\"\"Calculate the Greatest Common Divisor of a and b.\n",
    "\n",
    "    Unless b==0, the result will have the same sign as b (so that when\n",
    "    b is divided by it, the result comes out positive).\n",
    "    \"\"\"\n",
    "    while b:\n",
    "        a, b = b, a%b\n",
    "    return a"
   ]
  },
  {
   "cell_type": "code",
   "execution_count": 46,
   "metadata": {
    "collapsed": false
   },
   "outputs": [
    {
     "data": {
      "text/plain": [
       "array([ 6817.,  6817.,  6817., ...,     0.,     0.,     0.])"
      ]
     },
     "execution_count": 46,
     "metadata": {},
     "output_type": "execute_result"
    }
   ],
   "source": [
    "t = np.arange(0,1,0.1**5)\n",
    "x = np.zeros(10**5)\n",
    "\n",
    "N = 150\n",
    "\n",
    "for a in range(N):\n",
    "    for b in range(a):\n",
    "        if gcd(a,b)==1:\n",
    "            x[ t < b*1.0/a ] += 1.0\n",
    "            \n",
    "x"
   ]
  },
  {
   "cell_type": "code",
   "execution_count": 37,
   "metadata": {
    "collapsed": false
   },
   "outputs": [
    {
     "data": {
      "text/plain": [
       "(-0.1, 1.1)"
      ]
     },
     "execution_count": 37,
     "metadata": {},
     "output_type": "execute_result"
    },
    {
     "data": {
      "image/png": "[encoded data removed]",
      "text/plain": [
       "<matplotlib.figure.Figure at 0x7fafcb3b4750>"
      ]
     },
     "metadata": {},
     "output_type": "display_data"
    }
   ],
   "source": [
    "plt.plot(t, x/x[0])\n",
    "\n",
    "dt = 0.1\n",
    "plt.xlim([0-dt, 1 + dt])\n",
    "plt.ylim([0-dt, 1 + dt])"
   ]
  },
  {
   "cell_type": "code",
   "execution_count": null,
   "metadata": {
    "collapsed": true
   },
   "outputs": [],
   "source": []
  },
  {
   "cell_type": "code",
   "execution_count": 80,
   "metadata": {
    "collapsed": false
   },
   "outputs": [
    {
     "name": "stdout",
     "output_type": "stream",
     "text": [
      "(array([    6,     7,     8, ..., 93791, 93792, 93793]),)\n",
      "(array([    0,     1,     2, ..., 99997, 99998, 99999]),)\n"
     ]
    },
    {
     "data": {
      "text/plain": [
       "(-0.01, 0.01)"
      ]
     },
     "execution_count": 80,
     "metadata": {},
     "output_type": "execute_result"
    },
    {
     "data": {
      "image/png": "[encoded data removed]",
      "text/plain": [
       "<matplotlib.figure.Figure at 0x7fafca5785d0>"
      ]
     },
     "metadata": {},
     "output_type": "display_data"
    }
   ],
   "source": [
    "#plt.plot( (t - 0.5), (x/x[0]-0.5) )\n",
    "\n",
    "a = t - 0.5\n",
    "b = x/x[0] - 0.5\n",
    "\n",
    "mask = np.where(a+b > 0.00005)\n",
    "plt.plot( (a-b)[mask], (a+b)[mask], '.', color=\"red\", markersize=2)\n",
    "print mask\n",
    "\n",
    "mask = np.where(a+b < 0.00005)\n",
    "plt.plot( (a-b)[mask], (a+b)[mask], '.', color=\"blue\", markersize=2)\n",
    "print mask\n",
    "\n",
    "z = 0.7\n",
    "dz = 0.01\n",
    "\n",
    "plt.xlim([ z - dz, z + dz])\n",
    "plt.ylim([ 0 - dz, 0 + dz])"
   ]
  },
  {
   "cell_type": "code",
   "execution_count": 43,
   "metadata": {
    "collapsed": false
   },
   "outputs": [
    {
     "data": {
      "text/plain": [
       "(-0.025, 0.025)"
      ]
     },
     "execution_count": 43,
     "metadata": {},
     "output_type": "execute_result"
    },
    {
     "data": {
      "image/png": "[encoded data removed]",
      "text/plain": [
       "<matplotlib.figure.Figure at 0x7fafca86c790>"
      ]
     },
     "metadata": {},
     "output_type": "display_data"
    }
   ],
   "source": [
    "a = t - 0.5\n",
    "b = x/x[0] - 0.5\n",
    "\n",
    "plt.plot(a-b, a+b)\n",
    "\n",
    "z = 0.5\n",
    "dz = 0.025\n",
    "\n",
    "plt.xlim([ z - dz, z + dz])\n",
    "plt.ylim([ 0 - dz, 0 + dz])"
   ]
  },
  {
   "cell_type": "code",
   "execution_count": 49,
   "metadata": {
    "collapsed": false
   },
   "outputs": [
    {
     "data": {
      "text/plain": [
       "(-0.005, 0.005)"
      ]
     },
     "execution_count": 49,
     "metadata": {},
     "output_type": "execute_result"
    },
    {
     "data": {
      "image/png": "[encoded data removed]",
      "text/plain": [
       "<matplotlib.figure.Figure at 0x7fafcabf4550>"
      ]
     },
     "metadata": {},
     "output_type": "display_data"
    }
   ],
   "source": [
    "a = t - 0.5\n",
    "b = x/x[0] - 0.5\n",
    "\n",
    "plt.plot(a-b, a+b)\n",
    "\n",
    "z = 0.55\n",
    "dz = 0.005\n",
    "\n",
    "plt.xlim([ z - dz, z + dz])\n",
    "plt.ylim([ 0 - dz, 0 + dz])"
   ]
  },
  {
   "cell_type": "code",
   "execution_count": 55,
   "metadata": {
    "collapsed": false
   },
   "outputs": [
    {
     "data": {
      "text/plain": [
       "(-0.005, 0.005)"
      ]
     },
     "execution_count": 55,
     "metadata": {},
     "output_type": "execute_result"
    },
    {
     "data": {
      "image/png": "[encoded data removed]",
      "text/plain": [
       "<matplotlib.figure.Figure at 0x7fafca5a0550>"
      ]
     },
     "metadata": {},
     "output_type": "display_data"
    }
   ],
   "source": [
    "a = t - 0.5\n",
    "b = x/x[0] - 0.5\n",
    "\n",
    "plt.plot(a-b, a+b)\n",
    "\n",
    "z = 0.5\n",
    "dz = 0.005\n",
    "\n",
    "plt.xlim([ z - dz, z + dz])\n",
    "plt.ylim([ 0 - dz, 0 + dz])"
   ]
  },
  {
   "cell_type": "code",
   "execution_count": null,
   "metadata": {
    "collapsed": true
   },
   "outputs": [],
   "source": []
  }
 ],
 "metadata": {
  "kernelspec": {
   "display_name": "Python 2",
   "language": "python",
   "name": "python2"
  },
  "language_info": {
   "codemirror_mode": {
    "name": "ipython",
    "version": 2
   },
   "file_extension": ".py",
   "mimetype": "text/x-python",
   "name": "python",
   "nbconvert_exporter": "python",
   "pygments_lexer": "ipython2",
   "version": "2.7.10"
  }
 },
 "nbformat": 4,
 "nbformat_minor": 0
}
