{
 "cells": [
  {
   "cell_type": "code",
   "execution_count": 1,
   "metadata": {
    "collapsed": true
   },
   "outputs": [],
   "source": [
    "import numpy as np\n",
    "import matplotlib.pyplot as plt\n",
    "%matplotlib inline\n",
    "plt.rcParams['figure.figsize'] = 8,8"
   ]
  },
  {
   "cell_type": "code",
   "execution_count": 3,
   "metadata": {
    "collapsed": false
   },
   "outputs": [
    {
     "data": {
      "text/html": [
       "\n",
       "<style>\n",
       "span.kernel_indicator_name {font-size: 12px;}\n",
       "div p { font-size: 20px; }\n",
       "</style>\n"
      ],
      "text/plain": [
       "<IPython.core.display.HTML object>"
      ]
     },
     "execution_count": 3,
     "metadata": {},
     "output_type": "execute_result"
    }
   ],
   "source": [
    "# http://stackoverflow.com/questions/32156248/how-do-i-set-custom-css-for-my-ipython-ihaskell-jupyter-notebook\n",
    "\n",
    "from IPython.core.display import HTML\n",
    "HTML(\"\"\"\n",
    "<style>\n",
    "span.kernel_indicator_name {font-size: 12px;}\n",
    "div p { font-size: 20px; }\n",
    "</style>\n",
    "\"\"\")\n",
    "\n",
    "#kernel_indicator > span\n",
    "#notebook-container > div.cell.text_cell.rendered.selected > div.inner_cell > div.text_cell_render.rendered_html"
   ]
  },
  {
   "cell_type": "code",
   "execution_count": 2,
   "metadata": {
    "collapsed": false
   },
   "outputs": [
    {
     "name": "stdout",
     "output_type": "stream",
     "text": [
      "1 2 3 4 5 6 7 8 9 10 11 12 13 14 15 16 17 18 19 20 21 22 23 24 25 26 27 28 29 30 31 32 33 34 35 36 37 38 39 40 41 42 43 44 45 46 47 48 49 50 51 52 53 54 55 56 57 58 59 60 61 62 63 64 65 66 67 68 69 70 71 72 73 74 75 76 77 78 79 80 81 82 83 84 85 86 87 88 89 90 91 92 93 94 95 96 97 98 99 4.98338603973\n"
     ]
    },
    {
     "data": {
      "text/plain": [
       "(5761455,)"
      ]
     },
     "execution_count": 2,
     "metadata": {},
     "output_type": "execute_result"
    }
   ],
   "source": [
    "import time\n",
    "import numpy as np\n",
    "\n",
    "t = time.time()\n",
    "\n",
    "N = 1000000\n",
    "x = np.zeros(N).astype(int)\n",
    "x[0] = 1\n",
    "x[1] = 1\n",
    "\n",
    "p = 0\n",
    "while( p < np.sqrt(N)):\n",
    "    p = p + 1\n",
    "    while(x[p] == 1):\n",
    "        p += 1\n",
    "    x[2*p::p] = 1\n",
    "    \n",
    "P = np.where(x == 0)[0]\n",
    "\n",
    "for k in 1+np.arange(100-1):\n",
    "    print k,\n",
    "    x = np.zeros(N).astype(int)\n",
    "    for p in P[P < np.sqrt((k+1)*N)]:\n",
    "        if( (k*N)% p == 0):\n",
    "            x[0] = 1\n",
    "        x[ p - (k*N % p)::p] = 1\n",
    "\n",
    "    P = np.hstack((P, np.where(x == 0)[0] + k*N))\n",
    "\n",
    "print time.time() - t\n",
    "P.shape"
   ]
  },
  {
   "cell_type": "markdown",
   "metadata": {},
   "source": [
    "$$ \\frac{1}{e^t} \\sum_{p < e^t} \\log p \\approx 1$$\n",
    "\n",
    "A lot of noise at frequencies only dogs can hear..."
   ]
  },
  {
   "cell_type": "code",
   "execution_count": 18,
   "metadata": {
    "collapsed": false,
    "scrolled": true
   },
   "outputs": [
    {
     "name": "stderr",
     "output_type": "stream",
     "text": [
      "/usr/local/lib/python2.7/dist-packages/ipykernel/__main__.py:9: RuntimeWarning: invalid value encountered in divide\n"
     ]
    },
    {
     "data": {
      "image/png": "[encoded data removed]",
      "text/plain": [
       "<matplotlib.figure.Figure at 0x7f93230407d0>"
      ]
     },
     "metadata": {},
     "output_type": "display_data"
    }
   ],
   "source": [
    "N = 10000\n",
    "\n",
    "x = np.zeros(N)\n",
    "t = np.arange(N)\n",
    "\n",
    "for p in P[P < N]:\n",
    "    x[ t > p] += np.log(p)\n",
    "    \n",
    "plt.plot(x/t, '.', markersize=0.25)\n",
    "plt.grid(True)"
   ]
  },
  {
   "cell_type": "code",
   "execution_count": null,
   "metadata": {
    "collapsed": true
   },
   "outputs": [],
   "source": []
  }
 ],
 "metadata": {
  "kernelspec": {
   "display_name": "Python 2",
   "language": "python",
   "name": "python2"
  },
  "language_info": {
   "codemirror_mode": {
    "name": "ipython",
    "version": 2
   },
   "file_extension": ".py",
   "mimetype": "text/x-python",
   "name": "python",
   "nbconvert_exporter": "python",
   "pygments_lexer": "ipython2",
   "version": "2.7.6"
  }
 },
 "nbformat": 4,
 "nbformat_minor": 0
}
