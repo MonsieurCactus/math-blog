{
 "cells": [
  {
   "cell_type": "code",
   "execution_count": 30,
   "metadata": {
    "collapsed": true
   },
   "outputs": [],
   "source": [
    "import numpy as np\n",
    "import matplotlib.pyplot as plt\n",
    "%matplotlib inline\n",
    "plt.rcParams['figure.figsize'] = 7,7"
   ]
  },
  {
   "cell_type": "markdown",
   "metadata": {},
   "source": [
    "# Ways to Generate Random Planar Graphs"
   ]
  },
  {
   "cell_type": "code",
   "execution_count": 6,
   "metadata": {
    "collapsed": true
   },
   "outputs": [],
   "source": [
    "# I now how to generate random points, but how to decide which two are \"connected\"?\n",
    "\n",
    "# why only two?"
   ]
  },
  {
   "cell_type": "code",
   "execution_count": 13,
   "metadata": {
    "collapsed": true
   },
   "outputs": [],
   "source": [
    "from scipy.spatial import Voronoi"
   ]
  },
  {
   "cell_type": "code",
   "execution_count": 50,
   "metadata": {
    "collapsed": true
   },
   "outputs": [],
   "source": [
    "pt = np.random.random((10,2))"
   ]
  },
  {
   "cell_type": "code",
   "execution_count": 51,
   "metadata": {
    "collapsed": false
   },
   "outputs": [],
   "source": [
    "x = sp.spatial.Voronoi(pt)"
   ]
  },
  {
   "cell_type": "code",
   "execution_count": 52,
   "metadata": {
    "collapsed": false
   },
   "outputs": [
    {
     "data": {
      "text/plain": [
       "array([[ 0.15146553,  1.05894634],\n",
       "       [ 0.63202472,  0.41748959],\n",
       "       [ 0.05377139,  0.64866923],\n",
       "       [ 0.240545  ,  0.55629071],\n",
       "       [ 0.15443941,  1.05113837],\n",
       "       [ 0.25428197,  0.57024364],\n",
       "       [ 0.38414435,  0.6119965 ],\n",
       "       [ 0.35270402,  0.76465851],\n",
       "       [ 0.56501366,  0.49209977],\n",
       "       [ 0.43977027,  0.60929383],\n",
       "       [ 0.66804608,  0.98615225],\n",
       "       [ 0.56907543,  0.8468299 ]])"
      ]
     },
     "execution_count": 52,
     "metadata": {},
     "output_type": "execute_result"
    }
   ],
   "source": [
    "x.vertices"
   ]
  },
  {
   "cell_type": "code",
   "execution_count": 53,
   "metadata": {
    "collapsed": false
   },
   "outputs": [
    {
     "data": {
      "text/plain": [
       "[[3, -1, 2],\n",
       " [],\n",
       " [-1, 1],\n",
       " [2, 0, -1],\n",
       " [5, 3, 2, 0, 4],\n",
       " [7, 4, 5, 6],\n",
       " [11, 9, 8, 10],\n",
       " [10, -1, 1, 8],\n",
       " [9, 6, 5, 3, -1, 1, 8],\n",
       " [11, 7, 6, 9],\n",
       " [11, 7, 4, 0, -1, 10]]"
      ]
     },
     "execution_count": 53,
     "metadata": {},
     "output_type": "execute_result"
    }
   ],
   "source": [
    "x.regions"
   ]
  },
  {
   "cell_type": "code",
   "execution_count": 54,
   "metadata": {
    "collapsed": false
   },
   "outputs": [
    {
     "data": {
      "text/plain": [
       "[[-1, 3],\n",
       " [-1, 2],\n",
       " [2, 3],\n",
       " [-1, 1],\n",
       " [-1, 1],\n",
       " [-1, 0],\n",
       " [0, 2],\n",
       " [0, 4],\n",
       " [3, 5],\n",
       " [4, 5],\n",
       " [4, 7],\n",
       " [5, 6],\n",
       " [6, 7],\n",
       " [8, 10],\n",
       " [8, 9],\n",
       " [9, 11],\n",
       " [10, 11],\n",
       " [1, 8],\n",
       " [-1, 10],\n",
       " [6, 9],\n",
       " [7, 11]]"
      ]
     },
     "execution_count": 54,
     "metadata": {},
     "output_type": "execute_result"
    }
   ],
   "source": [
    "x.ridge_vertices"
   ]
  },
  {
   "cell_type": "code",
   "execution_count": 55,
   "metadata": {
    "collapsed": false
   },
   "outputs": [
    {
     "data": {
      "text/plain": [
       "array([[8, 1],\n",
       "       [8, 0],\n",
       "       [8, 4],\n",
       "       [7, 9],\n",
       "       [7, 1],\n",
       "       [0, 3],\n",
       "       [0, 4],\n",
       "       [4, 3],\n",
       "       [4, 1],\n",
       "       [4, 2],\n",
       "       [2, 3],\n",
       "       [2, 1],\n",
       "       [2, 6],\n",
       "       [5, 9],\n",
       "       [5, 1],\n",
       "       [5, 6],\n",
       "       [5, 3],\n",
       "       [9, 1],\n",
       "       [9, 3],\n",
       "       [1, 6],\n",
       "       [6, 3]], dtype=int32)"
      ]
     },
     "execution_count": 55,
     "metadata": {},
     "output_type": "execute_result"
    }
   ],
   "source": [
    "x.ridge_points"
   ]
  },
  {
   "cell_type": "markdown",
   "metadata": {},
   "source": [
    "# How to use SciPy's Voronoi Algorithm\n",
    "\n",
    "at this point we are like driving a car.  insert the case, press the gas and it runs!\n",
    "\n",
    "do we have any idea what is going on inside?  NO\n",
    "\n",
    "The algorithm is based on quality C code called [Qhull](http://www.qhull.org/) and mainly we need to interpret the points we just generated in Qhull's `voronoi` object.\n",
    "\n",
    "Voronoi incidentally was a **number theorist** but we are not there yet."
   ]
  },
  {
   "cell_type": "code",
   "execution_count": 60,
   "metadata": {
    "collapsed": true
   },
   "outputs": [],
   "source": [
    "pt = np.random.random((10,2))\n",
    "x = sp.spatial.Voronoi(pt)"
   ]
  },
  {
   "cell_type": "code",
   "execution_count": 64,
   "metadata": {
    "collapsed": false
   },
   "outputs": [
    {
     "data": {
      "image/png": "[encoded data removed]",
      "text/plain": [
       "<matplotlib.figure.Figure at 0x7f21cf590610>"
      ]
     },
     "metadata": {},
     "output_type": "display_data"
    }
   ],
   "source": [
    "# trial an error to figure out the type structure of [x]\n",
    "\n",
    "plt.plot(pt[:,0], pt[:,1], '.', markersize=10)\n",
    "\n",
    "plt.plot(x.vertices[:,0], x.vertices[:,1], '.', markersize=5)\n",
    "\n",
    "# how to iterate through the x.regions object?\n",
    "for poly in x.regions:\n",
    "    z = np.array([ x.vertices[k] for k in poly if k >  0])\n",
    "    #print z\n",
    "    if z.shape[0] > 0:\n",
    "        plt.plot( z[:,0], z[:,1])\n",
    "\n",
    "#plt.xlim([0,2])\n",
    "#plt.ylim([0,2])"
   ]
  },
  {
   "cell_type": "markdown",
   "metadata": {},
   "source": [
    "# Google It\n",
    "\n",
    "responses like these, basically equivalent to \"i don't know\", suggest we write our own implementation"
   ]
  },
  {
   "cell_type": "code",
   "execution_count": null,
   "metadata": {
    "collapsed": true
   },
   "outputs": [],
   "source": []
  }
 ],
 "metadata": {
  "kernelspec": {
   "display_name": "Python 2",
   "language": "python",
   "name": "python2"
  },
  "language_info": {
   "codemirror_mode": {
    "name": "ipython",
    "version": 2
   },
   "file_extension": ".py",
   "mimetype": "text/x-python",
   "name": "python",
   "nbconvert_exporter": "python",
   "pygments_lexer": "ipython2",
   "version": "2.7.10"
  }
 },
 "nbformat": 4,
 "nbformat_minor": 0
}
