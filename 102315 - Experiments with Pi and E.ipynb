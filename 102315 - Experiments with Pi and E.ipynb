{
 "cells": [
  {
   "cell_type": "code",
   "execution_count": 1,
   "metadata": {
    "collapsed": true
   },
   "outputs": [],
   "source": [
    "import numpy as np\n",
    "import matplotlib.pyplot as plt\n",
    "%matplotlib inline\n",
    "plt.rcParams['figure.figsize'] = 7,7"
   ]
  },
  {
   "cell_type": "code",
   "execution_count": 44,
   "metadata": {
    "collapsed": false
   },
   "outputs": [
    {
     "data": {
      "text/plain": [
       "[array([6, 6]), array([4, 5]), array([5, 4])]"
      ]
     },
     "execution_count": 44,
     "metadata": {},
     "output_type": "execute_result"
    }
   ],
   "source": [
    "N = 30\n",
    "\n",
    "t =  np.arange(N)\n",
    "\n",
    "x = np.exp(t[...,None,None]) - np.pi**(t[None,...,None])  - np.pi**(t[None,None,...]) \n",
    "\n",
    "[z  for z in np.where(np.abs(x) < 0.00005)]"
   ]
  },
  {
   "cell_type": "code",
   "execution_count": 29,
   "metadata": {
    "collapsed": false
   },
   "outputs": [
    {
     "data": {
      "text/plain": [
       "-1.7673451282007591e-05"
      ]
     },
     "execution_count": 29,
     "metadata": {},
     "output_type": "execute_result"
    }
   ],
   "source": [
    "np.pi**4 + np.pi**5 - np.exp(6)"
   ]
  },
  {
   "cell_type": "code",
   "execution_count": 12,
   "metadata": {
    "collapsed": false
   },
   "outputs": [
    {
     "data": {
      "text/plain": [
       "[array([0, 1]), array([0, 0]), array([0, 0]), array([0, 0])]"
      ]
     },
     "execution_count": 12,
     "metadata": {},
     "output_type": "execute_result"
    }
   ],
   "source": [
    "N = 10\n",
    "\n",
    "t =  np.arange(N)\n",
    "\n",
    "x= np.exp(1)**(t[...,None,None,None])\n",
    "- np.exp(1)**(t[None,...,None,None])\n",
    "+ np.pi**(t[None,None,...,None])\n",
    "- np.pi**(t[None,None,None,...]) \n",
    "\n",
    "[z  for z in np.where(np.abs(x) < 5)]"
   ]
  },
  {
   "cell_type": "markdown",
   "metadata": {},
   "source": [
    "* $$ \\Large  \\pi^2  -  \\pi - 4  \\approx  e  $$ \n",
    "* $$ \\Large 9  -   2\\pi  \\approx   e  $$ "
   ]
  },
  {
   "cell_type": "code",
   "execution_count": 55,
   "metadata": {
    "collapsed": false
   },
   "outputs": [
    {
     "data": {
      "text/plain": [
       "array([[-10,   1,   4],\n",
       "       [  1,   1,  -4],\n",
       "       [-10,   1,   4],\n",
       "       [  6,  -4,   7],\n",
       "       [  6,  -4,   7],\n",
       "       [  1,   1,  -4],\n",
       "       [-10,   1,   4],\n",
       "       [  6,  -4,   7],\n",
       "       [-10,   1,   4],\n",
       "       [  1,   1,  -4],\n",
       "       [-10,   1,   4],\n",
       "       [-10,   1,   4],\n",
       "       [  0,   0,   0],\n",
       "       [-10,   1,   4],\n",
       "       [  1,   1,  -4],\n",
       "       [  0,   0,   0],\n",
       "       [  6,  -4,   7],\n",
       "       [-10,   1,   4],\n",
       "       [  1,   1,  -4],\n",
       "       [-10,   1,   4],\n",
       "       [  6,  -4,   7],\n",
       "       [  0,   0,   0],\n",
       "       [  6,  -4,   7],\n",
       "       [  0,   0,   0],\n",
       "       [-10,   1,   4],\n",
       "       [  1,   1,  -4],\n",
       "       [  6,  -4,   7],\n",
       "       [-10,   1,   4],\n",
       "       [  1,   1,  -4],\n",
       "       [  0,   0,   0],\n",
       "       [-10,   1,   4],\n",
       "       [-10,   1,   4],\n",
       "       [  1,   1,  -4],\n",
       "       [-10,   1,   4],\n",
       "       [  6,  -4,   7],\n",
       "       [  1,   1,  -4],\n",
       "       [  1,   1,  -4],\n",
       "       [  1,   1,  -4],\n",
       "       [  6,  -4,   7],\n",
       "       [  6,  -4,   7],\n",
       "       [  6,  -4,   7]])"
      ]
     },
     "execution_count": 55,
     "metadata": {},
     "output_type": "execute_result"
    }
   ],
   "source": [
    "t = 100000\n",
    "N = 20\n",
    "x = ((N+1)*np.random.random((t,3))).astype(int) - N/2\n",
    "\n",
    "x[ np.abs((x[:,0]*1 + x[:,1]*np.pi + x[:,2]*np.pi**2 )% np.exp(1)) < 0.001]"
   ]
  },
  {
   "cell_type": "markdown",
   "metadata": {},
   "source": [
    "$$ \\Large \\color{#5EB56B}{1} \\times 1 +  \\color{#5EB56B}{1} \\times \\pi - \\color{#5EB56B}{4} \\times \\pi^2 \\approx  -\\color{#ED6356}{13} \\times e $$"
   ]
  },
  {
   "cell_type": "code",
   "execution_count": 65,
   "metadata": {
    "collapsed": false
   },
   "outputs": [
    {
     "data": {
      "text/plain": [
       "(0.00083881919995087983, -12.999691415661479)"
      ]
     },
     "execution_count": 65,
     "metadata": {},
     "output_type": "execute_result"
    }
   ],
   "source": [
    "(1 + np.pi - 4*np.pi**2 ) % np.exp(1), (1 + np.pi - 4*np.pi**2 ) / np.exp(1)"
   ]
  },
  {
   "cell_type": "markdown",
   "metadata": {},
   "source": [
    "$$ \\Large  6 - 3 \\times \\pi^2  + \\pi^3 \\approx e^2$$"
   ]
  },
  {
   "cell_type": "code",
   "execution_count": 67,
   "metadata": {
    "collapsed": false
   },
   "outputs": [
    {
     "data": {
      "text/plain": [
       "array([[-10,  -3,   9,  -2],\n",
       "       [  5, -10,  -6,   3],\n",
       "       [  2,   8,  -2,   0],\n",
       "       [-10,  -3,   9,  -2],\n",
       "       [  6,   0,  -3,   1],\n",
       "       [  6,   0,  -3,   1]])"
      ]
     },
     "execution_count": 67,
     "metadata": {},
     "output_type": "execute_result"
    }
   ],
   "source": [
    "t = 100000\n",
    "N = 20\n",
    "x = ((N+1)*np.random.random((t,4))).astype(int) - N/2\n",
    "\n",
    "x[ np.abs(x[:,0]*1 + x[:,1]*np.pi + x[:,2]*np.pi**2 + x[:,3]*np.pi**3 - np.exp(2)) < 0.01]"
   ]
  },
  {
   "cell_type": "code",
   "execution_count": 70,
   "metadata": {
    "collapsed": false
   },
   "outputs": [
    {
     "data": {
      "text/plain": [
       "(7.397463477031742, 7.3890560989306504)"
      ]
     },
     "execution_count": 70,
     "metadata": {},
     "output_type": "execute_result"
    }
   ],
   "source": [
    "6 - 3*np.pi**2 + np.pi**3, np.exp(2)"
   ]
  },
  {
   "cell_type": "code",
   "execution_count": 53,
   "metadata": {
    "collapsed": false
   },
   "outputs": [
    {
     "data": {
      "text/plain": [
       "2.7168146928204138"
      ]
     },
     "execution_count": 53,
     "metadata": {},
     "output_type": "execute_result"
    }
   ],
   "source": [
    "9 - 2*np.pi"
   ]
  },
  {
   "cell_type": "code",
   "execution_count": 66,
   "metadata": {
    "collapsed": false
   },
   "outputs": [
    {
     "data": {
      "text/plain": [
       "-0.99999020655070348"
      ]
     },
     "execution_count": 66,
     "metadata": {},
     "output_type": "execute_result"
    }
   ],
   "source": [
    "np.sin(11)"
   ]
  },
  {
   "cell_type": "code",
   "execution_count": 71,
   "metadata": {
    "collapsed": false
   },
   "outputs": [
    {
     "data": {
      "text/plain": [
       "(-35.336824950767635, -35.337663769967584)"
      ]
     },
     "execution_count": 71,
     "metadata": {},
     "output_type": "execute_result"
    }
   ],
   "source": [
    "1 + np.pi - 4*np.pi**2, -13*np.exp(1)"
   ]
  },
  {
   "cell_type": "code",
   "execution_count": null,
   "metadata": {
    "collapsed": true
   },
   "outputs": [],
   "source": []
  }
 ],
 "metadata": {
  "kernelspec": {
   "display_name": "Python 2",
   "language": "python",
   "name": "python2"
  },
  "language_info": {
   "codemirror_mode": {
    "name": "ipython",
    "version": 2
   },
   "file_extension": ".py",
   "mimetype": "text/x-python",
   "name": "python",
   "nbconvert_exporter": "python",
   "pygments_lexer": "ipython2",
   "version": "2.7.6"
  }
 },
 "nbformat": 4,
 "nbformat_minor": 0
}
