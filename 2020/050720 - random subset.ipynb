{
 "cells": [
  {
   "cell_type": "code",
   "execution_count": 1,
   "metadata": {},
   "outputs": [],
   "source": [
    "import numpy as np"
   ]
  },
  {
   "cell_type": "code",
   "execution_count": 41,
   "metadata": {},
   "outputs": [
    {
     "name": "stdout",
     "output_type": "stream",
     "text": [
      "[152 155 101 131 128] 39900462080 199751.00019774618\n",
      "[197  14  59 198 109] 3511866204 59261.00070029192\n"
     ]
    }
   ],
   "source": [
    "N = 200\n",
    "n = np.arange(N) + 1\n",
    "\n",
    "for t in range(10000):\n",
    "    # this method doesn't ensure DISTINCT random integers\n",
    "    m = n[ (N*(np.random.random(5))).astype(int)]\n",
    "    y = np.product(m)\n",
    "    if (y**0.5 % 1) < 0.001:\n",
    "        if (y**0.5 % 1) > 0:\n",
    "            print(m, y, y**0.5)"
   ]
  },
  {
   "cell_type": "code",
   "execution_count": 22,
   "metadata": {},
   "outputs": [
    {
     "data": {
      "text/plain": [
       "15586704"
      ]
     },
     "execution_count": 22,
     "metadata": {},
     "output_type": "execute_result"
    }
   ],
   "source": [
    "3948**2"
   ]
  },
  {
   "cell_type": "code",
   "execution_count": null,
   "metadata": {},
   "outputs": [],
   "source": []
  }
 ],
 "metadata": {
  "kernelspec": {
   "display_name": "Python 3",
   "language": "python",
   "name": "python3"
  },
  "language_info": {
   "codemirror_mode": {
    "name": "ipython",
    "version": 3
   },
   "file_extension": ".py",
   "mimetype": "text/x-python",
   "name": "python",
   "nbconvert_exporter": "python",
   "pygments_lexer": "ipython3",
   "version": "3.8.2"
  }
 },
 "nbformat": 4,
 "nbformat_minor": 4
}
