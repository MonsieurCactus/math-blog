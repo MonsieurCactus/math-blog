{
 "cells": [
  {
   "cell_type": "code",
   "execution_count": 15,
   "metadata": {},
   "outputs": [],
   "source": [
    "import numpy as np"
   ]
  },
  {
   "cell_type": "code",
   "execution_count": 20,
   "metadata": {},
   "outputs": [
    {
     "name": "stderr",
     "output_type": "stream",
     "text": [
      "<ipython-input-20-6f9ffd1bade3>:9: RuntimeWarning: invalid value encountered in power\n",
      "  if (y**0.5 % 1) < 0.00001:\n",
      "<ipython-input-20-6f9ffd1bade3>:9: RuntimeWarning: invalid value encountered in double_scalars\n",
      "  if (y**0.5 % 1) < 0.00001:\n"
     ]
    },
    {
     "name": "stdout",
     "output_type": "stream",
     "text": [
      "[1940 4441 4189 2287 2001 6699 8162] 7136561502388545640 2671434353.0000033\n"
     ]
    }
   ],
   "source": [
    "N = 9000\n",
    "n = np.arange(N) + 1 + 1000\n",
    "\n",
    "\n",
    "for t in range(100000):\n",
    "    # this method doesn't ensure DISTINCT random integers\n",
    "    m = n[ (N*(np.random.random(7))).astype(int)]\n",
    "    y = np.product(m)\n",
    "    if (y**0.5 % 1) < 0.00001:\n",
    "        if (y**0.5 % 1) > 0:\n",
    "            print(m, y, y**0.5)"
   ]
  },
  {
   "cell_type": "code",
   "execution_count": 22,
   "metadata": {},
   "outputs": [
    {
     "data": {
      "text/plain": [
       "15586704"
      ]
     },
     "execution_count": 22,
     "metadata": {},
     "output_type": "execute_result"
    }
   ],
   "source": [
    "3948**2"
   ]
  },
  {
   "cell_type": "code",
   "execution_count": 31,
   "metadata": {},
   "outputs": [
    {
     "name": "stdout",
     "output_type": "stream",
     "text": [
      "[90.+13.j 30.+17.j 15.+92.j 85.+46.j 32.+37.j] (-1327924746-382372111j) (5194.003102793449-36808.99909304553j)\n",
      "[34.+14.j 75.+16.j 70.+76.j 22.+46.j 13.+94.j] (-937044784-1053273312j) (15374.008939564872-34254.99868448136j)\n"
     ]
    }
   ],
   "source": [
    "# multiply two-digit Gaussian integers so that product is \"close-to\" a square\n",
    "\n",
    "N = 90\n",
    "n = np.arange(N) + 1 + 10\n",
    "\n",
    "\n",
    "for t in range(10000):\n",
    "    # this method doesn't ensure DISTINCT random integers\n",
    "    m = n[ (N*(np.random.random(5))).astype(int)] + 1j*n[ (N*(np.random.random(5))).astype(int)]\n",
    "    y = np.product(m)\n",
    "    z = y**0.5\n",
    "    if ( np.abs(z.real % 1) ) < 0.01 and ( np.abs(z.imag % 1) ) < 0.01:\n",
    "        print(m, y, y**0.5)"
   ]
  },
  {
   "cell_type": "code",
   "execution_count": null,
   "metadata": {},
   "outputs": [],
   "source": []
  }
 ],
 "metadata": {
  "kernelspec": {
   "display_name": "Python 3",
   "language": "python",
   "name": "python3"
  },
  "language_info": {
   "codemirror_mode": {
    "name": "ipython",
    "version": 3
   },
   "file_extension": ".py",
   "mimetype": "text/x-python",
   "name": "python",
   "nbconvert_exporter": "python",
   "pygments_lexer": "ipython3",
   "version": "3.8.2"
  }
 },
 "nbformat": 4,
 "nbformat_minor": 4
}
