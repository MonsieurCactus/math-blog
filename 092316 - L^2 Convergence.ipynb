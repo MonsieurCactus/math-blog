{
 "cells": [
  {
   "cell_type": "code",
   "execution_count": 2,
   "metadata": {
    "collapsed": false
   },
   "outputs": [],
   "source": [
    "import numpy as np\n",
    "import matplotlib.pyplot as plt\n",
    "%matplotlib inline\n",
    "plt.rcParams['figure.figsize'] = 5,5"
   ]
  },
  {
   "cell_type": "markdown",
   "metadata": {},
   "source": [
    "# Test Case $x = 1$ for $t > 0$ and $x = -1$ for $x < 0$"
   ]
  },
  {
   "cell_type": "code",
   "execution_count": 53,
   "metadata": {
    "collapsed": true
   },
   "outputs": [],
   "source": [
    "# let's demonstrate that L^2 convegence is a bit hairy\n",
    "\n",
    "dt = 0.001\n",
    "t  = np.arange(-0.5,0.5,dt)"
   ]
  },
  {
   "cell_type": "code",
   "execution_count": 54,
   "metadata": {
    "collapsed": false
   },
   "outputs": [
    {
     "data": {
      "text/plain": [
       "(-1.5, 1.5)"
      ]
     },
     "execution_count": 54,
     "metadata": {},
     "output_type": "execute_result"
    },
    {
     "data": {
      "image/png": "[encoded data removed]",
      "text/plain": [
       "<matplotlib.figure.Figure at 0x7f3957414310>"
      ]
     },
     "metadata": {},
     "output_type": "display_data"
    }
   ],
   "source": [
    "x = 0*t\n",
    "\n",
    "x[t > 0] =  1\n",
    "\n",
    "x[t < 0] = -1\n",
    "\n",
    "\n",
    "\n",
    "plt.plot(t,x, '.', markersize=1)\n",
    "\n",
    "plt.xlim([-1.5, 1.5 ])\n",
    "plt.ylim([-1.5, 1.5 ])"
   ]
  },
  {
   "cell_type": "code",
   "execution_count": 62,
   "metadata": {
    "collapsed": false
   },
   "outputs": [
    {
     "data": {
      "text/plain": [
       "(array([], dtype=float64),\n",
       " array([-1., -1., -1., -1., -1., -1., -1., -1., -1., -1.,  1.,  1.,  1.,\n",
       "         1.,  1.,  1.,  1.,  1.,  1.,  1.]))"
      ]
     },
     "execution_count": 62,
     "metadata": {},
     "output_type": "execute_result"
    }
   ],
   "source": [
    "# do you remember why this line was here?\n",
    "x[t==0], x[np.abs(t) < 0.01]"
   ]
  },
  {
   "cell_type": "code",
   "execution_count": 55,
   "metadata": {
    "collapsed": false
   },
   "outputs": [
    {
     "data": {
      "text/plain": [
       "(-1.5, 1.5)"
      ]
     },
     "execution_count": 55,
     "metadata": {},
     "output_type": "execute_result"
    },
    {
     "data": {
      "image/png": "[encoded data removed]",
      "text/plain": [
       "<matplotlib.figure.Figure at 0x7f39574f7710>"
      ]
     },
     "metadata": {},
     "output_type": "display_data"
    }
   ],
   "source": [
    "x = 0*t\n",
    "\n",
    "x[t > 0] =  1\n",
    "\n",
    "x[t < 0] = -1\n",
    "\n",
    "m = 17\n",
    "\n",
    "plt.plot(t,x*np.exp(2j*np.pi*m*t), '.', markersize=1)\n",
    "\n",
    "plt.xlim([-1.5, 1.5 ])\n",
    "plt.ylim([-1.5, 1.5 ])"
   ]
  },
  {
   "cell_type": "code",
   "execution_count": 80,
   "metadata": {
    "collapsed": false
   },
   "outputs": [
    {
     "data": {
      "text/plain": [
       "array([  2.17381668e-16 +1.79856130e-16j,\n",
       "         2.00000000e-03 +6.22180807e-03j,\n",
       "         9.32587341e-18 -2.53352894e-16j,\n",
       "         2.00000000e-03 +6.35866517e-03j,\n",
       "        -2.75335310e-17 -7.43849426e-17j,\n",
       "         2.00000000e-03 +6.50110160e-03j,\n",
       "         9.72555370e-17 -1.84963156e-16j,\n",
       "         2.00000000e-03 +6.64947761e-03j,\n",
       "        -2.34479103e-16 +1.32782674e-16j,\n",
       "         2.00000000e-03 +6.80418511e-03j,\n",
       "         1.81632487e-16 -6.75015599e-17j,\n",
       "         2.00000000e-03 +6.96565121e-03j,\n",
       "         7.46069873e-17 +6.43929354e-17j,\n",
       "         2.00000000e-03 +7.13434231e-03j,\n",
       "         7.50510765e-17 +8.70414851e-17j,\n",
       "         2.00000000e-03 +7.31076871e-03j,\n",
       "         4.99600361e-17 +5.81756865e-17j,\n",
       "         2.00000000e-03 +7.49548985e-03j,\n",
       "         2.35367281e-17 -1.21236354e-16j,\n",
       "         2.00000000e-03 +7.68912046e-03j,\n",
       "        -2.24265051e-17 -7.92699240e-17j,\n",
       "         2.00000000e-03 +7.89233747e-03j,\n",
       "        -5.01820807e-17 +8.43769499e-18j,\n",
       "         2.00000000e-03 +8.10588817e-03j,\n",
       "        -7.10542736e-18 +1.79856130e-17j,\n",
       "         2.00000000e-03 +8.33059954e-03j,\n",
       "         6.21724894e-18 -3.99680289e-18j,\n",
       "         2.00000000e-03 +8.56738917e-03j,\n",
       "        -6.97220059e-17 +1.93178806e-17j,\n",
       "         2.00000000e-03 +8.81727804e-03j,\n",
       "         2.57571742e-17 +5.01820807e-17j,\n",
       "         2.00000000e-03 +9.08140551e-03j,\n",
       "        -6.66133815e-19 +2.15383267e-17j,\n",
       "         2.00000000e-03 +9.36104695e-03j,\n",
       "        -8.52651283e-17 -1.64313008e-17j,\n",
       "         2.00000000e-03 +9.65763470e-03j,\n",
       "        -1.37667655e-17 -8.88178420e-18j,\n",
       "         2.00000000e-03 +9.97278299e-03j,\n",
       "        -1.11022302e-17 +1.08357767e-16j,\n",
       "         2.00000000e-03 +1.03083177e-02j,\n",
       "        -6.19504448e-17 +7.01660952e-17j,\n",
       "         2.00000000e-03 +1.06663124e-02j,\n",
       "         3.01980663e-17 -4.17443857e-17j,\n",
       "         2.00000000e-03 +1.10491314e-02j,\n",
       "         1.46549439e-17 -4.44089210e-17j,\n",
       "         2.00000000e-03 +1.14594833e-02j,\n",
       "        -1.20348176e-16 +1.23456800e-16j,\n",
       "         2.00000000e-03 +1.19004852e-02j,\n",
       "         4.59632332e-17 -3.33066907e-17j,\n",
       "         2.00000000e-03 +1.23757432e-02j,\n",
       "         2.13162821e-17 +3.55271368e-18j,\n",
       "         2.00000000e-03 +1.28894524e-02j,\n",
       "         2.99760217e-17 +1.78745907e-17j,\n",
       "         2.00000000e-03 +1.34465216e-02j,\n",
       "         1.46549439e-17 -2.66453526e-18j,\n",
       "         2.00000000e-03 +1.40527325e-02j,\n",
       "        -4.88498131e-18 -6.21724894e-18j,\n",
       "         2.00000000e-03 +1.47149422e-02j,\n",
       "         2.84217094e-17 -2.39808173e-17j,\n",
       "         2.00000000e-03 +1.54413462e-02j,\n",
       "        -3.06421555e-17 +1.55431223e-17j,\n",
       "         2.00000000e-03 +1.62418206e-02j,\n",
       "         9.76996262e-18 -9.76996262e-18j,\n",
       "         2.00000000e-03 +1.71283773e-02j,\n",
       "         2.35367281e-17 +4.88498131e-17j,\n",
       "         2.00000000e-03 +1.81157734e-02j,\n",
       "        -4.88498131e-18 -2.13162821e-17j,\n",
       "         2.00000000e-03 +1.92223436e-02j,\n",
       "        -2.13162821e-17 +2.25375274e-17j,\n",
       "         2.00000000e-03 +2.04711544e-02j,\n",
       "         6.92779167e-17 +3.73034936e-17j,\n",
       "         2.00000000e-03 +2.18916348e-02j,\n",
       "        -1.77635684e-18 +2.13162821e-17j,\n",
       "         2.00000000e-03 +2.35219343e-02j,\n",
       "        -3.73034936e-17 -1.77635684e-17j,\n",
       "         2.00000000e-03 +2.54124095e-02j,\n",
       "        -8.21565038e-17 +2.13162821e-17j,\n",
       "         2.00000000e-03 +2.76309327e-02j,\n",
       "         1.42108547e-17 +1.06581410e-17j,\n",
       "         2.00000000e-03 +3.02712322e-02j,\n",
       "         3.55271368e-18 +1.77635684e-18j,\n",
       "         2.00000000e-03 +3.34665008e-02j,\n",
       "        -3.64153152e-17 -1.77635684e-17j,\n",
       "         2.00000000e-03 +3.74126104e-02j,\n",
       "        -6.43929354e-18 +5.32907052e-18j,\n",
       "         2.00000000e-03 +4.24098976e-02j,\n",
       "        -7.10542736e-18 -1.06581410e-17j,\n",
       "         2.00000000e-03 +4.89435216e-02j,\n",
       "        -3.01980663e-17 -2.13162821e-17j,\n",
       "         2.00000000e-03 +5.78514846e-02j,\n",
       "         1.24344979e-17 +1.06581410e-17j,\n",
       "         2.00000000e-03 +7.07166797e-02j,\n",
       "         4.44089210e-19 +2.13162821e-17j,\n",
       "         2.00000000e-03 +9.09310205e-02j,\n",
       "        -1.06581410e-17 -7.10542736e-18j,\n",
       "         2.00000000e-03 +1.27313482e-01j,\n",
       "        -2.84217094e-17 -1.42108547e-17j,\n",
       "         2.00000000e-03 +2.12200308e-01j,\n",
       "         1.42108547e-17 +0.00000000e+00j,\n",
       "         2.00000000e-03 +6.36617678e-01j,\n",
       "         0.00000000e+00 +0.00000000e+00j,\n",
       "         2.00000000e-03 -6.36617678e-01j,\n",
       "         1.42108547e-17 +0.00000000e+00j,\n",
       "         2.00000000e-03 -2.12200308e-01j,\n",
       "        -2.84217094e-17 +1.42108547e-17j,\n",
       "         2.00000000e-03 -1.27313482e-01j,\n",
       "        -1.06581410e-17 +7.10542736e-18j,\n",
       "         2.00000000e-03 -9.09310205e-02j,\n",
       "         4.44089210e-19 -2.13162821e-17j,\n",
       "         2.00000000e-03 -7.07166797e-02j,\n",
       "         1.24344979e-17 -1.06581410e-17j,\n",
       "         2.00000000e-03 -5.78514846e-02j,\n",
       "        -3.01980663e-17 +2.13162821e-17j,\n",
       "         2.00000000e-03 -4.89435216e-02j,\n",
       "        -7.10542736e-18 +1.06581410e-17j,\n",
       "         2.00000000e-03 -4.24098976e-02j,\n",
       "        -6.43929354e-18 -5.32907052e-18j,\n",
       "         2.00000000e-03 -3.74126104e-02j,\n",
       "        -3.64153152e-17 +1.77635684e-17j,\n",
       "         2.00000000e-03 -3.34665008e-02j,\n",
       "         3.55271368e-18 -1.77635684e-18j,\n",
       "         2.00000000e-03 -3.02712322e-02j,\n",
       "         1.42108547e-17 -1.06581410e-17j,\n",
       "         2.00000000e-03 -2.76309327e-02j,\n",
       "        -8.21565038e-17 -2.13162821e-17j,\n",
       "         2.00000000e-03 -2.54124095e-02j,\n",
       "        -3.73034936e-17 +1.77635684e-17j,\n",
       "         2.00000000e-03 -2.35219343e-02j,\n",
       "        -1.77635684e-18 -2.13162821e-17j,\n",
       "         2.00000000e-03 -2.18916348e-02j,\n",
       "         6.92779167e-17 -3.73034936e-17j,\n",
       "         2.00000000e-03 -2.04711544e-02j,\n",
       "        -2.13162821e-17 -2.25375274e-17j,\n",
       "         2.00000000e-03 -1.92223436e-02j,\n",
       "        -4.88498131e-18 +2.13162821e-17j,\n",
       "         2.00000000e-03 -1.81157734e-02j,\n",
       "         2.35367281e-17 -4.88498131e-17j,\n",
       "         2.00000000e-03 -1.71283773e-02j,\n",
       "         9.76996262e-18 +9.76996262e-18j,\n",
       "         2.00000000e-03 -1.62418206e-02j,\n",
       "        -3.06421555e-17 -1.55431223e-17j,\n",
       "         2.00000000e-03 -1.54413462e-02j,\n",
       "         2.84217094e-17 +2.39808173e-17j,\n",
       "         2.00000000e-03 -1.47149422e-02j,\n",
       "        -4.88498131e-18 +6.21724894e-18j,\n",
       "         2.00000000e-03 -1.40527325e-02j,\n",
       "         1.46549439e-17 +2.66453526e-18j,\n",
       "         2.00000000e-03 -1.34465216e-02j,\n",
       "         2.99760217e-17 -1.78745907e-17j,\n",
       "         2.00000000e-03 -1.28894524e-02j,\n",
       "         2.13162821e-17 -3.55271368e-18j,\n",
       "         2.00000000e-03 -1.23757432e-02j,\n",
       "         4.59632332e-17 +3.33066907e-17j,\n",
       "         2.00000000e-03 -1.19004852e-02j,\n",
       "        -1.20348176e-16 -1.23456800e-16j,\n",
       "         2.00000000e-03 -1.14594833e-02j,\n",
       "         1.46549439e-17 +4.44089210e-17j,\n",
       "         2.00000000e-03 -1.10491314e-02j,\n",
       "         3.01980663e-17 +4.17443857e-17j,\n",
       "         2.00000000e-03 -1.06663124e-02j,\n",
       "        -6.19504448e-17 -7.01660952e-17j,\n",
       "         2.00000000e-03 -1.03083177e-02j,\n",
       "        -1.11022302e-17 -1.08357767e-16j,\n",
       "         2.00000000e-03 -9.97278299e-03j,\n",
       "        -1.37667655e-17 +8.88178420e-18j,\n",
       "         2.00000000e-03 -9.65763470e-03j,\n",
       "        -8.52651283e-17 +1.64313008e-17j,\n",
       "         2.00000000e-03 -9.36104695e-03j,\n",
       "        -6.66133815e-19 -2.15383267e-17j,\n",
       "         2.00000000e-03 -9.08140551e-03j,\n",
       "         2.57571742e-17 -5.01820807e-17j,\n",
       "         2.00000000e-03 -8.81727804e-03j,\n",
       "        -6.97220059e-17 -1.93178806e-17j,\n",
       "         2.00000000e-03 -8.56738917e-03j,\n",
       "         6.21724894e-18 +3.99680289e-18j,\n",
       "         2.00000000e-03 -8.33059954e-03j,\n",
       "        -7.10542736e-18 -1.79856130e-17j,\n",
       "         2.00000000e-03 -8.10588817e-03j,\n",
       "        -5.01820807e-17 -8.43769499e-18j,\n",
       "         2.00000000e-03 -7.89233747e-03j,\n",
       "        -2.24265051e-17 +7.92699240e-17j,\n",
       "         2.00000000e-03 -7.68912046e-03j,\n",
       "         2.35367281e-17 +1.21236354e-16j,\n",
       "         2.00000000e-03 -7.49548985e-03j,\n",
       "         4.99600361e-17 -5.81756865e-17j,\n",
       "         2.00000000e-03 -7.31076871e-03j,\n",
       "         7.50510765e-17 -8.70414851e-17j,\n",
       "         2.00000000e-03 -7.13434231e-03j,\n",
       "         7.46069873e-17 -6.43929354e-17j,\n",
       "         2.00000000e-03 -6.96565121e-03j,\n",
       "         1.81632487e-16 +6.75015599e-17j,\n",
       "         2.00000000e-03 -6.80418511e-03j,\n",
       "        -2.34479103e-16 -1.32782674e-16j,\n",
       "         2.00000000e-03 -6.64947761e-03j,\n",
       "         9.72555370e-17 +1.84963156e-16j,\n",
       "         2.00000000e-03 -6.50110160e-03j,\n",
       "        -2.75335310e-17 +7.43849426e-17j,\n",
       "         2.00000000e-03 -6.35866517e-03j,\n",
       "         9.32587341e-18 +2.53352894e-16j,   2.00000000e-03 -6.22180807e-03j])"
      ]
     },
     "execution_count": 80,
     "metadata": {},
     "output_type": "execute_result"
    }
   ],
   "source": [
    "n = np.arange(-100,100)\n",
    "\n",
    "w = np.sum(  x[None,...]*np.exp(-2j*np.pi*n[...,None]*t[None,...]     ), axis=1)/1000\n",
    "\n",
    "#plt.plot( n, w )\n",
    "w"
   ]
  },
  {
   "cell_type": "code",
   "execution_count": 85,
   "metadata": {
    "collapsed": false
   },
   "outputs": [],
   "source": [
    "z = t*0 + 0j\n",
    "\n",
    "\n",
    "L = 50\n",
    "for m in np.arange(-L,L+1):\n",
    "    z += w[n==m]*np.exp(2j*np.pi*m*t)\n"
   ]
  },
  {
   "cell_type": "code",
   "execution_count": 86,
   "metadata": {
    "collapsed": true
   },
   "outputs": [],
   "source": [
    "blue  = \"#2781BD\"\n",
    "green = \"#89FF5E\""
   ]
  },
  {
   "cell_type": "code",
   "execution_count": 87,
   "metadata": {
    "collapsed": false
   },
   "outputs": [
    {
     "data": {
      "text/plain": [
       "(-1.5, 1.5)"
      ]
     },
     "execution_count": 87,
     "metadata": {},
     "output_type": "execute_result"
    },
    {
     "data": {
      "image/png": "[encoded data removed]",
      "text/plain": [
       "<matplotlib.figure.Figure at 0x7f39574980d0>"
      ]
     },
     "metadata": {},
     "output_type": "display_data"
    }
   ],
   "source": [
    "plt.plot(t, z.real, '.', color=blue, markersize=2)\n",
    "plt.plot(t, x, '.', color=green, markersize=2)\n",
    "\n",
    "plt.xlim([-1.5, 1.5 ])\n",
    "plt.ylim([-1.5, 1.5 ])"
   ]
  },
  {
   "cell_type": "code",
   "execution_count": 91,
   "metadata": {
    "collapsed": false
   },
   "outputs": [
    {
     "data": {
      "text/plain": [
       "[<matplotlib.lines.Line2D at 0x7f3956aca810>]"
      ]
     },
     "execution_count": 91,
     "metadata": {},
     "output_type": "execute_result"
    },
    {
     "data": {
      "image/png": "[encoded data removed]",
      "text/plain": [
       "<matplotlib.figure.Figure at 0x7f3956baf510>"
      ]
     },
     "metadata": {},
     "output_type": "display_data"
    }
   ],
   "source": [
    "plt.plot(t, z.real - x, '-')"
   ]
  },
  {
   "cell_type": "code",
   "execution_count": 92,
   "metadata": {
    "collapsed": false
   },
   "outputs": [
    {
     "data": {
      "text/plain": [
       "[<matplotlib.lines.Line2D at 0x7f39569fc5d0>]"
      ]
     },
     "execution_count": 92,
     "metadata": {},
     "output_type": "execute_result"
    },
    {
     "data": {
      "image/png": "[encoded data removed]",
      "text/plain": [
       "<matplotlib.figure.Figure at 0x7f3956c72590>"
      ]
     },
     "metadata": {},
     "output_type": "display_data"
    }
   ],
   "source": [
    "# this is going to be very nice once I try to evolve the Wave, Heat and/or Schrödinger Equations\n",
    "\n",
    "plt.plot(t, z.real - x, '.', markersize=2)"
   ]
  },
  {
   "cell_type": "markdown",
   "metadata": {},
   "source": [
    "# Second Test Case: Mean Ergodic Theorem"
   ]
  },
  {
   "cell_type": "code",
   "execution_count": 93,
   "metadata": {
    "collapsed": true
   },
   "outputs": [],
   "source": [
    "# not so easy to find illustrative cases of L^2 convergence.  I am not that createive and basically re-did the \n",
    "# step-function example many times"
   ]
  },
  {
   "cell_type": "code",
   "execution_count": 106,
   "metadata": {
    "collapsed": true
   },
   "outputs": [],
   "source": [
    "# since I am not creative pick T: x -> x + a (the rotation) and chose f to be the same function as before\n",
    "\n",
    "def f(t):\n",
    "    return 1.0*(t > 0.5) + (-1.0)*(t < 0.5) + 0.0*(t==0.5)"
   ]
  },
  {
   "cell_type": "code",
   "execution_count": 122,
   "metadata": {
    "collapsed": false
   },
   "outputs": [
    {
     "data": {
      "text/plain": [
       "(-0.025, 0.025)"
      ]
     },
     "execution_count": 122,
     "metadata": {},
     "output_type": "execute_result"
    },
    {
     "data": {
      "image/png": "[encoded data removed]",
      "text/plain": [
       "<matplotlib.figure.Figure at 0x7f395696ce10>"
      ]
     },
     "metadata": {},
     "output_type": "display_data"
    }
   ],
   "source": [
    "dt = 0.001\n",
    "t  = np.arange(0,1,dt)\n",
    "\n",
    "a = np.sqrt(2)\n",
    "\n",
    "x = 0*t\n",
    "N = 500\n",
    "for n in np.arange(N):\n",
    "    x += f( (t + n*a)%1  )/N\n",
    "    \n",
    "plt.plot(t,x, '.', markersize=2)\n",
    "\n",
    "plt.xlim(-0.125, 1.125)\n",
    "plt.ylim(-0.025, 0.025)"
   ]
  },
  {
   "cell_type": "code",
   "execution_count": 121,
   "metadata": {
    "collapsed": false
   },
   "outputs": [
    {
     "data": {
      "text/plain": [
       "(0.0080000000000000002, -0.0080000000000000002)"
      ]
     },
     "execution_count": 121,
     "metadata": {},
     "output_type": "execute_result"
    }
   ],
   "source": [
    "np.max(x), np.min(x)"
   ]
  },
  {
   "cell_type": "code",
   "execution_count": 127,
   "metadata": {
    "collapsed": false
   },
   "outputs": [
    {
     "data": {
      "text/plain": [
       "(array([  10.,    0.,    0.,    0.,    0.,    0.,    0.,    0.,    0.,\n",
       "           0.,    0.,    0.,  227.,    0.,    0.,    0.,    0.,    0.,\n",
       "           0.,    0.,    0.,    0.,    0.,    0.,    0.,  526.,    0.,\n",
       "           0.,    0.,    0.,    0.,    1.,    0.,    0.,    0.,    0.,\n",
       "           0.,  226.,    0.,    0.,    0.,    0.,    0.,    0.,    0.,\n",
       "           0.,    0.,    0.,    0.,   10.]),\n",
       " array([-0.008  , -0.00768, -0.00736, -0.00704, -0.00672, -0.0064 ,\n",
       "        -0.00608, -0.00576, -0.00544, -0.00512, -0.0048 , -0.00448,\n",
       "        -0.00416, -0.00384, -0.00352, -0.0032 , -0.00288, -0.00256,\n",
       "        -0.00224, -0.00192, -0.0016 , -0.00128, -0.00096, -0.00064,\n",
       "        -0.00032,  0.     ,  0.00032,  0.00064,  0.00096,  0.00128,\n",
       "         0.0016 ,  0.00192,  0.00224,  0.00256,  0.00288,  0.0032 ,\n",
       "         0.00352,  0.00384,  0.00416,  0.00448,  0.0048 ,  0.00512,\n",
       "         0.00544,  0.00576,  0.00608,  0.0064 ,  0.00672,  0.00704,\n",
       "         0.00736,  0.00768,  0.008  ]),\n",
       " <a list of 50 Patch objects>)"
      ]
     },
     "execution_count": 127,
     "metadata": {},
     "output_type": "execute_result"
    },
    {
     "data": {
      "image/png": "[encoded data removed]",
      "text/plain": [
       "<matplotlib.figure.Figure at 0x7f3956810290>"
      ]
     },
     "metadata": {},
     "output_type": "display_data"
    }
   ],
   "source": [
    "plt.hist(x, bins = 50)"
   ]
  },
  {
   "cell_type": "code",
   "execution_count": null,
   "metadata": {
    "collapsed": true
   },
   "outputs": [],
   "source": []
  }
 ],
 "metadata": {
  "kernelspec": {
   "display_name": "Python 2",
   "language": "python",
   "name": "python2"
  },
  "language_info": {
   "codemirror_mode": {
    "name": "ipython",
    "version": 2
   },
   "file_extension": ".py",
   "mimetype": "text/x-python",
   "name": "python",
   "nbconvert_exporter": "python",
   "pygments_lexer": "ipython2",
   "version": "2.7.10"
  }
 },
 "nbformat": 4,
 "nbformat_minor": 0
}
