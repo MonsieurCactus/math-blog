{
 "cells": [
  {
   "cell_type": "code",
   "execution_count": 47,
   "metadata": {},
   "outputs": [],
   "source": [
    "import numpy as np\n",
    "\n",
    "import matplotlib.pyplot as plt\n",
    "%matplotlib inline\n",
    "plt.rcParams['figure.figsize'] = 6,6"
   ]
  },
  {
   "cell_type": "code",
   "execution_count": 54,
   "metadata": {},
   "outputs": [
    {
     "data": {
      "text/plain": [
       "array([[0, 1, 0, 1, 0, 1, 0, 1, 0, 1, 2, 2, 0, 1, 2, 2, 0, 1, 2, 2],\n",
       "       [0, 1, 2, 0, 1, 0, 1, 2, 0, 1, 3, 3, 2, 2, 3, 3, 0, 1, 3, 3],\n",
       "       [0, 1, 3, 0, 1, 0, 1, 3, 0, 1, 0, 1, 3, 3, 0, 1, 0, 1, 2, 2],\n",
       "       [0, 1, 0, 1, 0, 1, 2, 2, 2, 2, 0, 1, 2, 0, 1, 2, 0, 1, 3, 3],\n",
       "       [0, 1, 0, 1, 0, 1, 3, 3, 3, 3, 0, 1, 3, 0, 1, 3, 0, 1, 0, 1],\n",
       "       [0, 1, 0, 1, 0, 1, 2, 0, 1, 2, 0, 1, 2, 0, 1, 2, 0, 1, 2, 2],\n",
       "       [2, 0, 1, 0, 1, 2, 3, 0, 1, 3, 0, 1, 3, 0, 1, 3, 0, 1, 3, 3],\n",
       "       [3, 0, 1, 0, 1, 3, 0, 1, 0, 1, 0, 1, 2, 2, 2, 0, 1, 2, 2, 2],\n",
       "       [2, 2, 0, 1, 0, 1, 2, 2, 0, 1, 0, 1, 3, 3, 3, 0, 1, 3, 3, 3],\n",
       "       [3, 3, 2, 0, 1, 2, 3, 3, 2, 0, 1, 0, 1, 0, 1, 0, 1, 2, 2, 2],\n",
       "       [0, 1, 3, 2, 2, 3, 0, 1, 3, 0, 1, 2, 2, 2, 2, 0, 1, 3, 3, 3],\n",
       "       [2, 0, 1, 3, 3, 0, 1, 0, 1, 0, 1, 3, 3, 3, 3, 0, 1, 2, 0, 1],\n",
       "       [3, 2, 2, 0, 1, 2, 2, 0, 1, 0, 1, 0, 1, 0, 1, 2, 2, 3, 2, 2],\n",
       "       [2, 3, 3, 0, 1, 3, 3, 2, 2, 2, 2, 2, 0, 1, 2, 3, 3, 2, 3, 3],\n",
       "       [3, 0, 1, 0, 1, 0, 1, 3, 3, 3, 3, 3, 0, 1, 3, 0, 1, 3, 0, 1]])"
      ]
     },
     "execution_count": 54,
     "metadata": {},
     "output_type": "execute_result"
    }
   ],
   "source": [
    "m, n = 15, 20\n",
    "\n",
    "X = np.zeros((m,n)).astype(int)\n",
    "\n",
    "X[ : , 1::2 ] = 1\n",
    "\n",
    "# while not very natural,\n",
    "# we read 0 as half a domino pointing right:\n",
    "# and 1 is pointing left\n",
    "#      _       _\n",
    "# 0 = |_   1 = _|\n",
    "#\n",
    "#                   _\n",
    "# 3 = |_|  and 2 = | |\n",
    "#\n",
    "\n",
    "def dice():\n",
    "    a, b = np.random.random(2)\n",
    "    return int((m-1)*a), int((n-1)*b)\n",
    "\n",
    "for t in range(200000):\n",
    "    a,b = dice()\n",
    "\n",
    "    if (X[a:a+2, b:b+2] == A).all():\n",
    "        X[a:a+2, b:b+2] = B\n",
    "    elif (X[a:a+2, b:b+2] == B).all():\n",
    "        X[a:a+2, b:b+2] = A\n",
    "    \n",
    "X"
   ]
  },
  {
   "cell_type": "code",
   "execution_count": 31,
   "metadata": {},
   "outputs": [
    {
     "data": {
      "text/plain": [
       "array([[0, 1],\n",
       "       [0, 1]])"
      ]
     },
     "execution_count": 31,
     "metadata": {},
     "output_type": "execute_result"
    }
   ],
   "source": [
    "A = np.array([[0,1],[0,1]])\n",
    "A"
   ]
  },
  {
   "cell_type": "code",
   "execution_count": 53,
   "metadata": {},
   "outputs": [
    {
     "data": {
      "text/plain": [
       "array([[2, 2],\n",
       "       [3, 3]])"
      ]
     },
     "execution_count": 53,
     "metadata": {},
     "output_type": "execute_result"
    }
   ],
   "source": [
    "B = np.array([[2,2],[3,3]])\n",
    "B"
   ]
  },
  {
   "cell_type": "code",
   "execution_count": 96,
   "metadata": {},
   "outputs": [
    {
     "data": {
      "text/plain": [
       "(-1, 16)"
      ]
     },
     "execution_count": 96,
     "metadata": {},
     "output_type": "execute_result"
    },
    {
     "data": {
      "image/png": "[encoded data removed]",
      "text/plain": [
       "<matplotlib.figure.Figure at 0x7efddbbdb190>"
      ]
     },
     "metadata": {},
     "output_type": "display_data"
    }
   ],
   "source": [
    "plt.rcParams['figure.figsize'] = n/2, m/2\n",
    "\n",
    "for s in np.arange(n):\n",
    "    for t in np.arange(m):\n",
    "        if X[t,s] == 0:\n",
    "            plt.plot( s + np.array([1,0,0,1]) , t + np.array([1,1,0,0]) , 'k-')\n",
    "            plt.fill( s + np.array([1,0,0,1,1]) , t + np.array([1,1,0,0,1]) , '-', color = \"#F0F0F0\")\n",
    "        if X[t,s] == 1:\n",
    "            plt.plot( s + np.array([0,1,1,0]) , t + np.array([1,1,0,0]) , 'k-')\n",
    "            plt.fill( s + np.array([1,0,0,1,1]) , t + np.array([1,1,0,0,1]) , '-', color = \"#F0F0F0\")\n",
    "        if X[t,s] == 3:\n",
    "            plt.plot( s + np.array([0,0,1,1]) , t + np.array([0,1,1,0]) , 'k-')\n",
    "        if X[t,s] == 2:\n",
    "            plt.plot( s + np.array([0,0,1,1]) , t + np.array([1,0,0,1]) , 'k-')\n",
    "            \n",
    "dx = 0.125\n",
    "            \n",
    "for s in np.arange(n-2):\n",
    "    for t in np.arange(m-2):\n",
    "\n",
    "        if (X[t:t+2, s:s+2] == A).all():\n",
    "            plt.plot (s + np.array([0,2,2,0,0]), t + np.array([0,0,2,2,0]) , 'k-', linewidth = 2)\n",
    "            plt.fill (s + np.array([dx,2-dx,2-dx,dx,dx]), t + np.array([dx,dx,2-dx,2-dx,dx]) , 'k-', linewidth = 2, alpha=0.25)\n",
    "            \n",
    "plt.xlim([-1, n+1])\n",
    "plt.ylim([-1, m+1])\n",
    "\n",
    "#plt.axis(\"Equal\")"
   ]
  },
  {
   "cell_type": "code",
   "execution_count": 66,
   "metadata": {},
   "outputs": [
    {
     "data": {
      "text/plain": [
       "array([[0, 1, 0, 1, 0, 1, 0, 1, 0, 1, 2, 2, 0, 1, 2, 2, 0, 1, 2, 2],\n",
       "       [0, 1, 2, 0, 1, 0, 1, 2, 0, 1, 3, 3, 2, 2, 3, 3, 0, 1, 3, 3],\n",
       "       [0, 1, 3, 0, 1, 0, 1, 3, 0, 1, 0, 1, 3, 3, 0, 1, 0, 1, 2, 2],\n",
       "       [0, 1, 0, 1, 0, 1, 2, 2, 2, 2, 0, 1, 2, 0, 1, 2, 0, 1, 3, 3],\n",
       "       [0, 1, 0, 1, 0, 1, 3, 3, 3, 3, 0, 1, 3, 0, 1, 3, 0, 1, 0, 1],\n",
       "       [0, 1, 0, 1, 0, 1, 2, 0, 1, 2, 0, 1, 2, 0, 1, 2, 0, 1, 2, 2],\n",
       "       [2, 0, 1, 0, 1, 2, 3, 0, 1, 3, 0, 1, 3, 0, 1, 3, 0, 1, 3, 3],\n",
       "       [3, 0, 1, 0, 1, 3, 0, 1, 0, 1, 0, 1, 2, 2, 2, 0, 1, 2, 2, 2],\n",
       "       [2, 2, 0, 1, 0, 1, 2, 2, 0, 1, 0, 1, 3, 3, 3, 0, 1, 3, 3, 3],\n",
       "       [3, 3, 2, 0, 1, 2, 3, 3, 2, 0, 1, 0, 1, 0, 1, 0, 1, 2, 2, 2],\n",
       "       [0, 1, 3, 2, 2, 3, 0, 1, 3, 0, 1, 2, 2, 2, 2, 0, 1, 3, 3, 3],\n",
       "       [2, 0, 1, 3, 3, 0, 1, 0, 1, 0, 1, 3, 3, 3, 3, 0, 1, 2, 0, 1],\n",
       "       [3, 2, 2, 0, 1, 2, 2, 0, 1, 0, 1, 0, 1, 0, 1, 2, 2, 3, 2, 2],\n",
       "       [2, 3, 3, 0, 1, 3, 3, 2, 2, 2, 2, 2, 0, 1, 2, 3, 3, 2, 3, 3],\n",
       "       [3, 0, 1, 0, 1, 0, 1, 3, 3, 3, 3, 3, 0, 1, 3, 0, 1, 3, 0, 1]])"
      ]
     },
     "execution_count": 66,
     "metadata": {},
     "output_type": "execute_result"
    }
   ],
   "source": [
    "X"
   ]
  },
  {
   "cell_type": "code",
   "execution_count": 92,
   "metadata": {},
   "outputs": [
    {
     "data": {
      "text/plain": [
       "(array([], shape=(0, 2), dtype=int64), (15, 20))"
      ]
     },
     "execution_count": 92,
     "metadata": {},
     "output_type": "execute_result"
    }
   ],
   "source": [
    "X[15:15+2, 0:0+2], X.shape"
   ]
  },
  {
   "cell_type": "markdown",
   "metadata": {},
   "source": [
    "# Simulation\n",
    "\n",
    "## Local Statistics of Lattice Dimers \n",
    "\n",
    "### https://arxiv.org/abs/math/0105054\n",
    "### http://www.numdam.org/item/AIHPB_1997__33_5_591_0\n",
    "\n",
    "![](domino-01.png)"
   ]
  },
  {
   "cell_type": "code",
   "execution_count": 111,
   "metadata": {},
   "outputs": [
    {
     "data": {
      "text/plain": [
       "(-1, 26)"
      ]
     },
     "execution_count": 111,
     "metadata": {},
     "output_type": "execute_result"
    },
    {
     "data": {
      "image/png": "[encoded data removed]",
      "text/plain": [
       "<matplotlib.figure.Figure at 0x7efddcf04e10>"
      ]
     },
     "metadata": {},
     "output_type": "display_data"
    }
   ],
   "source": [
    "\n",
    "\n",
    "import numpy as np\n",
    "\n",
    "import matplotlib.pyplot as plt\n",
    "%matplotlib inline\n",
    "\n",
    "m, n = 25,30\n",
    "\n",
    "X = np.zeros((m,n)).astype(int)\n",
    "\n",
    "X[ : , 1::2 ] = 1\n",
    "\n",
    "# while not very natural,\n",
    "# we read 0 as half a domino pointing right:\n",
    "# and 1 is pointing left\n",
    "#      _       _\n",
    "# 0 = |_   1 = _|\n",
    "#\n",
    "#                   _\n",
    "# 3 = |_|  and 2 = | |\n",
    "#\n",
    "\n",
    "def dice():\n",
    "    a, b = np.random.random(2)\n",
    "    return int((m-1)*a), int((n-1)*b)\n",
    "\n",
    "for t in range(100000):\n",
    "    a,b = dice()\n",
    "\n",
    "    if (X[a:a+2, b:b+2] == A).all():\n",
    "        X[a:a+2, b:b+2] = B\n",
    "    elif (X[a:a+2, b:b+2] == B).all():\n",
    "        X[a:a+2, b:b+2] = A\n",
    "        \n",
    "plt.rcParams['figure.figsize'] = n/2, m/2\n",
    "\n",
    "for s in np.arange(n):\n",
    "    for t in np.arange(m):\n",
    "        if X[t,s] == 0:\n",
    "            plt.plot( s + np.array([1,0,0,1]) , t + np.array([1,1,0,0]) , 'k-')\n",
    "            plt.fill( s + np.array([1,0,0,1,1]) , t + np.array([1,1,0,0,1]) , '-', color = \"#F0F0F0\")\n",
    "        if X[t,s] == 1:\n",
    "            plt.plot( s + np.array([0,1,1,0]) , t + np.array([1,1,0,0]) , 'k-')\n",
    "            plt.fill( s + np.array([1,0,0,1,1]) , t + np.array([1,1,0,0,1]) , '-', color = \"#F0F0F0\")\n",
    "        if X[t,s] == 3:\n",
    "            plt.plot( s + np.array([0,0,1,1]) , t + np.array([0,1,1,0]) , 'k-')\n",
    "        if X[t,s] == 2:\n",
    "            plt.plot( s + np.array([0,0,1,1]) , t + np.array([1,0,0,1]) , 'k-')\n",
    "            \n",
    "dx = 0.125\n",
    "\n",
    "count = 0\n",
    "            \n",
    "for s in np.arange(n-1):\n",
    "    for t in np.arange(m-1):\n",
    "\n",
    "        if (X[t:t+2, s:s+2] == A).all():\n",
    "            count += 1\n",
    "            plt.plot (s + np.array([0,2,2,0,0]), t + np.array([0,0,2,2,0]) , 'k-', linewidth = 2)\n",
    "            plt.fill (s + np.array([dx,2-dx,2-dx,dx,dx]), t + np.array([dx,dx,2-dx,2-dx,dx]) , 'k-', linewidth = 2, alpha=0.25)\n",
    "            \n",
    "plt.xlim([-1, n+1])\n",
    "plt.ylim([-1, m+1])\n",
    "\n",
    "#plt.axis(\"Equal\")"
   ]
  },
  {
   "cell_type": "code",
   "execution_count": 114,
   "metadata": {},
   "outputs": [
    {
     "data": {
      "text/plain": [
       "750"
      ]
     },
     "execution_count": 114,
     "metadata": {},
     "output_type": "execute_result"
    }
   ],
   "source": [
    "area = m*n\n",
    "area"
   ]
  },
  {
   "cell_type": "code",
   "execution_count": 113,
   "metadata": {},
   "outputs": [
    {
     "data": {
      "text/plain": [
       "84"
      ]
     },
     "execution_count": 113,
     "metadata": {},
     "output_type": "execute_result"
    }
   ],
   "source": [
    "count"
   ]
  },
  {
   "cell_type": "code",
   "execution_count": 117,
   "metadata": {},
   "outputs": [
    {
     "data": {
      "text/plain": [
       "(0.112, 0.125)"
      ]
     },
     "execution_count": 117,
     "metadata": {},
     "output_type": "execute_result"
    }
   ],
   "source": [
    "count*1.0/area, 1.0/8"
   ]
  },
  {
   "cell_type": "code",
   "execution_count": null,
   "metadata": {
    "collapsed": true
   },
   "outputs": [],
   "source": []
  }
 ],
 "metadata": {
  "kernelspec": {
   "display_name": "Python 2",
   "language": "python",
   "name": "python2"
  },
  "language_info": {
   "codemirror_mode": {
    "name": "ipython",
    "version": 2
   },
   "file_extension": ".py",
   "mimetype": "text/x-python",
   "name": "python",
   "nbconvert_exporter": "python",
   "pygments_lexer": "ipython2",
   "version": "2.7.12"
  }
 },
 "nbformat": 4,
 "nbformat_minor": 2
}
