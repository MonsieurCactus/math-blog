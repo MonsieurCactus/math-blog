{
 "cells": [
  {
   "cell_type": "code",
   "execution_count": 1,
   "metadata": {
    "collapsed": true
   },
   "outputs": [],
   "source": [
    "import numpy as np"
   ]
  },
  {
   "cell_type": "code",
   "execution_count": 2,
   "metadata": {
    "collapsed": true
   },
   "outputs": [],
   "source": [
    "from pulp import *"
   ]
  },
  {
   "cell_type": "code",
   "execution_count": 3,
   "metadata": {
    "collapsed": true
   },
   "outputs": [],
   "source": [
    "# https://github.com/coin-or/pulp\n",
    "# http://www.juliaopt.org/notebooks/JuMP-Sudoku.html\n",
    "# https://pythonhosted.org/PuLP/CaseStudies/a_sudoku_problem.html\n",
    "# https://projects.coin-or.org/Cbc\n",
    "# https://www.coursera.org/learn/discrete-optimization"
   ]
  },
  {
   "cell_type": "code",
   "execution_count": 4,
   "metadata": {
    "collapsed": true
   },
   "outputs": [],
   "source": [
    "# http://langvillea.people.cofc.edu/sudoku5.pdf"
   ]
  },
  {
   "cell_type": "markdown",
   "metadata": {},
   "source": [
    "# Sudoku\n",
    "\n",
    "There seem to be two solutions to this kind of problem.  \n",
    "\n",
    "* a computer programming solution where we use a library such as Coin-OR or PulP to set up the equations and obtain an answer\n",
    "* a computer science solution where we try to solve the linear system of 729 equations and unknowns from scratch using integer programming or linear programming"
   ]
  },
  {
   "cell_type": "code",
   "execution_count": 5,
   "metadata": {
    "collapsed": true
   },
   "outputs": [],
   "source": [
    "# A list of strings from \"1\" to \"9\" is created\n",
    "Sequence = [\"1\", \"2\", \"3\", \"4\", \"5\", \"6\", \"7\", \"8\", \"9\"]\n",
    "\n",
    "# The Vals, Rows and Cols sequences all follow this form\n",
    "Vals = Sequence\n",
    "Rows = Sequence\n",
    "Cols = Sequence"
   ]
  },
  {
   "cell_type": "code",
   "execution_count": 6,
   "metadata": {
    "collapsed": true
   },
   "outputs": [],
   "source": [
    "# The boxes list is created, with the row and column index of each square in each box\n",
    "Boxes =[]\n",
    "for i in range(3):\n",
    "    for j in range(3):\n",
    "        Boxes += [[(Rows[3*i+k],Cols[3*j+l]) for k in range(3) for l in range(3)]]"
   ]
  },
  {
   "cell_type": "code",
   "execution_count": 10,
   "metadata": {
    "collapsed": true
   },
   "outputs": [],
   "source": [
    "# The prob variable is created to contain the problem data        \n",
    "prob = LpProblem(\"Sudoku Problem\",LpMinimize)\n",
    "# The problem variables are created\n",
    "choices = LpVariable.dicts(\"Choice\",(Vals,Rows,Cols),0,1,LpInteger)\n",
    "# The arbitrary objective function is added\n",
    "prob += 0, \"Arbitrary Objective Function\""
   ]
  },
  {
   "cell_type": "code",
   "execution_count": 11,
   "metadata": {
    "collapsed": true
   },
   "outputs": [],
   "source": [
    "# A constraint ensuring that only one value can be in each square is created\n",
    "for r in Rows:\n",
    "    for c in Cols:\n",
    "        prob += lpSum([choices[v][r][c] for v in Vals]) == 1, \"\"\n",
    "# The row, column and box constraints are added for each value\n",
    "for v in Vals:\n",
    "    for r in Rows:\n",
    "        prob += lpSum([choices[v][r][c] for c in Cols]) == 1,\"\"\n",
    "        \n",
    "    for c in Cols:\n",
    "        prob += lpSum([choices[v][r][c] for r in Rows]) == 1,\"\"\n",
    "\n",
    "    for b in Boxes:\n",
    "        prob += lpSum([choices[v][r][c] for (r,c) in b]) == 1,\"\"\n",
    "        \n",
    "# any other constraints??"
   ]
  },
  {
   "cell_type": "code",
   "execution_count": 12,
   "metadata": {
    "collapsed": true
   },
   "outputs": [],
   "source": [
    "# The starting numbers are entered as constraints                \n",
    "prob += choices[\"5\"][\"1\"][\"1\"] == 1,\"\"\n",
    "prob += choices[\"6\"][\"2\"][\"1\"] == 1,\"\"\n",
    "prob += choices[\"8\"][\"4\"][\"1\"] == 1,\"\"\n",
    "prob += choices[\"4\"][\"5\"][\"1\"] == 1,\"\"\n",
    "prob += choices[\"7\"][\"6\"][\"1\"] == 1,\"\"\n",
    "prob += choices[\"3\"][\"1\"][\"2\"] == 1,\"\"\n",
    "prob += choices[\"9\"][\"3\"][\"2\"] == 1,\"\"\n",
    "prob += choices[\"6\"][\"7\"][\"2\"] == 1,\"\"\n",
    "prob += choices[\"8\"][\"3\"][\"3\"] == 1,\"\"\n",
    "prob += choices[\"1\"][\"2\"][\"4\"] == 1,\"\"\n",
    "prob += choices[\"8\"][\"5\"][\"4\"] == 1,\"\"\n",
    "prob += choices[\"4\"][\"8\"][\"4\"] == 1,\"\"\n",
    "prob += choices[\"7\"][\"1\"][\"5\"] == 1,\"\"\n",
    "prob += choices[\"9\"][\"2\"][\"5\"] == 1,\"\"\n",
    "prob += choices[\"6\"][\"4\"][\"5\"] == 1,\"\"\n",
    "prob += choices[\"2\"][\"6\"][\"5\"] == 1,\"\"\n",
    "prob += choices[\"1\"][\"8\"][\"5\"] == 1,\"\"\n",
    "prob += choices[\"8\"][\"9\"][\"5\"] == 1,\"\"\n",
    "prob += choices[\"5\"][\"2\"][\"6\"] == 1,\"\"\n",
    "prob += choices[\"3\"][\"5\"][\"6\"] == 1,\"\"\n",
    "prob += choices[\"9\"][\"8\"][\"6\"] == 1,\"\"\n",
    "prob += choices[\"2\"][\"7\"][\"7\"] == 1,\"\"\n",
    "prob += choices[\"6\"][\"3\"][\"8\"] == 1,\"\"\n",
    "prob += choices[\"8\"][\"7\"][\"8\"] == 1,\"\"\n",
    "prob += choices[\"7\"][\"9\"][\"8\"] == 1,\"\"\n",
    "prob += choices[\"3\"][\"4\"][\"9\"] == 1,\"\"\n",
    "prob += choices[\"1\"][\"5\"][\"9\"] == 1,\"\"\n",
    "prob += choices[\"6\"][\"6\"][\"9\"] == 1,\"\"\n",
    "prob += choices[\"5\"][\"8\"][\"9\"] == 1,\"\""
   ]
  },
  {
   "cell_type": "code",
   "execution_count": 13,
   "metadata": {},
   "outputs": [
    {
     "name": "stdout",
     "output_type": "stream",
     "text": [
      "('Status:', 'Optimal')\n"
     ]
    }
   ],
   "source": [
    "# The problem data is written to an .lp file\n",
    "prob.writeLP(\"Sudoku.lp\")\n",
    "\n",
    "# The problem is solved using PuLP's choice of Solver\n",
    "prob.solve()\n",
    "\n",
    "# The status of the solution is printed to the screen\n",
    "print(\"Status:\", LpStatus[prob.status])"
   ]
  },
  {
   "cell_type": "code",
   "execution_count": 15,
   "metadata": {
    "collapsed": true
   },
   "outputs": [],
   "source": [
    "sudokuout = file(\"sudokuout.txt\", \"w\")\n",
    "\n",
    "# The solution is written to the sudokuout.txt file \n",
    "for r in Rows:\n",
    "    if r == \"1\" or r == \"4\" or r == \"7\":\n",
    "                    sudokuout.write(\"+-------+-------+-------+\\n\")\n",
    "    for c in Cols:\n",
    "        for v in Vals:\n",
    "            if value(choices[v][r][c])==1:\n",
    "                               \n",
    "                if c == \"1\" or c == \"4\" or c ==\"7\":\n",
    "                    sudokuout.write(\"| \")\n",
    "                    \n",
    "                sudokuout.write(v + \" \")\n",
    "                \n",
    "                if c == \"9\":\n",
    "                    sudokuout.write(\"|\\n\")\n",
    "sudokuout.write(\"+-------+-------+-------+\")                    \n",
    "sudokuout.close()"
   ]
  },
  {
   "cell_type": "markdown",
   "metadata": {},
   "source": [
    "# Sudoku"
   ]
  },
  {
   "cell_type": "code",
   "execution_count": 16,
   "metadata": {
    "collapsed": true
   },
   "outputs": [],
   "source": [
    "# A list of strings from \"1\" to \"9\" is created\n",
    "Sequence = [\"1\", \"2\", \"3\", \"4\", \"5\", \"6\", \"7\", \"8\", \"9\"]\n",
    "\n",
    "# The Vals, Rows and Cols sequences all follow this form\n",
    "Vals = Sequence\n",
    "Rows = Sequence\n",
    "Cols = Sequence\n",
    "\n",
    "# The boxes list is created, with the row and column index of each square in each box\n",
    "Boxes =[]\n",
    "for i in range(3):\n",
    "    for j in range(3):\n",
    "        Boxes += [[(Rows[3*i+k],Cols[3*j+l]) for k in range(3) for l in range(3)]]\n",
    "        \n",
    "# The prob variable is created to contain the problem data        \n",
    "prob = LpProblem(\"Sudoku Problem\",LpMinimize)\n",
    "# The problem variables are created\n",
    "choices = LpVariable.dicts(\"Choice\",(Vals,Rows,Cols),0,1,LpInteger)\n",
    "# The arbitrary objective function is added\n",
    "prob += 0, \"Arbitrary Objective Function\""
   ]
  },
  {
   "cell_type": "code",
   "execution_count": 17,
   "metadata": {
    "collapsed": true
   },
   "outputs": [],
   "source": [
    "# A constraint ensuring that only one value can be in each square is created\n",
    "for r in Rows:\n",
    "    for c in Cols:\n",
    "        prob += lpSum([choices[v][r][c] for v in Vals]) == 1, \"\"\n",
    "# The row, column and box constraints are added for each value\n",
    "for v in Vals:\n",
    "    for r in Rows:\n",
    "        prob += lpSum([choices[v][r][c] for c in Cols]) == 1,\"\"\n",
    "        \n",
    "    for c in Cols:\n",
    "        prob += lpSum([choices[v][r][c] for r in Rows]) == 1,\"\"\n",
    "\n",
    "    for b in Boxes:\n",
    "        prob += lpSum([choices[v][r][c] for (r,c) in b]) == 1,\"\"\n",
    "        \n",
    "# any other constraints??"
   ]
  },
  {
   "cell_type": "code",
   "execution_count": 23,
   "metadata": {
    "collapsed": true
   },
   "outputs": [],
   "source": [
    "clues =   [\n",
    "(5,1,1),\n",
    "(6,2,1),\n",
    "(8,4,1),\n",
    "(4,5,1),\n",
    "(7,6,1),\n",
    "(3,1,2),\n",
    "(9,3,2),\n",
    "(6,7,2),\n",
    "(8,3,3),\n",
    "(1,2,4),\n",
    "(8,5,4),\n",
    "(4,8,4),\n",
    "(7,1,5),\n",
    "(9,2,5),\n",
    "(6,4,5),\n",
    "(2,6,5),\n",
    "(1,8,5),\n",
    "(8,9,5),\n",
    "(5,2,6),\n",
    "(3,5,6),\n",
    "(9,8,6),\n",
    "(2,7,7),\n",
    "(6,3,8),\n",
    "(8,7,8),\n",
    "(7,9,8),\n",
    "(3,4,9),\n",
    "(1,5,9),\n",
    "(6,6,9),\n",
    "(5,8,9)]\n",
    "\n",
    "for x in clues:\n",
    "    prob += choices[str(x[0])][str(x[1])][str(x[2])] == 1,\"\""
   ]
  },
  {
   "cell_type": "code",
   "execution_count": 24,
   "metadata": {},
   "outputs": [
    {
     "name": "stdout",
     "output_type": "stream",
     "text": [
      "('Status:', 'Optimal')\n"
     ]
    }
   ],
   "source": [
    "# The problem is solved using PuLP's choice of Solver\n",
    "prob.solve()\n",
    "\n",
    "# The status of the solution is printed to the screen\n",
    "print(\"Status:\", LpStatus[prob.status])"
   ]
  },
  {
   "cell_type": "code",
   "execution_count": 32,
   "metadata": {},
   "outputs": [
    {
     "name": "stdout",
     "output_type": "stream",
     "text": [
      "+-------+-------+-------+\n",
      "| 5 3 4 | 6 7 8 | 9 1 2 |\n",
      "| 6 7 2 | 1 9 5 | 3 4 8 |\n",
      "| 1 9 8 | 3 4 2 | 5 6 7 |\n",
      "+-------+-------+-------+\n",
      "| 8 5 9 | 7 6 1 | 4 2 3 |\n",
      "| 4 2 6 | 8 5 3 | 7 9 1 |\n",
      "| 7 1 3 | 9 2 4 | 8 5 6 |\n",
      "+-------+-------+-------+\n",
      "| 9 6 1 | 5 3 7 | 2 8 4 |\n",
      "| 2 8 7 | 4 1 9 | 6 3 5 |\n",
      "| 3 4 5 | 2 8 6 | 1 7 9 |\n",
      "+-------+-------+-------+\n"
     ]
    }
   ],
   "source": [
    "# The solution is written to the sudokuout.txt file \n",
    "for r in Rows:\n",
    "    if r == \"1\" or r == \"4\" or r == \"7\":\n",
    "                    print \"+-------+-------+-------+\\n\",\n",
    "    for c in Cols:\n",
    "        for v in Vals:\n",
    "            if value(choices[v][r][c])==1:\n",
    "                               \n",
    "                if c == \"1\" or c == \"4\" or c ==\"7\":\n",
    "                    print \"|\",\n",
    "                    \n",
    "                print v + \"\",\n",
    "                \n",
    "                if c == \"9\":\n",
    "                    print \"|\\n\",\n",
    "print \"+-------+-------+-------+\""
   ]
  },
  {
   "cell_type": "markdown",
   "metadata": {},
   "source": [
    "# Diagonal Sudoku"
   ]
  },
  {
   "cell_type": "code",
   "execution_count": 72,
   "metadata": {
    "collapsed": true
   },
   "outputs": [],
   "source": [
    "# A list of strings from \"1\" to \"9\" is created\n",
    "Sequence = [\"1\", \"2\", \"3\", \"4\", \"5\", \"6\", \"7\", \"8\", \"9\"]\n",
    "\n",
    "# The Vals, Rows and Cols sequences all follow this form\n",
    "Vals = Sequence\n",
    "Rows = Sequence\n",
    "Cols = Sequence\n",
    "\n",
    "# The boxes list is created, with the row and column index of each square in each box\n",
    "Boxes =[]\n",
    "for i in range(3):\n",
    "    for j in range(3):\n",
    "        Boxes += [[(Rows[3*i+k],Cols[3*j+l]) for k in range(3) for l in range(3)]]\n",
    "        \n",
    "# The prob variable is created to contain the problem data        \n",
    "prob = LpProblem(\"Sudoku Problem\",LpMinimize)\n",
    "# The problem variables are created\n",
    "choices = LpVariable.dicts(\"Choice\",(Vals,Rows,Cols),0,1,LpInteger)\n",
    "# The arbitrary objective function is added\n",
    "prob += 0, \"Arbitrary Objective Function\""
   ]
  },
  {
   "cell_type": "code",
   "execution_count": 73,
   "metadata": {
    "collapsed": true
   },
   "outputs": [],
   "source": [
    "# A constraint ensuring that only one value can be in each square is created\n",
    "for r in Rows:\n",
    "    for c in Cols:\n",
    "        prob += lpSum([choices[v][r][c] for v in Vals]) == 1, \"\"\n",
    "\n",
    "# The row, column and box constraints are added for each value\n",
    "for v in Vals:\n",
    "    for r in Rows:\n",
    "        prob += lpSum([choices[v][r][c] for c in Cols]) == 1,\"\"\n",
    "        \n",
    "    for c in Cols:\n",
    "        prob += lpSum([choices[v][r][c] for r in Rows]) == 1,\"\"\n",
    "\n",
    "    for b in Boxes:\n",
    "        prob += lpSum([choices[v][r][c] for (r,c) in b]) == 1,\"\"\n",
    "        \n",
    "# any other constraints??\n",
    "# The diagonal constraints are added for each value\n",
    "\n",
    "Diag = Sequence\n",
    "\n",
    "for v in Vals:\n",
    "    prob += lpSum([choices[v][d][str(10-int(d))] for d in Diag]) == 1,\"\"\n",
    "    prob += lpSum([choices[v][d][d             ] for d in Diag]) == 1,\"\""
   ]
  },
  {
   "cell_type": "code",
   "execution_count": 74,
   "metadata": {
    "collapsed": true
   },
   "outputs": [],
   "source": [
    "clues =   [\n",
    "    (9,1,2),\n",
    "    (7,1,4),\n",
    "    (1,1,5),\n",
    "    (3,2,5),\n",
    "    (2,2,6),\n",
    "    (1,2,9),\n",
    "    (6,3,2),\n",
    "    (9,3,4),\n",
    "    (2,4,1),\n",
    "    (9,4,3),\n",
    "    (5,4,6),\n",
    "    (1,6,4),\n",
    "    (5,6,7),\n",
    "    (7,6,9),\n",
    "    (1,7,6),\n",
    "    (4,7,8),\n",
    "    (9,8,1),\n",
    "    (4,8,4),\n",
    "    (9,8,1),\n",
    "    (4,8,4),\n",
    "    (7,8,5),\n",
    "    (6,9,5),\n",
    "    (8,9,6),\n",
    "    (3,9,8)\n",
    "]\n",
    "\n",
    "for x in clues:\n",
    "    prob += choices[str(x[0])][str(x[1])][str(x[2])] == 1,\"\""
   ]
  },
  {
   "cell_type": "code",
   "execution_count": 75,
   "metadata": {},
   "outputs": [
    {
     "name": "stdout",
     "output_type": "stream",
     "text": [
      "('Status:', 'Optimal')\n"
     ]
    }
   ],
   "source": [
    "# The problem is solved using PuLP's choice of Solver\n",
    "prob.solve()\n",
    "\n",
    "# The status of the solution is printed to the screen\n",
    "print(\"Status:\", LpStatus[prob.status])"
   ]
  },
  {
   "cell_type": "code",
   "execution_count": 76,
   "metadata": {},
   "outputs": [
    {
     "name": "stdout",
     "output_type": "stream",
     "text": [
      "+-------+-------+-------+\n",
      "| 3 9 8 | 7 1 6 | 2 5 4 |\n",
      "| 5 4 7 | 8 3 2 | 6 9 1 |\n",
      "| 1 6 2 | 9 5 4 | 3 7 8 |\n",
      "+-------+-------+-------+\n",
      "| 2 7 9 | 6 4 5 | 1 8 3 |\n",
      "| 6 5 1 | 3 8 7 | 4 2 9 |\n",
      "| 4 8 3 | 1 2 9 | 5 6 7 |\n",
      "+-------+-------+-------+\n",
      "| 8 3 6 | 5 9 1 | 7 4 2 |\n",
      "| 9 2 5 | 4 7 3 | 8 1 6 |\n",
      "| 7 1 4 | 2 6 8 | 9 3 5 |\n",
      "+-------+-------+-------+\n"
     ]
    }
   ],
   "source": [
    "# The solution is written to the sudokuout.txt file \n",
    "for r in Rows:\n",
    "    if r == \"1\" or r == \"4\" or r == \"7\":\n",
    "                    print \"+-------+-------+-------+\\n\",\n",
    "    for c in Cols:\n",
    "        for v in Vals:\n",
    "            if value(choices[v][r][c])==1:\n",
    "                               \n",
    "                if c == \"1\" or c == \"4\" or c ==\"7\":\n",
    "                    print \"|\",\n",
    "                    \n",
    "                print v + \"\",\n",
    "                \n",
    "                if c == \"9\":\n",
    "                    print \"|\\n\",\n",
    "print \"+-------+-------+-------+\""
   ]
  },
  {
   "cell_type": "markdown",
   "metadata": {},
   "source": [
    "# Octothorpe Sudoku\n",
    "\n",
    "Certain diagonal constraints pass through exactly 9 squares.  This was the last question on US Sudoku Championship 2017.  We have constructed another such example.  What remains is to attach clues in a satisfying way."
   ]
  },
  {
   "cell_type": "code",
   "execution_count": 90,
   "metadata": {
    "collapsed": true
   },
   "outputs": [],
   "source": [
    "# A list of strings from \"1\" to \"9\" is created\n",
    "Sequence = [\"1\", \"2\", \"3\", \"4\", \"5\", \"6\", \"7\", \"8\", \"9\"]\n",
    "\n",
    "# The Vals, Rows and Cols sequences all follow this form\n",
    "Vals = Sequence\n",
    "Rows = Sequence\n",
    "Cols = Sequence\n",
    "\n",
    "# The boxes list is created, with the row and column index of each square in each box\n",
    "Boxes =[]\n",
    "for i in range(3):\n",
    "    for j in range(3):\n",
    "        Boxes += [[(Rows[3*i+k],Cols[3*j+l]) for k in range(3) for l in range(3)]]\n",
    "        \n",
    "# The prob variable is created to contain the problem data        \n",
    "prob = LpProblem(\"Sudoku Problem\",LpMinimize)\n",
    "# The problem variables are created\n",
    "choices = LpVariable.dicts(\"Choice\",(Vals,Rows,Cols),0,1,LpInteger)\n",
    "# The arbitrary objective function is added\n",
    "prob += 0, \"Arbitrary Objective Function\""
   ]
  },
  {
   "cell_type": "code",
   "execution_count": 91,
   "metadata": {
    "collapsed": true
   },
   "outputs": [],
   "source": [
    "# A constraint ensuring that only one value can be in each square is created\n",
    "for r in Rows:\n",
    "    for c in Cols:\n",
    "        prob += lpSum([choices[v][r][c] for v in Vals])  == 1,\"\"\n",
    "\n",
    "# The row, column and box constraints are added for each value\n",
    "for v in Vals:\n",
    "    for r in Rows:\n",
    "        prob += lpSum([choices[v][r][c] for c in Cols])  == 1,\"\"\n",
    "        \n",
    "    for c in Cols:\n",
    "        prob += lpSum([choices[v][r][c] for r in Rows])  == 1,\"\"\n",
    "\n",
    "    for b in Boxes:\n",
    "        prob += lpSum([choices[v][r][c] for (r,c) in b]) == 1,\"\"\n",
    "        \n",
    "# any other constraints??\n",
    "# The diagonal constraints are added for each value\n",
    "\n",
    "Diag = [\n",
    "    [(\"1\",\"5\"),(\"2\",\"5\"),(\"3\",\"4\"),(\"4\",\"4\"),(\"5\",\"3\"),(\"6\",\"3\"),(\"7\",\"2\"),(\"8\",\"2\"),(\"9\",\"1\")],\n",
    "    [(\"1\",\"9\"),(\"2\",\"8\"),(\"3\",\"8\"),(\"4\",\"7\"),(\"5\",\"7\"),(\"6\",\"6\"),(\"7\",\"6\"),(\"8\",\"5\"),(\"9\",\"5\")],\n",
    "    [(\"5\",\"1\"),(\"5\",\"2\"),(\"6\",\"3\"),(\"6\",\"4\"),(\"7\",\"5\"),(\"7\",\"6\"),(\"8\",\"7\"),(\"8\",\"8\"),(\"9\",\"9\")],\n",
    "    [(\"1\",\"1\"),(\"2\",\"2\"),(\"2\",\"3\"),(\"3\",\"4\"),(\"3\",\"5\"),(\"4\",\"6\"),(\"4\",\"7\"),(\"5\",\"8\"),(\"5\",\"9\")]\n",
    "]\n",
    "\n",
    "for t in range(4):\n",
    "    for v in Vals:\n",
    "        prob += lpSum([choices[v][x[0]][x[1]] for x in Diag[t]]) == 1,\"\""
   ]
  },
  {
   "cell_type": "code",
   "execution_count": 16,
   "metadata": {
    "collapsed": true
   },
   "outputs": [],
   "source": [
    "# [(value,row,column),(value,row,column),...]\n",
    "clues =   [\n",
    "    (\"3\",\"1\",\"6\"),\n",
    "    (\"4\",\"1\",\"7\"),\n",
    "    (\"7\",\"2\",\"6\"),\n",
    "    (\"9\",\"2\",\"7\"),\n",
    "    (\"9\",\"3\",\"1\"),\n",
    "    (\"8\",\"3\",\"2\"),\n",
    "    (\"7\",\"3\",\"3\"),\n",
    "    (\"4\",\"3\",\"6\"),\n",
    "    (\"2\",\"3\",\"7\"),\n",
    "    (\"6\",\"4\",\"1\"),\n",
    "    (\"2\",\"4\",\"2\"),\n",
    "    (\"9\",\"4\",\"3\"),\n",
    "    (\"1\",\"6\",\"7\"),\n",
    "    (\"2\",\"6\",\"8\"),\n",
    "    (\"4\",\"6\",\"9\"),\n",
    "    (\"6\",\"7\",\"3\"),\n",
    "    (\"5\",\"7\",\"4\"),\n",
    "    (\"3\",\"7\",\"7\"),\n",
    "    (\"4\",\"7\",\"8\"),\n",
    "    (\"1\",\"7\",\"9\"),\n",
    "    (\"1\",\"8\",\"3\"),\n",
    "    (\"7\",\"8\",\"4\"),\n",
    "    (\"2\",\"9\",\"3\"),\n",
    "    (\"1\",\"9\",\"4\")\n",
    "]"
   ]
  },
  {
   "cell_type": "code",
   "execution_count": 93,
   "metadata": {
    "collapsed": true
   },
   "outputs": [],
   "source": [
    "\n",
    "for x in clues:\n",
    "    prob += choices[str(x[0])][str(x[1])][str(x[2])] == 1,\"\""
   ]
  },
  {
   "cell_type": "code",
   "execution_count": 94,
   "metadata": {},
   "outputs": [
    {
     "name": "stdout",
     "output_type": "stream",
     "text": [
      "('Status:', 'Optimal')\n"
     ]
    }
   ],
   "source": [
    "# The problem is solved using PuLP's choice of Solver\n",
    "prob.solve()\n",
    "\n",
    "# The status of the solution is printed to the screen\n",
    "print(\"Status:\", LpStatus[prob.status])"
   ]
  },
  {
   "cell_type": "code",
   "execution_count": 95,
   "metadata": {},
   "outputs": [
    {
     "name": "stdout",
     "output_type": "stream",
     "text": [
      "+-------+-------+-------+\n",
      "| 2 6 5 | 9 1 3 | 4 7 8 |\n",
      "| 1 3 4 | 8 2 7 | 9 5 6 |\n",
      "| 9 8 7 | 6 5 4 | 2 1 3 |\n",
      "+-------+-------+-------+\n",
      "| 6 2 9 | 4 8 1 | 7 3 5 |\n",
      "| 4 1 3 | 2 7 5 | 6 8 9 |\n",
      "| 7 5 8 | 3 6 9 | 1 2 4 |\n",
      "+-------+-------+-------+\n",
      "| 8 7 6 | 5 9 2 | 3 4 1 |\n",
      "| 3 9 1 | 7 4 8 | 5 6 2 |\n",
      "| 5 4 2 | 1 3 6 | 8 9 7 |\n",
      "+-------+-------+-------+\n"
     ]
    }
   ],
   "source": [
    "# The solution is written to the sudokuout.txt file \n",
    "for r in Rows:\n",
    "    if r == \"1\" or r == \"4\" or r == \"7\":\n",
    "                    print \"+-------+-------+-------+\\n\",\n",
    "    for c in Cols:\n",
    "        for v in Vals:\n",
    "            if value(choices[v][r][c])==1:\n",
    "                               \n",
    "                if c == \"1\" or c == \"4\" or c ==\"7\":\n",
    "                    print \"|\",\n",
    "                    \n",
    "                print v + \"\",\n",
    "                \n",
    "                if c == \"9\":\n",
    "                    print \"|\\n\",\n",
    "print \"+-------+-------+-------+\""
   ]
  },
  {
   "cell_type": "markdown",
   "metadata": {},
   "source": [
    "# Outside Sudoku"
   ]
  },
  {
   "cell_type": "code",
   "execution_count": 62,
   "metadata": {
    "collapsed": true
   },
   "outputs": [],
   "source": [
    "# A list of strings from \"1\" to \"9\" is created\n",
    "Sequence = [\"1\", \"2\", \"3\", \"4\", \"5\", \"6\", \"7\", \"8\", \"9\"]\n",
    "\n",
    "# The Vals, Rows and Cols sequences all follow this form\n",
    "Vals = Sequence\n",
    "Rows = Sequence\n",
    "Cols = Sequence\n",
    "\n",
    "# The boxes list is created, with the row and column index of each square in each box\n",
    "Boxes =[]\n",
    "for i in range(3):\n",
    "    for j in range(3):\n",
    "        Boxes += [[(Rows[3*i+k],Cols[3*j+l]) for k in range(3) for l in range(3)]]\n",
    "        \n",
    "# The prob variable is created to contain the problem data        \n",
    "prob = LpProblem(\"Sudoku Problem\",LpMinimize)\n",
    "# The problem variables are created\n",
    "choices = LpVariable.dicts(\"Choice\",(Vals,Rows,Cols),0,1,LpInteger)\n",
    "# The arbitrary objective function is added\n",
    "prob += 0, \"Arbitrary Objective Function\""
   ]
  },
  {
   "cell_type": "code",
   "execution_count": 63,
   "metadata": {
    "collapsed": true
   },
   "outputs": [],
   "source": [
    "# A constraint ensuring that only one value can be in each square is created\n",
    "for r in Rows:\n",
    "    for c in Cols:\n",
    "        prob += lpSum([choices[v][r][c] for v in Vals])  == 1,\"\"\n",
    "\n",
    "# The row, column and box constraints are added for each value\n",
    "for v in Vals:\n",
    "    for r in Rows:\n",
    "        prob += lpSum([choices[v][r][c] for c in Cols])  == 1,\"\"\n",
    "        \n",
    "    for c in Cols:\n",
    "        prob += lpSum([choices[v][r][c] for r in Rows])  == 1,\"\"\n",
    "\n",
    "    for b in Boxes:\n",
    "        prob += lpSum([choices[v][r][c] for (r,c) in b]) == 1,\"\""
   ]
  },
  {
   "cell_type": "code",
   "execution_count": 64,
   "metadata": {
    "collapsed": true
   },
   "outputs": [],
   "source": [
    "lClues = [[1,2],[7],[3,4],[1,4,6],[],[5,9],[1,4],[],[2,3]] \n",
    "\n",
    "rClues = [[8,9],[],[1,6],[3,8],[2],[1,4],[7,9],[],[1,4]]\n",
    "\n",
    "topClues = [[2,4,9],[],[1,3,6],[5,8],[],[1,3],[4,9],[],[2,7]]\n",
    "\n",
    "btmClues = [[1,8],[],[2,5],[2,7],[],[5,8,9],[5,8],[],[3,4]]"
   ]
  },
  {
   "cell_type": "code",
   "execution_count": 65,
   "metadata": {
    "collapsed": true
   },
   "outputs": [],
   "source": [
    "for r in Rows:\n",
    "    for x in lClues[int(r)-1]:\n",
    "        prob += lpSum([choices[str(x)][r][c] for c in [\"1\", \"2\", \"3\"]])  == 1,\"\"\n",
    "\n",
    "for r in Rows:\n",
    "    for x in rClues[int(r)-1]:\n",
    "        prob += lpSum([choices[str(x)][r][c] for c in [\"7\", \"8\", \"9\"]])  == 1,\"\"\n",
    "        \n",
    "for c in Cols:\n",
    "    for x in topClues[int(c)-1]:\n",
    "        prob += lpSum([choices[str(x)][r][c] for r in [\"1\", \"2\", \"3\"]])  == 1,\"\"\n",
    "\n",
    "for c in Cols:\n",
    "    for x in btmClues[int(c)-1]:\n",
    "        prob += lpSum([choices[str(x)][r][c] for r in [\"7\", \"8\", \"9\"]])  == 1,\"\""
   ]
  },
  {
   "cell_type": "code",
   "execution_count": 23,
   "metadata": {},
   "outputs": [
    {
     "name": "stdout",
     "output_type": "stream",
     "text": [
      "('Status:', 'Optimal')\n"
     ]
    }
   ],
   "source": [
    "# The problem is solved using PuLP's choice of Solver\n",
    "prob.solve()\n",
    "\n",
    "# The status of the solution is printed to the screen\n",
    "print(\"Status:\", LpStatus[prob.status])"
   ]
  },
  {
   "cell_type": "code",
   "execution_count": 24,
   "metadata": {},
   "outputs": [
    {
     "name": "stdout",
     "output_type": "stream",
     "text": [
      "+-------+-------+-------+\n",
      "| 2 5 1 | 6 4 3 | 9 8 7 |\n",
      "| 9 7 6 | 8 2 1 | 4 3 5 |\n",
      "| 4 8 3 | 5 9 7 | 1 6 2 |\n",
      "+-------+-------+-------+\n",
      "| 6 4 7 | 9 1 2 | 3 5 8 |\n",
      "| 3 1 8 | 4 5 6 | 2 7 9 |\n",
      "| 5 2 9 | 3 7 8 | 6 4 1 |\n",
      "+-------+-------+-------+\n",
      "| 1 6 4 | 2 8 5 | 7 9 3 |\n",
      "| 7 9 5 | 1 3 4 | 8 2 6 |\n",
      "| 8 3 2 | 7 6 9 | 5 1 4 |\n",
      "+-------+-------+-------+\n"
     ]
    }
   ],
   "source": [
    "# The solution is written to the sudokuout.txt file \n",
    "for r in Rows:\n",
    "    if r == \"1\" or r == \"4\" or r == \"7\":\n",
    "                    print \"+-------+-------+-------+\\n\",\n",
    "    for c in Cols:\n",
    "        for v in Vals:\n",
    "            if value(choices[v][r][c])==1:\n",
    "                               \n",
    "                if c == \"1\" or c == \"4\" or c ==\"7\":\n",
    "                    print \"|\",\n",
    "                    \n",
    "                print v + \"\",\n",
    "                \n",
    "                if c == \"9\":\n",
    "                    print \"|\\n\",\n",
    "print \"+-------+-------+-------+\""
   ]
  },
  {
   "cell_type": "code",
   "execution_count": 67,
   "metadata": {},
   "outputs": [
    {
     "name": "stdout",
     "output_type": "stream",
     "text": [
      "\\node at (-2 + 0.5,8 + 0.5) {1};\n",
      "\\node at (-1 + 0.5,8 + 0.5) {2};\n",
      "\\node at (-1 + 0.5,7 + 0.5) {7};\n",
      "\\node at (-2 + 0.5,6 + 0.5) {3};\n",
      "\\node at (-1 + 0.5,6 + 0.5) {4};\n",
      "\\node at (-3 + 0.5,5 + 0.5) {1};\n",
      "\\node at (-2 + 0.5,5 + 0.5) {4};\n",
      "\\node at (-1 + 0.5,5 + 0.5) {6};\n",
      "\\node at (-2 + 0.5,3 + 0.5) {5};\n",
      "\\node at (-1 + 0.5,3 + 0.5) {9};\n",
      "\\node at (-2 + 0.5,2 + 0.5) {1};\n",
      "\\node at (-1 + 0.5,2 + 0.5) {4};\n",
      "\\node at (-2 + 0.5,0 + 0.5) {2};\n",
      "\\node at (-1 + 0.5,0 + 0.5) {3};\n",
      "\n",
      "\\node at (9 + 0.5,8 + 0.5) {8};\n",
      "\\node at (10 + 0.5,8 + 0.5) {9};\n",
      "\\node at (9 + 0.5,6 + 0.5) {1};\n",
      "\\node at (10 + 0.5,6 + 0.5) {6};\n",
      "\\node at (9 + 0.5,5 + 0.5) {3};\n",
      "\\node at (10 + 0.5,5 + 0.5) {8};\n",
      "\\node at (9 + 0.5,4 + 0.5) {2};\n",
      "\\node at (9 + 0.5,3 + 0.5) {1};\n",
      "\\node at (10 + 0.5,3 + 0.5) {4};\n",
      "\\node at (9 + 0.5,2 + 0.5) {7};\n",
      "\\node at (10 + 0.5,2 + 0.5) {9};\n",
      "\\node at (9 + 0.5,0 + 0.5) {1};\n",
      "\\node at (10 + 0.5,0 + 0.5) {4};\n",
      "\n",
      "\\node at (0 + 0.5,-1 + 0.5) {1};\n",
      "\\node at (0 + 0.5,-2 + 0.5) {8};\n",
      "\\node at (2 + 0.5,-1 + 0.5) {2};\n",
      "\\node at (2 + 0.5,-2 + 0.5) {5};\n",
      "\\node at (3 + 0.5,-1 + 0.5) {2};\n",
      "\\node at (3 + 0.5,-2 + 0.5) {7};\n",
      "\\node at (5 + 0.5,-1 + 0.5) {5};\n",
      "\\node at (5 + 0.5,-2 + 0.5) {8};\n",
      "\\node at (5 + 0.5,-3 + 0.5) {9};\n",
      "\\node at (6 + 0.5,-1 + 0.5) {5};\n",
      "\\node at (6 + 0.5,-2 + 0.5) {8};\n",
      "\\node at (8 + 0.5,-1 + 0.5) {3};\n",
      "\\node at (8 + 0.5,-2 + 0.5) {4};\n",
      "\n",
      "\\node at (0 + 0.5,11 + 0.5) {2};\n",
      "\\node at (0 + 0.5,10 + 0.5) {4};\n",
      "\\node at (0 + 0.5,9 + 0.5) {9};\n",
      "\\node at (2 + 0.5,11 + 0.5) {1};\n",
      "\\node at (2 + 0.5,10 + 0.5) {3};\n",
      "\\node at (2 + 0.5,9 + 0.5) {6};\n",
      "\\node at (3 + 0.5,10 + 0.5) {5};\n",
      "\\node at (3 + 0.5,9 + 0.5) {8};\n",
      "\\node at (5 + 0.5,10 + 0.5) {1};\n",
      "\\node at (5 + 0.5,9 + 0.5) {3};\n",
      "\\node at (6 + 0.5,10 + 0.5) {4};\n",
      "\\node at (6 + 0.5,9 + 0.5) {9};\n",
      "\\node at (8 + 0.5,10 + 0.5) {2};\n",
      "\\node at (8 + 0.5,9 + 0.5) {7};\n"
     ]
    }
   ],
   "source": [
    "for r in Rows:\n",
    "    n = len(lClues[int(r)-1])\n",
    "    for x in range(n):\n",
    "        print \"\\\\node at (%s + 0.5,%s + 0.5) {%s};\" % (  -n+1*(x+1)-1, str(9-(int(r)-0)) , lClues[int(r)-1][x] )\n",
    "print\n",
    "\n",
    "for r in Rows:\n",
    "    n = len(rClues[int(r)-1])\n",
    "    for x in range(n):\n",
    "        print \"\\\\node at (%s + 0.5,%s + 0.5) {%s};\" % (  8+1*(x+1), str(9-(int(r)-0)) , rClues[int(r)-1][x] )        \n",
    "print\n",
    "        \n",
    "for c in Cols:\n",
    "    n = len(btmClues[int(c)-1])\n",
    "    for x in range(n):\n",
    "        print \"\\\\node at (%s + 0.5,%s + 0.5) {%s};\" % ( str((int(c)-0)-1), -1*(x+1), btmClues[int(c)-1][x] )\n",
    "print\n",
    "        \n",
    "for c in Cols:\n",
    "    n = len(topClues[int(c)-1])\n",
    "    for x in range(n):\n",
    "        print \"\\\\node at (%s + 0.5,%s + 0.5) {%s};\" % ( str((int(c)-0)-1), 9+n - 1*(x+1), topClues[int(c)-1][x] )"
   ]
  },
  {
   "cell_type": "markdown",
   "metadata": {
    "collapsed": true
   },
   "source": [
    "# Counting Solutions"
   ]
  },
  {
   "cell_type": "code",
   "execution_count": 1,
   "metadata": {},
   "outputs": [
    {
     "ename": "NameError",
     "evalue": "name 'prob' is not defined",
     "output_type": "error",
     "traceback": [
      "\u001b[0;31m---------------------------------------------------------------------------\u001b[0m",
      "\u001b[0;31mNameError\u001b[0m                                 Traceback (most recent call last)",
      "\u001b[0;32m<ipython-input-1-37ce654bc237>\u001b[0m in \u001b[0;36m<module>\u001b[0;34m()\u001b[0m\n\u001b[1;32m      2\u001b[0m \u001b[0;34m\u001b[0m\u001b[0m\n\u001b[1;32m      3\u001b[0m \u001b[0;32mwhile\u001b[0m \u001b[0mTrue\u001b[0m\u001b[0;34m:\u001b[0m\u001b[0;34m\u001b[0m\u001b[0m\n\u001b[0;32m----> 4\u001b[0;31m     \u001b[0mprob\u001b[0m\u001b[0;34m.\u001b[0m\u001b[0msolve\u001b[0m\u001b[0;34m(\u001b[0m\u001b[0;34m)\u001b[0m\u001b[0;34m\u001b[0m\u001b[0m\n\u001b[0m\u001b[1;32m      5\u001b[0m     \u001b[0;32mprint\u001b[0m\u001b[0;34m(\u001b[0m\u001b[0;34m\"Status:\"\u001b[0m\u001b[0;34m,\u001b[0m \u001b[0mLpStatus\u001b[0m\u001b[0;34m[\u001b[0m\u001b[0mprob\u001b[0m\u001b[0;34m.\u001b[0m\u001b[0mstatus\u001b[0m\u001b[0;34m]\u001b[0m\u001b[0;34m)\u001b[0m\u001b[0;34m\u001b[0m\u001b[0m\n\u001b[1;32m      6\u001b[0m \u001b[0;34m\u001b[0m\u001b[0m\n",
      "\u001b[0;31mNameError\u001b[0m: name 'prob' is not defined"
     ]
    }
   ],
   "source": [
    "count = 0\n",
    "\n",
    "while True:\n",
    "    prob.solve()\n",
    "    print(\"Status:\", LpStatus[prob.status])\n",
    "\n",
    "    if LpStatus[prob.status] == \"Optimal\":\n",
    "        count += 1\n",
    "        \n",
    "        if count % 1 == 0:\n",
    "            # The solution is written to the sudokuout.txt file \n",
    "            for r in Rows:\n",
    "                if r == \"1\" or r == \"4\" or r == \"7\":\n",
    "                                print \"+-------+-------+-------+\\n\",\n",
    "                for c in Cols:\n",
    "                    for v in Vals:\n",
    "                        if value(choices[v][r][c])==1:\n",
    "\n",
    "                            if c == \"1\" or c == \"4\" or c ==\"7\":\n",
    "                                print \"|\",\n",
    "\n",
    "                            print v + \"\",\n",
    "\n",
    "                            if c == \"9\":\n",
    "                                print \"|\\n\",\n",
    "            print \"+-------+-------+-------+\"\n",
    "            print\n",
    "        prob  += lpSum([choices[v][r][c] for v in Vals\n",
    "                                        for r in Rows\n",
    "                                        for c in Cols\n",
    "                                        if value(choices[v][r][c])==1]) <= 80\n",
    "    else:\n",
    "        break\n"
   ]
  },
  {
   "cell_type": "markdown",
   "metadata": {
    "collapsed": true
   },
   "source": [
    "# Automation: Diagonal Sudoku"
   ]
  },
  {
   "cell_type": "code",
   "execution_count": 1,
   "metadata": {
    "collapsed": true
   },
   "outputs": [],
   "source": [
    "import numpy as np\n",
    "from pulp import *"
   ]
  },
  {
   "cell_type": "code",
   "execution_count": 2,
   "metadata": {
    "collapsed": true
   },
   "outputs": [],
   "source": [
    "# 1. find completed sudoku grid\n",
    "# 2. pick a reasonable shape of cluues (by hand)\n",
    "# 3. solve new puzzle \n",
    "# 4. check for unique solution -> 6.\n",
    "# 5. add clues -> 3.\n",
    "# 6. end"
   ]
  },
  {
   "cell_type": "code",
   "execution_count": 17,
   "metadata": {
    "collapsed": true
   },
   "outputs": [],
   "source": [
    "def countSolutions(clues):\n",
    "    \n",
    "    # A list of strings from \"1\" to \"9\" is created\n",
    "    Sequence = [\"1\", \"2\", \"3\", \"4\", \"5\", \"6\", \"7\", \"8\", \"9\"]\n",
    "\n",
    "    # The Vals, Rows and Cols sequences all follow this form\n",
    "    Vals = Sequence\n",
    "    Rows = Sequence\n",
    "    Cols = Sequence\n",
    "\n",
    "    # The boxes list is created, with the row and column index of each square in each box\n",
    "    Boxes =[]\n",
    "    for i in range(3):\n",
    "        for j in range(3):\n",
    "            Boxes += [[(Rows[3*i+k],Cols[3*j+l]) for k in range(3) for l in range(3)]]\n",
    "\n",
    "    # The prob variable is created to contain the problem data        \n",
    "    prob = LpProblem(\"Sudoku Problem\",LpMinimize)\n",
    "    # The problem variables are created\n",
    "    choices = LpVariable.dicts(\"Choice\",(Vals,Rows,Cols),0,1,LpInteger)\n",
    "    # The arbitrary objective function is added\n",
    "    prob += 0, \"Arbitrary Objective Function\"\n",
    "    \n",
    "    # A constraint ensuring that only one value can be in each square is created\n",
    "    for r in Rows:\n",
    "        for c in Cols:\n",
    "            prob += lpSum([choices[v][r][c] for v in Vals])  == 1,\"\"\n",
    "\n",
    "    # The row, column and box constraints are added for each value\n",
    "    for v in Vals:\n",
    "        for r in Rows:\n",
    "            prob += lpSum([choices[v][r][c] for c in Cols])  == 1,\"\"\n",
    "\n",
    "        for c in Cols:\n",
    "            prob += lpSum([choices[v][r][c] for r in Rows])  == 1,\"\"\n",
    "\n",
    "        for b in Boxes:\n",
    "            prob += lpSum([choices[v][r][c] for (r,c) in b]) == 1,\"\"\n",
    "\n",
    "    # any other constraints??\n",
    "    # The diagonal constraints are added for each value\n",
    "\n",
    "    Diag = [\n",
    "        [(\"1\",\"5\"),(\"2\",\"5\"),(\"3\",\"4\"),(\"4\",\"4\"),(\"5\",\"3\"),(\"6\",\"3\"),(\"7\",\"2\"),(\"8\",\"2\"),(\"9\",\"1\")],\n",
    "        [(\"1\",\"9\"),(\"2\",\"8\"),(\"3\",\"8\"),(\"4\",\"7\"),(\"5\",\"7\"),(\"6\",\"6\"),(\"7\",\"6\"),(\"8\",\"5\"),(\"9\",\"5\")],\n",
    "        [(\"5\",\"1\"),(\"5\",\"2\"),(\"6\",\"3\"),(\"6\",\"4\"),(\"7\",\"5\"),(\"7\",\"6\"),(\"8\",\"7\"),(\"8\",\"8\"),(\"9\",\"9\")],\n",
    "        [(\"1\",\"1\"),(\"2\",\"2\"),(\"2\",\"3\"),(\"3\",\"4\"),(\"3\",\"5\"),(\"4\",\"6\"),(\"4\",\"7\"),(\"5\",\"8\"),(\"5\",\"9\")]\n",
    "    ]\n",
    "\n",
    "    for t in range(4):\n",
    "        for v in Vals:\n",
    "            prob += lpSum([choices[v][x[0]][x[1]] for x in Diag[t]]) == 1,\"\"\n",
    "            \n",
    "    print clues\n",
    "            \n",
    "    for x in clues:\n",
    "        prob += choices[str(x[0])][str(x[1])][str(x[2])] == 1,\"\"  \n",
    "\n",
    "    count = 0\n",
    "\n",
    "    while count < 10:\n",
    "        prob.solve()\n",
    "        print(\"Status:\", LpStatus[prob.status])\n",
    "\n",
    "        if LpStatus[prob.status] == \"Optimal\":\n",
    "            count += 1\n",
    "\n",
    "            if count % 1 == 0:\n",
    "                # The solution is written to the sudokuout.txt file \n",
    "                for r in Rows:\n",
    "                    if r == \"1\" or r == \"4\" or r == \"7\":\n",
    "                                    print \"+-------+-------+-------+\\n\",\n",
    "                    for c in Cols:\n",
    "                        for v in Vals:\n",
    "                            if value(choices[v][r][c])==1:\n",
    "\n",
    "                                if c == \"1\" or c == \"4\" or c ==\"7\":\n",
    "                                    print \"|\",\n",
    "\n",
    "                                print v + \"\",\n",
    "\n",
    "                                if c == \"9\":\n",
    "                                    print \"|\\n\",\n",
    "                print \"+-------+-------+-------+\"\n",
    "                print\n",
    "            prob  += lpSum([choices[v][r][c] for v in Vals\n",
    "                                            for r in Rows\n",
    "                                            for c in Cols\n",
    "                                            if value(choices[v][r][c])==1]) <= 80\n",
    "        else:\n",
    "            break\n",
    "    \n",
    "    return count"
   ]
  },
  {
   "cell_type": "code",
   "execution_count": 21,
   "metadata": {},
   "outputs": [
    {
     "name": "stdout",
     "output_type": "stream",
     "text": [
      "[(8, 4, 1), (5, 4, 2), (1, 4, 3), (6, 4, 4), (2, 4, 5), (4, 4, 6), (7, 4, 7), (9, 4, 8), (3, 4, 9), (4, 1, 4), (1, 2, 4), (3, 3, 4), (6, 4, 4), (5, 5, 4), (9, 6, 4), (8, 7, 4), (2, 8, 4), (7, 9, 4), (8, 9, 9)]\n",
      "('Status:', 'Optimal')\n",
      "+-------+-------+-------+\n",
      "| 2 8 3 | 4 7 5 | 9 1 6 |\n",
      "| 6 9 5 | 1 8 2 | 4 3 7 |\n",
      "| 1 7 4 | 3 6 9 | 8 5 2 |\n",
      "+-------+-------+-------+\n",
      "| 8 5 1 | 6 2 4 | 7 9 3 |\n",
      "| 4 6 9 | 5 3 7 | 2 8 1 |\n",
      "| 7 3 2 | 9 1 8 | 5 6 4 |\n",
      "+-------+-------+-------+\n",
      "| 3 4 7 | 8 5 1 | 6 2 9 |\n",
      "| 9 1 8 | 2 4 6 | 3 7 5 |\n",
      "| 5 2 6 | 7 9 3 | 1 4 8 |\n",
      "+-------+-------+-------+\n",
      "\n",
      "('Status:', 'Undefined')\n"
     ]
    },
    {
     "data": {
      "text/plain": [
       "1"
      ]
     },
     "execution_count": 21,
     "metadata": {},
     "output_type": "execute_result"
    }
   ],
   "source": [
    "#f = lambda x: (str(x[0]), str(x[1]), str(x[2]))\n",
    "\n",
    "clueA = [\n",
    "    (8,4,1),(5,4,2),(1,4,3),(6,4,4),(2,4,5),(4,4,6),(7,4,7),(9,4,8),(3,4,9),\n",
    "    (4,1,4),(1,2,4),(3,3,4),(6,4,4),(5,5,4),(9,6,4),(8,7,4),(2,8,4),(7,9,4),\n",
    "    (8,9,9)\n",
    "] \n",
    "\n",
    "#print clueA\n",
    "#clueA = [(4,1,5)]\n",
    "\n",
    "countSolutions(clueA)"
   ]
  },
  {
   "cell_type": "code",
   "execution_count": 28,
   "metadata": {},
   "outputs": [
    {
     "name": "stdout",
     "output_type": "stream",
     "text": [
      "\\node at (3 + 0.5,8 + 0.5) {8};\n",
      "\\node at (3 + 0.5,7 + 0.5) {5};\n",
      "\\node at (3 + 0.5,6 + 0.5) {1};\n",
      "\\node at (3 + 0.5,5 + 0.5) {6};\n",
      "\\node at (3 + 0.5,4 + 0.5) {2};\n",
      "\\node at (3 + 0.5,3 + 0.5) {4};\n",
      "\\node at (3 + 0.5,2 + 0.5) {7};\n",
      "\\node at (3 + 0.5,1 + 0.5) {9};\n",
      "\\node at (3 + 0.5,0 + 0.5) {3};\n",
      "\\node at (0 + 0.5,5 + 0.5) {4};\n",
      "\\node at (1 + 0.5,5 + 0.5) {1};\n",
      "\\node at (2 + 0.5,5 + 0.5) {3};\n",
      "\\node at (3 + 0.5,5 + 0.5) {6};\n",
      "\\node at (4 + 0.5,5 + 0.5) {5};\n",
      "\\node at (5 + 0.5,5 + 0.5) {9};\n",
      "\\node at (6 + 0.5,5 + 0.5) {8};\n",
      "\\node at (7 + 0.5,5 + 0.5) {2};\n",
      "\\node at (8 + 0.5,5 + 0.5) {7};\n",
      "\\node at (8 + 0.5,0 + 0.5) {8};\n",
      "\n"
     ]
    }
   ],
   "source": [
    "def TeX(clues):\n",
    "    puz = \"\"\n",
    "    \n",
    "    for x in clues:\n",
    "        puz += \"\\\\node at (%s + 0.5,%s + 0.5) {%s};\\n\" % (x[1]-1,9-x[2],x[0])\n",
    "    \n",
    "\n",
    "    return puz\n",
    "\n",
    "\n",
    "print TeX(clueA)"
   ]
  },
  {
   "cell_type": "markdown",
   "metadata": {},
   "source": [
    "# Automation: Outside Sudoku"
   ]
  },
  {
   "cell_type": "code",
   "execution_count": 29,
   "metadata": {
    "collapsed": true
   },
   "outputs": [],
   "source": [
    "# roughly 40 clues"
   ]
  },
  {
   "cell_type": "code",
   "execution_count": 30,
   "metadata": {
    "collapsed": true
   },
   "outputs": [],
   "source": [
    "import numpy as np\n",
    "from pulp import *"
   ]
  },
  {
   "cell_type": "code",
   "execution_count": 31,
   "metadata": {
    "collapsed": true
   },
   "outputs": [],
   "source": [
    "def countSolutions((A,B,C,D)):\n",
    "    \n",
    "    # A list of strings from \"1\" to \"9\" is created\n",
    "    Sequence = [\"1\", \"2\", \"3\", \"4\", \"5\", \"6\", \"7\", \"8\", \"9\"]\n",
    "\n",
    "    # The Vals, Rows and Cols sequences all follow this form\n",
    "    Vals = Sequence\n",
    "    Rows = Sequence\n",
    "    Cols = Sequence\n",
    "\n",
    "    # The boxes list is created, with the row and column index of each square in each box\n",
    "    Boxes =[]\n",
    "    for i in range(3):\n",
    "        for j in range(3):\n",
    "            Boxes += [[(Rows[3*i+k],Cols[3*j+l]) for k in range(3) for l in range(3)]]\n",
    "\n",
    "    # The prob variable is created to contain the problem data        \n",
    "    prob = LpProblem(\"Sudoku Problem\",LpMinimize)\n",
    "    # The problem variables are created\n",
    "    choices = LpVariable.dicts(\"Choice\",(Vals,Rows,Cols),0,1,LpInteger)\n",
    "    # The arbitrary objective function is added\n",
    "    prob += 0, \"Arbitrary Objective Function\"\n",
    "    \n",
    "    # A constraint ensuring that only one value can be in each square is created\n",
    "    for r in Rows:\n",
    "        for c in Cols:\n",
    "            prob += lpSum([choices[v][r][c] for v in Vals])  == 1,\"\"\n",
    "\n",
    "    # The row, column and box constraints are added for each value\n",
    "    for v in Vals:\n",
    "        for r in Rows:\n",
    "            prob += lpSum([choices[v][r][c] for c in Cols])  == 1,\"\"\n",
    "\n",
    "        for c in Cols:\n",
    "            prob += lpSum([choices[v][r][c] for r in Rows])  == 1,\"\"\n",
    "\n",
    "        for b in Boxes:\n",
    "            prob += lpSum([choices[v][r][c] for (r,c) in b]) == 1,\"\"\n",
    "\n",
    "    # any other constraints??\n",
    "    \n",
    "    for r in Rows:\n",
    "        for x in A[int(r)-1]:\n",
    "            prob += lpSum([choices[str(x)][r][c] for c in [\"1\", \"2\", \"3\"]])  == 1,\"\"\n",
    "\n",
    "    for r in Rows:\n",
    "        for x in B[int(r)-1]:\n",
    "            prob += lpSum([choices[str(x)][r][c] for c in [\"7\", \"8\", \"9\"]])  == 1,\"\"\n",
    "\n",
    "    for c in Cols:\n",
    "        for x in C[int(c)-1]:\n",
    "            prob += lpSum([choices[str(x)][r][c] for r in [\"1\", \"2\", \"3\"]])  == 1,\"\"\n",
    "\n",
    "    for c in Cols:\n",
    "        for x in D[int(c)-1]:\n",
    "            prob += lpSum([choices[str(x)][r][c] for r in [\"7\", \"8\", \"9\"]])  == 1,\"\"    \n",
    "            \n",
    "            \n",
    "    # ------------------------------------------------------------------------------\n",
    "\n",
    "    count = 0\n",
    "\n",
    "    while count < 10:\n",
    "        prob.solve()\n",
    "        print(\"Status:\", LpStatus[prob.status])\n",
    "\n",
    "        if LpStatus[prob.status] == \"Optimal\":\n",
    "            count += 1\n",
    "\n",
    "            if count % 1 == 0:\n",
    "                # The solution is written to the sudokuout.txt file \n",
    "                for r in Rows:\n",
    "                    if r == \"1\" or r == \"4\" or r == \"7\":\n",
    "                                    print \"+-------+-------+-------+\\n\",\n",
    "                    for c in Cols:\n",
    "                        for v in Vals:\n",
    "                            if value(choices[v][r][c])==1:\n",
    "\n",
    "                                if c == \"1\" or c == \"4\" or c ==\"7\":\n",
    "                                    print \"|\",\n",
    "\n",
    "                                print v + \"\",\n",
    "\n",
    "                                if c == \"9\":\n",
    "                                    print \"|\\n\",\n",
    "                print \"+-------+-------+-------+\"\n",
    "                print\n",
    "            prob  += lpSum([choices[v][r][c] for v in Vals\n",
    "                                            for r in Rows\n",
    "                                            for c in Cols\n",
    "                                            if value(choices[v][r][c])==1]) <= 80\n",
    "        else:\n",
    "            break\n",
    "    \n",
    "    return count"
   ]
  },
  {
   "cell_type": "code",
   "execution_count": 57,
   "metadata": {
    "collapsed": true
   },
   "outputs": [],
   "source": [
    "left  = [[],[1,5,8],[4],[1,7],[6],[2],[8],[3],[2,5,9]] \n",
    "\n",
    "right = [[3,8,9],[4],[7],[6],[1],[4],[9],[5,7,8],[]]\n",
    "\n",
    "top = [[3,7,8],[1],[4],[1,6],[5],[9],[2],[1,6,8],[]]\n",
    "\n",
    "btm = [[],[2,4,8],[9],[3],[7],[1],[3,6],[5],[1,2,8]]"
   ]
  },
  {
   "cell_type": "code",
   "execution_count": 58,
   "metadata": {},
   "outputs": [
    {
     "name": "stdout",
     "output_type": "stream",
     "text": [
      "('Status:', 'Optimal')\n",
      "+-------+-------+-------+\n",
      "| 7 6 2 | 1 5 4 | 9 8 3 |\n",
      "| 8 1 5 | 7 3 9 | 2 6 4 |\n",
      "| 3 9 4 | 6 8 2 | 5 1 7 |\n",
      "+-------+-------+-------+\n",
      "| 9 7 1 | 5 4 3 | 8 2 6 |\n",
      "| 4 5 6 | 8 2 7 | 1 3 9 |\n",
      "| 2 3 8 | 9 1 6 | 4 7 5 |\n",
      "+-------+-------+-------+\n",
      "| 1 8 7 | 4 6 5 | 3 9 2 |\n",
      "| 6 4 3 | 2 9 1 | 7 5 8 |\n",
      "| 5 2 9 | 3 7 8 | 6 4 1 |\n",
      "+-------+-------+-------+\n",
      "\n",
      "('Status:', 'Infeasible')\n"
     ]
    },
    {
     "data": {
      "text/plain": [
       "1"
      ]
     },
     "execution_count": 58,
     "metadata": {},
     "output_type": "execute_result"
    }
   ],
   "source": [
    "countSolutions((left, right, top, btm))"
   ]
  },
  {
   "cell_type": "code",
   "execution_count": 62,
   "metadata": {
    "collapsed": true
   },
   "outputs": [],
   "source": [
    "def tex((A,B,C,D)):\n",
    "    \n",
    "    # A list of strings from \"1\" to \"9\" is created\n",
    "    Sequence = [\"1\", \"2\", \"3\", \"4\", \"5\", \"6\", \"7\", \"8\", \"9\"]\n",
    "\n",
    "    # The Vals, Rows and Cols sequences all follow this form\n",
    "    Vals = Sequence\n",
    "    Rows = Sequence\n",
    "    Cols = Sequence\n",
    "    \n",
    "    for r in Rows:\n",
    "        n = len(A[int(r)-1])\n",
    "        for x in range(n):\n",
    "            print \"\\\\node at (%s + 0.5,%s + 0.5) {%s};\" % (  -n+1*(x+1)-1, str(9-(int(r)-0)) , A[int(r)-1][x] )\n",
    "    print\n",
    "\n",
    "    for r in Rows:\n",
    "        n = len(B[int(r)-1])\n",
    "        for x in range(n):\n",
    "            print \"\\\\node at (%s + 0.5,%s + 0.5) {%s};\" % (  8+1*(x+1), str(9-(int(r)-0)) , B[int(r)-1][x] )        \n",
    "    print\n",
    "\n",
    "    for c in Cols:\n",
    "        n = len(C[int(c)-1])\n",
    "        for x in range(n):\n",
    "            print \"\\\\node at (%s + 0.5,%s + 0.5) {%s};\" % ( str((int(c)-0)-1), -1*(x+1), C[int(c)-1][x] )\n",
    "    print\n",
    "\n",
    "    for c in Cols:\n",
    "        n = len(D[int(c)-1])\n",
    "        for x in range(n):\n",
    "            print \"\\\\node at (%s + 0.5,%s + 0.5) {%s};\" % ( str((int(c)-0)-1), 9+n - 1*(x+1), D[int(c)-1][x] )"
   ]
  },
  {
   "cell_type": "code",
   "execution_count": 63,
   "metadata": {},
   "outputs": [
    {
     "name": "stdout",
     "output_type": "stream",
     "text": [
      "\\node at (-3 + 0.5,7 + 0.5) {1};\n",
      "\\node at (-2 + 0.5,7 + 0.5) {5};\n",
      "\\node at (-1 + 0.5,7 + 0.5) {8};\n",
      "\\node at (-1 + 0.5,6 + 0.5) {4};\n",
      "\\node at (-2 + 0.5,5 + 0.5) {1};\n",
      "\\node at (-1 + 0.5,5 + 0.5) {7};\n",
      "\\node at (-1 + 0.5,4 + 0.5) {6};\n",
      "\\node at (-1 + 0.5,3 + 0.5) {2};\n",
      "\\node at (-1 + 0.5,2 + 0.5) {8};\n",
      "\\node at (-1 + 0.5,1 + 0.5) {3};\n",
      "\\node at (-3 + 0.5,0 + 0.5) {2};\n",
      "\\node at (-2 + 0.5,0 + 0.5) {5};\n",
      "\\node at (-1 + 0.5,0 + 0.5) {9};\n",
      "\n",
      "\\node at (9 + 0.5,8 + 0.5) {3};\n",
      "\\node at (10 + 0.5,8 + 0.5) {8};\n",
      "\\node at (11 + 0.5,8 + 0.5) {9};\n",
      "\\node at (9 + 0.5,7 + 0.5) {4};\n",
      "\\node at (9 + 0.5,6 + 0.5) {7};\n",
      "\\node at (9 + 0.5,5 + 0.5) {6};\n",
      "\\node at (9 + 0.5,4 + 0.5) {1};\n",
      "\\node at (9 + 0.5,3 + 0.5) {4};\n",
      "\\node at (9 + 0.5,2 + 0.5) {9};\n",
      "\\node at (9 + 0.5,1 + 0.5) {5};\n",
      "\\node at (10 + 0.5,1 + 0.5) {7};\n",
      "\\node at (11 + 0.5,1 + 0.5) {8};\n",
      "\n",
      "\\node at (0 + 0.5,-1 + 0.5) {3};\n",
      "\\node at (0 + 0.5,-2 + 0.5) {7};\n",
      "\\node at (0 + 0.5,-3 + 0.5) {8};\n",
      "\\node at (1 + 0.5,-1 + 0.5) {1};\n",
      "\\node at (2 + 0.5,-1 + 0.5) {4};\n",
      "\\node at (3 + 0.5,-1 + 0.5) {1};\n",
      "\\node at (3 + 0.5,-2 + 0.5) {6};\n",
      "\\node at (4 + 0.5,-1 + 0.5) {5};\n",
      "\\node at (5 + 0.5,-1 + 0.5) {9};\n",
      "\\node at (6 + 0.5,-1 + 0.5) {2};\n",
      "\\node at (7 + 0.5,-1 + 0.5) {1};\n",
      "\\node at (7 + 0.5,-2 + 0.5) {6};\n",
      "\\node at (7 + 0.5,-3 + 0.5) {8};\n",
      "\n",
      "\\node at (1 + 0.5,11 + 0.5) {2};\n",
      "\\node at (1 + 0.5,10 + 0.5) {4};\n",
      "\\node at (1 + 0.5,9 + 0.5) {8};\n",
      "\\node at (2 + 0.5,9 + 0.5) {9};\n",
      "\\node at (3 + 0.5,9 + 0.5) {3};\n",
      "\\node at (4 + 0.5,9 + 0.5) {7};\n",
      "\\node at (5 + 0.5,9 + 0.5) {1};\n",
      "\\node at (6 + 0.5,10 + 0.5) {3};\n",
      "\\node at (6 + 0.5,9 + 0.5) {6};\n",
      "\\node at (7 + 0.5,9 + 0.5) {5};\n",
      "\\node at (8 + 0.5,11 + 0.5) {1};\n",
      "\\node at (8 + 0.5,10 + 0.5) {2};\n",
      "\\node at (8 + 0.5,9 + 0.5) {8};\n"
     ]
    }
   ],
   "source": [
    "tex((left, right, top, btm))"
   ]
  },
  {
   "cell_type": "markdown",
   "metadata": {},
   "source": [
    "# Thermometer Sudoku"
   ]
  },
  {
   "cell_type": "code",
   "execution_count": 65,
   "metadata": {
    "collapsed": true
   },
   "outputs": [],
   "source": [
    "# in addition to the sudoku grid, we need to encode that the value at one square is less than the value at another"
   ]
  },
  {
   "cell_type": "markdown",
   "metadata": {},
   "source": [
    "# Roman Numeral Sudoku"
   ]
  },
  {
   "cell_type": "code",
   "execution_count": 32,
   "metadata": {
    "collapsed": true
   },
   "outputs": [],
   "source": [
    "# I < II < III < VIII\n",
    "# V < VI < VII < VIII\n",
    "# I < IX\n",
    "# I < IV\n",
    "# V < IV"
   ]
  },
  {
   "cell_type": "code",
   "execution_count": 708,
   "metadata": {
    "collapsed": true
   },
   "outputs": [],
   "source": [
    "import numpy as np\n",
    "from pulp import *"
   ]
  },
  {
   "cell_type": "code",
   "execution_count": 709,
   "metadata": {
    "collapsed": true
   },
   "outputs": [],
   "source": [
    "# A list of strings from \"1\" to \"9\" is created\n",
    "Sequence = [\"I\", \"II\", \"III\", \"IV\", \"V\", \"VI\", \"VII\", \"VIII\", \"IX\"]\n",
    "\n",
    "# The Vals, Rows and Cols sequences all follow this form\n",
    "Vals = Sequence\n",
    "Rows = Sequence\n",
    "Cols = Sequence"
   ]
  },
  {
   "cell_type": "code",
   "execution_count": 710,
   "metadata": {
    "collapsed": true
   },
   "outputs": [],
   "source": [
    "# The boxes list is created, with the row and column index of each square in each box\n",
    "Boxes =[]\n",
    "for i in range(3):\n",
    "    for j in range(3):\n",
    "        Boxes += [[(Rows[3*i+k],Cols[3*j+l]) for k in range(3) for l in range(3)]]"
   ]
  },
  {
   "cell_type": "code",
   "execution_count": 711,
   "metadata": {
    "collapsed": true
   },
   "outputs": [],
   "source": [
    "# The prob variable is created to contain the problem data        \n",
    "prob = LpProblem(\"Sudoku Problem\",LpMinimize)\n",
    "# The problem variables are created\n",
    "choices = LpVariable.dicts(\"Choice\",(Vals,Rows,Cols),0,1,LpInteger)\n",
    "# The arbitrary objective function is added\n",
    "prob += 0, \"Arbitrary Objective Function\""
   ]
  },
  {
   "cell_type": "code",
   "execution_count": 712,
   "metadata": {
    "collapsed": true
   },
   "outputs": [],
   "source": [
    "# A constraint ensuring that only one value can be in each square is created\n",
    "for r in Rows:\n",
    "    for c in Cols:\n",
    "        prob += lpSum([choices[v][r][c] for v in Vals]) == 1, \"\"\n",
    "# The row, column and box constraints are added for each value\n",
    "for v in Vals:\n",
    "    for r in Rows:\n",
    "        prob += lpSum([choices[v][r][c] for c in Cols]) == 1,\"\"\n",
    "        \n",
    "    for c in Cols:\n",
    "        prob += lpSum([choices[v][r][c] for r in Rows]) == 1,\"\"\n",
    "\n",
    "    for b in Boxes:\n",
    "        prob += lpSum([choices[v][r][c] for (r,c) in b]) == 1,\"\"\n",
    "        \n",
    "# any other constraints??"
   ]
  },
  {
   "cell_type": "code",
   "execution_count": 713,
   "metadata": {
    "collapsed": true
   },
   "outputs": [],
   "source": [
    "gt = { \n",
    "    \"I\":    [ \"I\"  , \"II\" ,   \"III\",   \"IV\"    , \"IX\", \"VI\", \"VII\", \"VIII\"],\n",
    "    \"II\":   [ \"II\" , \"III\",   \"VII\",   \"VIII\" ],\n",
    "    \"III\":  [ \"III\", \"VIII\"],\n",
    "    \"IV\":   [ \"IV\" ] ,\n",
    "    \"V\" :   [ \"V\",   \"VI\"   , \"IV\"   , \"VII\"   , \"VIII\"],\n",
    "    \"VI\" :  [ \"VI\" , \"VII\"  , \"VIII\"],\n",
    "    \"VII\":  [ \"VII\", \"VIII\"],\n",
    "    \"VIII\": [ \"VIII\" ],\n",
    "    \"IX\":   [ \"IX\"   ],\n",
    "    \"X\":    [ \"IX\"]\n",
    "     }"
   ]
  },
  {
   "cell_type": "code",
   "execution_count": 714,
   "metadata": {
    "collapsed": true
   },
   "outputs": [],
   "source": [
    "clues = [\n",
    "    (\"IV\", \"I\", \"I\"),\n",
    "    (\"VI\", \"I\", \"II\"),\n",
    "    (\"VII\", \"I\", \"III\"),\n",
    "    (\"III\", \"I\", \"IV\"),\n",
    "    (\"II\", \"I\", \"V\"),\n",
    "    (\"I\", \"I\", \"VI\"),\n",
    "    (\"X\", \"I\", \"VII\"),\n",
    "    (\"II\", \"I\", \"VIII\"),\n",
    "    (\"V\", \"I\", \"IX\"),\n",
    "    (\"IX\", \"II\"  , \"I\"),\n",
    "    (\"I\", \"III\" , \"I\"),\n",
    "    (\"II\", \"IV\"  , \"I\"),\n",
    "    (\"V\", \"V\"   , \"I\"),\n",
    "    (\"VI\", \"VI\"  , \"I\"),\n",
    "    (\"V\", \"VII\" , \"I\"),\n",
    "    (\"I\", \"VIII\", \"I\"),\n",
    "    (\"I\", \"IX\"  , \"I\"   ),\n",
    "    (\"III\", \"IX\"  , \"II\"  ),\n",
    "    (\"V\", \"IX\"  , \"III\" ),\n",
    "    (\"I\", \"IX\"  , \"IV\"  ),\n",
    "    (\"V\", \"IX\"  , \"V\"   ),\n",
    "    (\"IX\", \"IX\"  , \"VI\"  ),\n",
    "    (\"V\", \"IX\"  , \"VII\" ),\n",
    "    (\"IV\", \"IX\"  , \"VIII\"),\n",
    "    (\"I\", \"IX\"  , \"IX\"  ),\n",
    "    (\"I\", \"II\"  , \"IX\"),\n",
    "    (\"IV\", \"III\" , \"IX\"),\n",
    "    (\"V\", \"IV\"  , \"IX\"),\n",
    "    (\"III\", \"V\"   , \"IX\"),\n",
    "    (\"V\", \"VI\"  , \"IX\"),\n",
    "    (\"I\", \"VII\" , \"IX\"),\n",
    "    (\"I\", \"VIII\", \"IX\"),\n",
    "    (\"V\", \"IV\", \"IV\"),\n",
    "    (\"I\", \"IV\", \"VI\"),\n",
    "    (\"IX\", \"VI\", \"IV\"),\n",
    "    (\"VIII\", \"VI\", \"VI\"),\n",
    "    (\"VII\", \"III\", \"III\"),\n",
    "    (\"VI\",\"VII\", \"VII\"),\n",
    "    (\"V\", \"III\", \"VII\" ),\n",
    "    (\"V\", \"VII\" , \"III\"),\n",
    "    (\"VI\", \"V\", \"V\"),\n",
    "    (\"II\",\"IV\",\"V\"),\n",
    "    (\"III\",\"V\",\"IV\"),\n",
    "    (\"VI\",\"V\",\"VI\"),\n",
    "    (\"I\",\"VI\",\"V\"),\n",
    "    (\"V\", \"II\", \"II\"),\n",
    "    (\"V\", \"VIII\", \"VIII\"),\n",
    "    (\"IX\", \"VIII\", \"II\"),\n",
    "    (\"VIII\", \"II\", \"VIII\"),\n",
    "    (\"II\", \"III\", \"II\"),\n",
    "    (\"II\", \"II\", \"III\"),\n",
    "    (\"V\", \"VIII\", \"VII\"),\n",
    "    (\"II\", \"VII\", \"VIII\"),\n",
    "    (\"I\", \"II\", \"VII\"),\n",
    "    (\"V\", \"III\", \"VIII\"),\n",
    "    (\"I\", \"VII\", \"II\"),\n",
    "    (\"IV\", \"VIII\", \"III\"),\n",
    "    (\"V\", \"II\", \"IV\"),\n",
    "    (\"V\", \"II\", \"V\"),\n",
    "    (\"V\", \"II\", \"VI\"),\n",
    "    (\"II\", \"III\", \"IV\"),\n",
    "    (\"IX\", \"III\", \"V\"),\n",
    "    (\"V\", \"III\", \"VI\"),\n",
    "    (\"V\", \"VII\", \"IV\"),\n",
    "    (\"VI\", \"VII\", \"V\"),\n",
    "    (\"II\", \"VII\", \"VI\"),\n",
    "    (\"VI\", \"VIII\", \"IV\"),\n",
    "    (\"VI\", \"VIII\", \"V\"),\n",
    "    (\"II\", \"VIII\", \"VI\"),\n",
    "    (\"VI\" , \"IV\", \"II\"),\n",
    "    (\"I\" ,  \"V\" , \"II\"),\n",
    "    (\"I\" ,  \"VI\", \"II\"),\n",
    "    (\"I\" ,  \"IV\", \"III\"),\n",
    "    (\"IX\" ,  \"V\" , \"III\"),\n",
    "    (\"III\", \"VI\", \"III\"),\n",
    "    (\"II\" , \"IV\", \"VII\"),\n",
    "    (\"V\"  , \"V\" , \"VII\"),\n",
    "    (\"II\" , \"VI\", \"VII\"),\n",
    "    (\"I\" , \"IV\", \"VIII\"),\n",
    "    (\"I\"  , \"V\" , \"VIII\"),\n",
    "    (\"V\" , \"VI\", \"VIII\")\n",
    "]\n",
    "\n",
    "printOut = \"\"\"\n",
    "+ - - - - - - -  + - - - - - - -  +  - - - - - - - +\n",
    "| IV   VI   VII  | VIII III  I    | IX   II   V    |\n",
    "| IX   V    II   | VI   IV   VII  | I    VIII III  |\n",
    "| I    III  VIII | II   IX   V    | VI   VII  IV   |\n",
    "+ - - - - - - -  + - - - - - - -  +  - - - - - - - +\n",
    "| VIII VII  I    | V    II   IV   | III  IX   VI   |\n",
    "| V    II   IX   | III  VII  VI   | IV   I    VIII |\n",
    "| VI   IV   III  | IX   I    VIII | II   V    VII  |\n",
    "+ - - - - - - -  + - - - - - - -  +  - - - - - - - +\n",
    "| VII  I    VI   | IV   V    II   | VIII III  IX   |\n",
    "| II   IX   IV   | VII  VIII III  | V    VI   I    |\n",
    "| III  VIII V    | I    VI   IX   | VII  IV   II   |\n",
    "+ - - - - - - -  + - - - - - - -  +  - - - - - - - +\n",
    "\"\"\"\n",
    "\n",
    "for (x,r,c) in clues:\n",
    "    #print (x,r,c)\n",
    "    #print gt[x]\n",
    "    prob += lpSum([ choices[v][r][c] for v in gt[x] ])  == 1,\"\""
   ]
  },
  {
   "cell_type": "code",
   "execution_count": 695,
   "metadata": {},
   "outputs": [
    {
     "name": "stdout",
     "output_type": "stream",
     "text": [
      "('Status:', 'Optimal')\n"
     ]
    }
   ],
   "source": [
    "# The problem data is written to an .lp file\n",
    "prob.writeLP(\"Sudoku.lp\")\n",
    "\n",
    "# The problem is solved using PuLP's choice of Solver\n",
    "prob.solve()\n",
    "\n",
    "# The status of the solution is printed to the screen\n",
    "print(\"Status:\", LpStatus[prob.status])"
   ]
  },
  {
   "cell_type": "code",
   "execution_count": 696,
   "metadata": {
    "scrolled": true
   },
   "outputs": [
    {
     "name": "stdout",
     "output_type": "stream",
     "text": [
      "+ - - - - - - -  + - - - - - - -  +  - - - - - - - +\n",
      "| IV   VI   VII  | VIII III  I    | IX   II   V    |\n",
      "| IX   V    II   | VI   IV   VII  | I    VIII III  |\n",
      "| I    III  VIII | II   IX   V    | VI   VII  IV   |\n",
      "+ - - - - - - -  + - - - - - - -  +  - - - - - - - +\n",
      "| VIII VII  I    | V    II   IV   | III  IX   VI   |\n",
      "| V    II   IX   | III  VII  VI   | IV   I    VIII |\n",
      "| VI   IV   III  | IX   I    VIII | II   V    VII  |\n",
      "+ - - - - - - -  + - - - - - - -  +  - - - - - - - +\n",
      "| VII  I    V    | IV   VI   II   | VIII III  IX   |\n",
      "| II   IX   IV   | VII  VIII III  | V    VI   I    |\n",
      "| III  VIII VI   | I    V    IX   | VII  IV   II   |\n",
      "+ - - - - - - -  + - - - - - - -  +  - - - - - - - +\n"
     ]
    }
   ],
   "source": [
    "# The solution is written to the sudokuout.txt file \n",
    "for r in Rows:\n",
    "    if r == \"I\" or r == \"IV\" or r == \"VII\":\n",
    "                    print \"+ - - - - - - -  + - - - - - - -  +  - - - - - - - +\\n\",\n",
    "    for c in Cols:\n",
    "        for v in Vals:\n",
    "            if value(choices[v][r][c])==1:\n",
    "                               \n",
    "                if c == \"I\" or c == \"IV\" or c ==\"VII\":\n",
    "                    print \"|\",\n",
    "                    \n",
    "                print (v+\"   \")[:4] + \"\",\n",
    "                \n",
    "                if c == \"IX\":\n",
    "                    print \"|\\n\",\n",
    "print \"+ - - - - - - -  + - - - - - - -  +  - - - - - - - +\""
   ]
  },
  {
   "cell_type": "code",
   "execution_count": 697,
   "metadata": {
    "collapsed": true
   },
   "outputs": [],
   "source": [
    "def countSolutions(prob):\n",
    "\n",
    "    count = 0\n",
    "\n",
    "    while count < 100:\n",
    "        prob.solve()\n",
    "        #print(\"Status:\", LpStatus[prob.status])\n",
    "\n",
    "        if LpStatus[prob.status] == \"Optimal\":\n",
    "            count += 1\n",
    "                \n",
    "            # The solution is written to the sudokuout.txt file \n",
    "            for r in Rows:\n",
    "                if r == \"I\" or r == \"IV\" or r == \"VII\":\n",
    "                                print \"+ - - - - - - -  + - - - - - - -  +  - - - - - - - +\\n\",\n",
    "                for c in Cols:\n",
    "                    for v in Vals:\n",
    "                        if value(choices[v][r][c])==1:\n",
    "\n",
    "                            if c == \"I\" or c == \"IV\" or c ==\"VII\":\n",
    "                                print \"|\",\n",
    "\n",
    "                            print (v+\"   \")[:4] + \"\",\n",
    "\n",
    "                            if c == \"IX\":\n",
    "                                print \"|\\n\",\n",
    "            print \"+ - - - - - - -  + - - - - - - -  +  - - - - - - - +\"\n",
    "                \n",
    "            print\n",
    "            \n",
    "            prob  += lpSum([choices[v][r][c] for v in Vals\n",
    "                                            for r in Rows\n",
    "                                            for c in Cols\n",
    "                                            if value(choices[v][r][c])==1]) <= 80\n",
    "        else:\n",
    "            break\n",
    "    \n",
    "    return count"
   ]
  },
  {
   "cell_type": "code",
   "execution_count": 715,
   "metadata": {},
   "outputs": [
    {
     "name": "stdout",
     "output_type": "stream",
     "text": [
      "+ - - - - - - -  + - - - - - - -  +  - - - - - - - +\n",
      "| IV   VI   VII  | VIII III  I    | IX   II   V    |\n",
      "| IX   V    II   | VI   IV   VII  | I    VIII III  |\n",
      "| I    III  VIII | II   IX   V    | VI   VII  IV   |\n",
      "+ - - - - - - -  + - - - - - - -  +  - - - - - - - +\n",
      "| VIII VII  I    | V    II   IV   | III  IX   VI   |\n",
      "| V    II   IX   | III  VII  VI   | IV   I    VIII |\n",
      "| VI   IV   III  | IX   I    VIII | II   V    VII  |\n",
      "+ - - - - - - -  + - - - - - - -  +  - - - - - - - +\n",
      "| VII  I    V    | IV   VI   II   | VIII III  IX   |\n",
      "| II   IX   IV   | VII  VIII III  | V    VI   I    |\n",
      "| III  VIII VI   | I    V    IX   | VII  IV   II   |\n",
      "+ - - - - - - -  + - - - - - - -  +  - - - - - - - +\n",
      "\n"
     ]
    },
    {
     "data": {
      "text/plain": [
       "1"
      ]
     },
     "execution_count": 715,
     "metadata": {},
     "output_type": "execute_result"
    }
   ],
   "source": [
    "countSolutions( prob )"
   ]
  },
  {
   "cell_type": "code",
   "execution_count": null,
   "metadata": {
    "collapsed": true
   },
   "outputs": [],
   "source": []
  },
  {
   "cell_type": "code",
   "execution_count": 716,
   "metadata": {},
   "outputs": [
    {
     "name": "stdout",
     "output_type": "stream",
     "text": [
      "\\node at (0 + 0.5,8 + 0.5) {IV};\n",
      "\\node at (0 + 0.5,7 + 0.5) {VI};\n",
      "\\node at (0 + 0.5,6 + 0.5) {VII};\n",
      "\\node at (0 + 0.5,5 + 0.5) {III};\n",
      "\\node at (0 + 0.5,4 + 0.5) {II};\n",
      "\\node at (0 + 0.5,3 + 0.5) {I};\n",
      "\\node at (0 + 0.5,2 + 0.5) {X};\n",
      "\\node at (0 + 0.5,1 + 0.5) {II};\n",
      "\\node at (0 + 0.5,0 + 0.5) {V};\n",
      "\\node at (1 + 0.5,8 + 0.5) {IX};\n",
      "\\node at (2 + 0.5,8 + 0.5) {I};\n",
      "\\node at (3 + 0.5,8 + 0.5) {II};\n",
      "\\node at (4 + 0.5,8 + 0.5) {V};\n",
      "\\node at (5 + 0.5,8 + 0.5) {VI};\n",
      "\\node at (6 + 0.5,8 + 0.5) {V};\n",
      "\\node at (7 + 0.5,8 + 0.5) {I};\n",
      "\\node at (8 + 0.5,8 + 0.5) {I};\n",
      "\\node at (8 + 0.5,7 + 0.5) {III};\n",
      "\\node at (8 + 0.5,6 + 0.5) {V};\n",
      "\\node at (8 + 0.5,5 + 0.5) {I};\n",
      "\\node at (8 + 0.5,4 + 0.5) {V};\n",
      "\\node at (8 + 0.5,3 + 0.5) {IX};\n",
      "\\node at (8 + 0.5,2 + 0.5) {V};\n",
      "\\node at (8 + 0.5,1 + 0.5) {IV};\n",
      "\\node at (8 + 0.5,0 + 0.5) {I};\n",
      "\\node at (1 + 0.5,0 + 0.5) {I};\n",
      "\\node at (2 + 0.5,0 + 0.5) {IV};\n",
      "\\node at (3 + 0.5,0 + 0.5) {V};\n",
      "\\node at (4 + 0.5,0 + 0.5) {III};\n",
      "\\node at (5 + 0.5,0 + 0.5) {V};\n",
      "\\node at (6 + 0.5,0 + 0.5) {I};\n",
      "\\node at (7 + 0.5,0 + 0.5) {I};\n",
      "\\node at (3 + 0.5,5 + 0.5) {V};\n",
      "\\node at (3 + 0.5,3 + 0.5) {I};\n",
      "\\node at (5 + 0.5,5 + 0.5) {IX};\n",
      "\\node at (5 + 0.5,3 + 0.5) {VIII};\n",
      "\\node at (2 + 0.5,6 + 0.5) {VII};\n",
      "\\node at (6 + 0.5,2 + 0.5) {VI};\n",
      "\\node at (2 + 0.5,2 + 0.5) {V};\n",
      "\\node at (6 + 0.5,6 + 0.5) {V};\n",
      "\\node at (4 + 0.5,4 + 0.5) {VI};\n",
      "\\node at (3 + 0.5,4 + 0.5) {II};\n",
      "\\node at (4 + 0.5,5 + 0.5) {III};\n",
      "\\node at (4 + 0.5,3 + 0.5) {VI};\n",
      "\\node at (5 + 0.5,4 + 0.5) {I};\n",
      "\\node at (1 + 0.5,7 + 0.5) {V};\n",
      "\\node at (7 + 0.5,1 + 0.5) {V};\n",
      "\\node at (7 + 0.5,7 + 0.5) {IX};\n",
      "\\node at (1 + 0.5,1 + 0.5) {VIII};\n",
      "\\node at (2 + 0.5,7 + 0.5) {II};\n",
      "\\node at (1 + 0.5,6 + 0.5) {II};\n",
      "\\node at (7 + 0.5,2 + 0.5) {V};\n",
      "\\node at (6 + 0.5,1 + 0.5) {II};\n",
      "\\node at (1 + 0.5,2 + 0.5) {I};\n",
      "\\node at (2 + 0.5,1 + 0.5) {V};\n",
      "\\node at (6 + 0.5,7 + 0.5) {I};\n",
      "\\node at (7 + 0.5,6 + 0.5) {IV};\n",
      "\\node at (1 + 0.5,5 + 0.5) {V};\n",
      "\\node at (1 + 0.5,4 + 0.5) {V};\n",
      "\\node at (1 + 0.5,3 + 0.5) {V};\n",
      "\\node at (2 + 0.5,5 + 0.5) {II};\n",
      "\\node at (2 + 0.5,4 + 0.5) {IX};\n",
      "\\node at (2 + 0.5,3 + 0.5) {V};\n",
      "\\node at (6 + 0.5,5 + 0.5) {V};\n",
      "\\node at (6 + 0.5,4 + 0.5) {VI};\n",
      "\\node at (6 + 0.5,3 + 0.5) {II};\n",
      "\\node at (7 + 0.5,5 + 0.5) {VI};\n",
      "\\node at (7 + 0.5,4 + 0.5) {VI};\n",
      "\\node at (7 + 0.5,3 + 0.5) {II};\n",
      "\\node at (3 + 0.5,7 + 0.5) {VI};\n",
      "\\node at (4 + 0.5,7 + 0.5) {I};\n",
      "\\node at (5 + 0.5,7 + 0.5) {I};\n",
      "\\node at (3 + 0.5,6 + 0.5) {I};\n",
      "\\node at (4 + 0.5,6 + 0.5) {IX};\n",
      "\\node at (5 + 0.5,6 + 0.5) {III};\n",
      "\\node at (3 + 0.5,2 + 0.5) {II};\n",
      "\\node at (4 + 0.5,2 + 0.5) {V};\n",
      "\\node at (5 + 0.5,2 + 0.5) {II};\n",
      "\\node at (3 + 0.5,1 + 0.5) {I};\n",
      "\\node at (4 + 0.5,1 + 0.5) {I};\n",
      "\\node at (5 + 0.5,1 + 0.5) {V};\n"
     ]
    }
   ],
   "source": [
    "f = {\"I\": 1, \"II\": 2, \"III\": 3, \"IV\" : 4, \"V\" : 5, \"VI\" : 6, \"VII\" : 7, \"VIII\" : 8, \"IX\" : 9}\n",
    "\n",
    "for c in clues:\n",
    "    print \"\\\\node at (%s + 0.5,%s + 0.5) {%s};\" % (-1 + f[c[1]],9-f[c[2]],c[0])"
   ]
  },
  {
   "cell_type": "markdown",
   "metadata": {
    "collapsed": true
   },
   "source": [
    "# Tight Fit Sudoku"
   ]
  },
  {
   "cell_type": "code",
   "execution_count": null,
   "metadata": {
    "collapsed": true
   },
   "outputs": [],
   "source": []
  }
 ],
 "metadata": {
  "kernelspec": {
   "display_name": "Python 2",
   "language": "python",
   "name": "python2"
  },
  "language_info": {
   "codemirror_mode": {
    "name": "ipython",
    "version": 3
   },
   "file_extension": ".py",
   "mimetype": "text/x-python",
   "name": "python",
   "nbconvert_exporter": "python",
   "pygments_lexer": "ipython3",
   "version": "3.6.7"
  }
 },
 "nbformat": 4,
 "nbformat_minor": 2
}
