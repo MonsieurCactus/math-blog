{
 "cells": [
  {
   "cell_type": "code",
   "execution_count": 1,
   "metadata": {},
   "outputs": [],
   "source": [
    "import numpy as np\n",
    "import matplotlib.pyplot as plt\n",
    "%matplotlib inline\n",
    "plt.rcParams['figure.figsize'] = 7,7"
   ]
  },
  {
   "cell_type": "code",
   "execution_count": 2,
   "metadata": {},
   "outputs": [],
   "source": [
    "a,b = 0,0"
   ]
  },
  {
   "cell_type": "code",
   "execution_count": 3,
   "metadata": {},
   "outputs": [],
   "source": [
    "x = np.random.random(100)"
   ]
  },
  {
   "cell_type": "code",
   "execution_count": 38,
   "metadata": {},
   "outputs": [
    {
     "data": {
      "text/plain": [
       "(-0.4, 8.4, -0.25, 5.25)"
      ]
     },
     "execution_count": 38,
     "metadata": {},
     "output_type": "execute_result"
    },
    {
     "data": {
      "image/png": "[encoded data removed]",
      "text/plain": [
       "<Figure size 432x288 with 1 Axes>"
      ]
     },
     "metadata": {
      "needs_background": "light"
     },
     "output_type": "display_data"
    }
   ],
   "source": [
    "height = 5\n",
    "width = [3,5]\n",
    "\n",
    "C = [[width[0]-0.05,height-1],[width[0]-0.05,height],[0,height],[0,0],[width[0]-0.05,0],[width[0]-0.05,1]]\n",
    "C = np.array(C) \n",
    "plt.plot(C[:,0], C[:,1], '-')\n",
    "D = [[width[0]+0.05,1],\n",
    "     [width[0]+0.05,0],\n",
    "     [width[0]+width[1],0],\n",
    "     [width[0]+width[1],height],\n",
    "     [width[0]+0.05,height],\n",
    "     [width[0]+0.05,height-1]]\n",
    "D = np.array(D)\n",
    "plt.plot(D[:,0], D[:,1], '-')\n",
    "\n",
    "A = [[s,t] for s in range(sum(width)+1) for t in range(height+1) ]\n",
    "B = np.array(A)\n",
    "\n",
    "plt.plot(B[:,0], B[:,1], '.', markersize=15)\n",
    "\n",
    "plt.xlim([-0.25,sum(width)+0.25])\n",
    "plt.ylim([-0.25,height+0.25])\n",
    "plt.grid(True)\n",
    "plt.axis(\"Equal\")"
   ]
  },
  {
   "cell_type": "code",
   "execution_count": 42,
   "metadata": {},
   "outputs": [
    {
     "name": "stdout",
     "output_type": "stream",
     "text": [
      "0 1\n",
      "-1 1\n",
      "-2 1\n",
      "-3 1\n",
      "-2 1\n",
      "-2 2\n",
      "-2 1\n",
      "-2 0\n",
      "-2 -1\n",
      "-2 0\n"
     ]
    }
   ],
   "source": [
    "a,b = 1,1\n",
    "\n",
    "for t in range(10):\n",
    "    x = int(4*np.random.random())\n",
    "    if x == 0:\n",
    "        a += 1\n",
    "    elif x == 1:\n",
    "        a -= 1\n",
    "    elif x == 2:\n",
    "        b += 1\n",
    "    elif x == 3:\n",
    "        b -=  1\n",
    "    else:\n",
    "        pass\n",
    "    print(a,b)"
   ]
  },
  {
   "cell_type": "code",
   "execution_count": null,
   "metadata": {},
   "outputs": [],
   "source": []
  }
 ],
 "metadata": {
  "kernelspec": {
   "display_name": "Python 3",
   "language": "python3",
   "name": "python3"
  },
  "language_info": {
   "codemirror_mode": {
    "name": "ipython",
    "version": 3
   },
   "file_extension": ".py",
   "mimetype": "text/x-python",
   "name": "python",
   "nbconvert_exporter": "python",
   "pygments_lexer": "ipython3",
   "version": "3.6.7"
  }
 },
 "nbformat": 4,
 "nbformat_minor": 2
}
