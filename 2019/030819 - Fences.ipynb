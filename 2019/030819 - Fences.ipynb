{
 "cells": [
  {
   "cell_type": "code",
   "execution_count": 61,
   "metadata": {},
   "outputs": [],
   "source": [
    "import numpy as np\n",
    "import matplotlib.pyplot as plt\n",
    "%matplotlib inline\n",
    "plt.rcParams['figure.figsize'] = 10,10"
   ]
  },
  {
   "cell_type": "code",
   "execution_count": 21,
   "metadata": {},
   "outputs": [
    {
     "data": {
      "text/plain": [
       "(-1, 11)"
      ]
     },
     "execution_count": 21,
     "metadata": {},
     "output_type": "execute_result"
    },
    {
     "data": {
      "image/png": "[encoded data removed]",
      "text/plain": [
       "<Figure size 432x288 with 1 Axes>"
      ]
     },
     "metadata": {
      "needs_background": "light"
     },
     "output_type": "display_data"
    }
   ],
   "source": [
    "# Goal: solve fences puzzles with integer program ( we'd like to find methods and patterns of solution)\n",
    "# \n",
    "# Possible resources (COIN-OR) or possibly (integer programming with textbook of conforti)\n",
    "# the variables are the state of each edge.  \n",
    "\n",
    "M = 10\n",
    "N = 10\n",
    "\n",
    "pt = [[a,b] for a in range(M) for b in range(N)]\n",
    "\n",
    "pt = np.array(pt)\n",
    "\n",
    "# these edges might not be independent or random\n",
    "edge = [ [a,b,a+1,b]  for a in range(M-1) for b in range(N) if np.random.random() > 0.5 ] \n",
    "# how do we find the \"connected\" components in this graph?\n",
    "for e in edge:\n",
    "    plt.plot( [e[0],e[2]] , [e[1],e[3]] , 'g-' )\n",
    "edge = [ [a,b,a,b+1]  for a in range(M) for b in range(N-1) if np.random.random() > 0.5 ] \n",
    "for e in edge:\n",
    "    plt.plot( [e[0],e[2]] , [e[1],e[3]] , 'g-' )\n",
    "\n",
    "plt.plot( pt[:,0] , pt[:,1] , '.' , markersize=15)\n",
    "plt.axis(\"Equal\")\n",
    "plt.grid(True)\n",
    "plt.xlim([-1,M+1])\n",
    "plt.ylim([-1,M+1])"
   ]
  },
  {
   "cell_type": "code",
   "execution_count": 46,
   "metadata": {},
   "outputs": [
    {
     "data": {
      "text/plain": [
       "(-1, 11)"
      ]
     },
     "execution_count": 46,
     "metadata": {},
     "output_type": "execute_result"
    },
    {
     "data": {
      "image/png": "[encoded data removed]",
      "text/plain": [
       "<Figure size 432x288 with 1 Axes>"
      ]
     },
     "metadata": {
      "needs_background": "light"
     },
     "output_type": "display_data"
    }
   ],
   "source": [
    "# how to get a single closed loop?\n",
    "\n",
    "M = 10\n",
    "N = 10\n",
    "\n",
    "pt = [[a,b] for a in range(M) for b in range(N)]\n",
    "\n",
    "pt = np.array(pt)\n",
    "plt.plot( pt[:,0] , pt[:,1] , '.' , markersize=12)\n",
    "\n",
    "\n",
    "\n",
    "wall  = [ (0,n) for n in range(10)] + [(n,0) for n in range(10)] + [(4,n) for n in range(10) if n != 3]\n",
    "wall += [ (9,n) for n in range(10)] + [(n,9) for n in range(10)]\n",
    "\n",
    "for n in range(9):\n",
    "    plt.plot( [0,0] , [n,n+1], 'b-')\n",
    "    plt.plot( [9,9], [n,n+1], 'b-')\n",
    "    plt.plot( [n,n+1],[0,0], 'b-')\n",
    "    plt.plot( [n,n+1],[9,9], 'b-')\n",
    "    \n",
    "    if n not in [2,3]:\n",
    "        plt.plot( [4,4], [n, n+1], 'b-')\n",
    "\n",
    "# our data type \"edge\" should equation [a,b,c,d] and [c,d,a,b]\n",
    "\n",
    "a,b = 1,1\n",
    "\n",
    "x,y = a,b\n",
    "\n",
    "path = [(x,y)]\n",
    "\n",
    "for t in range(100):\n",
    "    c = int(4*np.random.random())\n",
    "    \n",
    "    if c == 0:\n",
    "        if (a-1,b) not in wall:\n",
    "            a -= 1\n",
    "            x  = a + 0.05*np.random.random()\n",
    "    elif c == 1:\n",
    "        if (a+1,b) not in wall:\n",
    "            a += 1\n",
    "            x  = a + 0.05*np.random.random()\n",
    "    elif c == 2:\n",
    "        if (a,b-1) not in wall:\n",
    "            b -= 1\n",
    "            y  = b + 0.05*np.random.random()\n",
    "    elif c == 3:\n",
    "        if (a,b+1) not in wall:\n",
    "            b += 1\n",
    "            y  = b + 0.05*np.random.random()\n",
    "    else:\n",
    "        pass\n",
    "    path += [[x,y]]\n",
    "\n",
    "plt.plot( [pt[0] for pt in path], [pt[1] for pt in path], 'k-' )\n",
    "\n",
    "\n",
    "plt.axis(\"Equal\")\n",
    "plt.grid(True)\n",
    "plt.xlim([-1,M+1])\n",
    "plt.ylim([-1,M+1])"
   ]
  },
  {
   "cell_type": "code",
   "execution_count": 67,
   "metadata": {},
   "outputs": [],
   "source": [
    "# how to get a single closed loop?\n",
    "\n",
    "def getPath():\n",
    "\n",
    "    M = 10\n",
    "    N = 10\n",
    "\n",
    "    pt = [[a,b] for a in range(M) for b in range(N)]\n",
    "\n",
    "    pt = np.array(pt)\n",
    "\n",
    "\n",
    "\n",
    "\n",
    "    wall  = [ (0,n) for n in range(10)] + [(n,0) for n in range(10)] + [(4,n) for n in range(10) if n != 3]\n",
    "    wall += [ (9,n) for n in range(10)] + [(n,9) for n in range(10)]\n",
    "\n",
    "\n",
    "\n",
    "    # our data type \"edge\" should equation [a,b,c,d] and [c,d,a,b]\n",
    "\n",
    "    a,b = 1,1\n",
    "\n",
    "    x,y = a,b\n",
    "\n",
    "    path = [(x,y)]\n",
    "\n",
    "    for t in range(100):\n",
    "        c = int(4*np.random.random())\n",
    "\n",
    "        if c == 0:\n",
    "            if (a-1,b) not in wall:\n",
    "                a -= 1\n",
    "                x  = a + 0.05*np.random.random()\n",
    "        elif c == 1:\n",
    "            if (a+1,b) not in wall:\n",
    "                a += 1\n",
    "                x  = a + 0.05*np.random.random()\n",
    "        elif c == 2:\n",
    "            if (a,b-1) not in wall:\n",
    "                b -= 1\n",
    "                y  = b + 0.05*np.random.random()\n",
    "        elif c == 3:\n",
    "            if (a,b+1) not in wall:\n",
    "                b += 1\n",
    "                y  = b + 0.05*np.random.random()\n",
    "        else:\n",
    "            pass\n",
    "        path += [[x,y]]\n",
    "        \n",
    "    return path\n",
    "\n"
   ]
  },
  {
   "cell_type": "code",
   "execution_count": 68,
   "metadata": {},
   "outputs": [
    {
     "data": {
      "text/plain": [
       "(-1, 50)"
      ]
     },
     "execution_count": 68,
     "metadata": {},
     "output_type": "execute_result"
    },
    {
     "data": {
      "image/png": "[encoded data removed]",
      "text/plain": [
       "<Figure size 720x720 with 1 Axes>"
      ]
     },
     "metadata": {
      "needs_background": "light"
     },
     "output_type": "display_data"
    }
   ],
   "source": [
    "# keywords: HAMMERSLEY ... RIORDAN ... BOLLOBAŚ\n",
    "\n",
    "for s in range(5):\n",
    "    for t in range(5):\n",
    "\n",
    "        path = getPath()\n",
    "\n",
    "        plt.plot( pt[:,0] + 10*s , pt[:,1] + 10*t , '.' , markersize=2)\n",
    "\n",
    "\n",
    "        for n in range(9): \n",
    "            plt.plot( [0+10*s,  0+10*s]  , [n+10*t,n+1+10*t], 'b-')\n",
    "            plt.plot( [9+10*s,  9+10*s]  , [n+10*t,n+1+10*t], 'b-')\n",
    "            plt.plot( [n+10*s,n+1+10*s]  , [0+10*t,0+10*t]  , 'b-')\n",
    "            plt.plot( [n+10*s,n+1+10*s]  , [9+10*t,9+10*t]  , 'b-')\n",
    "\n",
    "            if n not in [2,3]:\n",
    "                plt.plot( [4+10*s,4+10*s], [n+10*t, n+1+10*t], 'b-')\n",
    "\n",
    "        plt.plot( [pt[0] + 10*s for pt in path], [pt[1]+ 10*t for pt in path], 'k-' )\n",
    "\n",
    "\n",
    "plt.axis(\"Equal\")\n",
    "plt.grid(True)\n",
    "plt.xlim([-1,5*M])\n",
    "plt.ylim([-1,5*M])"
   ]
  },
  {
   "cell_type": "code",
   "execution_count": 72,
   "metadata": {},
   "outputs": [],
   "source": [
    "def overlap(x,y):\n",
    "    a,b = x\n",
    "    c,d = y\n",
    "    \n",
    "    if b > a:\n",
    "        z = (b,a)\n",
    "        return overlap(z,y)\n",
    "    elif d > c:\n",
    "        z = (d,c)\n",
    "        return overlap(x,z)\n",
    "    elif a > c:\n",
    "        return overlap(y,x)\n",
    "    else:\n",
    "        return (c > b)"
   ]
  },
  {
   "cell_type": "code",
   "execution_count": 73,
   "metadata": {},
   "outputs": [],
   "source": [
    "# eventually define Rectangle object\n",
    "\n",
    "def overlapR(x,y):\n",
    "    (a,b),(c,d) = x\n",
    "    (e,f),(g,h) = y\n",
    "    \n",
    "    A = (a,b)\n",
    "    C = (c,d)\n",
    "    E = (e,f)\n",
    "    G = (g,h)\n",
    "    return overlap(A,E) and overlap(C,G)"
   ]
  },
  {
   "cell_type": "code",
   "execution_count": 75,
   "metadata": {},
   "outputs": [
    {
     "data": {
      "text/plain": [
       "[[[0.29283679451143896, 0.6302249453603646],\n",
       "  [0.00016387049978883184, 0.6080761274888671]]]"
      ]
     },
     "execution_count": 75,
     "metadata": {},
     "output_type": "execute_result"
    }
   ],
   "source": [
    "rectangle = []\n",
    "\n",
    "a,b,c,d = np.random.random(4)\n",
    "\n",
    "R = [[a,b],[c,d]]\n",
    "\n",
    "[ overlap(R,r) for r in rectangle ]\n",
    "\n",
    "#if R not in rectangle:\n",
    "#    rectangle += [R]  \n",
    "#rectangle"
   ]
  },
  {
   "cell_type": "code",
   "execution_count": 85,
   "metadata": {},
   "outputs": [
    {
     "data": {
      "text/plain": [
       "(-0.04310840637726983,\n",
       " 1.047573571480582,\n",
       " -0.04910679297729778,\n",
       " 1.0472847179440294)"
      ]
     },
     "execution_count": 85,
     "metadata": {},
     "output_type": "execute_result"
    },
    {
     "data": {
      "image/png": "[encoded data removed]",
      "text/plain": [
       "<Figure size 720x720 with 1 Axes>"
      ]
     },
     "metadata": {
      "needs_background": "light"
     },
     "output_type": "display_data"
    }
   ],
   "source": [
    "for t in range(100):\n",
    "    \n",
    "    L = np.random.random()\n",
    "    a,b,c,d = np.random.random(4)\n",
    "    plt.fill( [a,b,b,a] , [c,c,d,d] , 'k', alpha=0.05 )\n",
    "    #plt.fill( [a,b,b,a] , [c,c,d,d] , 'k', alpha=0.1 )\n",
    "plt.axis(\"Equal\")"
   ]
  },
  {
   "cell_type": "code",
   "execution_count": 89,
   "metadata": {},
   "outputs": [
    {
     "data": {
      "text/plain": [
       "(-0.08711264964566068,\n",
       " 1.942054073566688,\n",
       " -0.04559709273034018,\n",
       " 1.9576982201296866)"
      ]
     },
     "execution_count": 89,
     "metadata": {},
     "output_type": "execute_result"
    },
    {
     "data": {
      "image/png": "[encoded data removed]",
      "text/plain": [
       "<Figure size 720x720 with 1 Axes>"
      ]
     },
     "metadata": {
      "needs_background": "light"
     },
     "output_type": "display_data"
    }
   ],
   "source": [
    "for t in range(50):\n",
    "    \n",
    "    L = np.random.random()\n",
    "    dx,dy = np.random.random(2)\n",
    "    a,c = np.random.random(2)\n",
    "    R = [[a, a + L + 0.1*dx ],[c, c + L + 0.1*dy ]]\n",
    "    plt.fill( [R[0][0],R[0][1],R[0][1],R[0][0]] , [R[1][0],R[1][0],R[1][1],R[1][1]] , 'k', alpha=0.05 )\n",
    "    #plt.fill( [a,b,b,a] , [c,c,d,d] , 'k', alpha=0.1 )\n",
    "plt.axis(\"Equal\")"
   ]
  },
  {
   "cell_type": "code",
   "execution_count": 100,
   "metadata": {},
   "outputs": [
    {
     "data": {
      "text/plain": [
       "([], <a list of 0 Text yticklabel objects>)"
      ]
     },
     "execution_count": 100,
     "metadata": {},
     "output_type": "execute_result"
    },
    {
     "data": {
      "image/png": "[encoded data removed]",
      "text/plain": [
       "<Figure size 720x720 with 1 Axes>"
      ]
     },
     "metadata": {},
     "output_type": "display_data"
    }
   ],
   "source": [
    "# less is more\n",
    "p = 7\n",
    "\n",
    "for s in range(-1,15):\n",
    "    for t in range(-1,15):\n",
    "        if (s+t)%2 == 0:\n",
    "            L = 1 + 0.25*((s**2+t**2)%p)\n",
    "        else:\n",
    "            L = 2\n",
    "        plt.fill( [s,s+L,s+L,s] , [t,t,t+L,t+L] , 'k', alpha=0.1)\n",
    "        \n",
    "#plt.axis(\"Off\")\n",
    "plt.xticks([])\n",
    "plt.yticks([])"
   ]
  },
  {
   "cell_type": "code",
   "execution_count": 198,
   "metadata": {},
   "outputs": [
    {
     "data": {
      "text/plain": [
       "False"
      ]
     },
     "execution_count": 198,
     "metadata": {},
     "output_type": "execute_result"
    }
   ],
   "source": [
    "# perhaps we can quantify this to a distance? \n",
    "\n",
    "def overlap(X,Y):\n",
    "    \n",
    "    delta = 0.01\n",
    "    \n",
    "    horizontal1 = ( ( X[0][0] + delta < Y[0][1] ) and (X[0][1] + delta > Y[0][0] ) ) \n",
    "    horizontal2 = ( ( Y[0][0] + delta < X[0][1] ) and (Y[0][1] + delta > X[0][0] ) )\n",
    "    horizontal  = horizontal1 or horizontal2\n",
    "    #print(horizontal1)\n",
    "    #print(horizontal2)\n",
    "    vertical1   = ( ( X[1][0] + delta < Y[1][1] ) and (X[1][1] + delta > Y[1][0] ) ) \n",
    "    vertical2   = ( ( Y[1][0] + delta < X[1][1] ) and (Y[1][1] + delta > X[1][0] ) )\n",
    "    vertical    = vertical1   or vertical2 \n",
    "    # horizontal and vertial overlap\n",
    "    return horizontal and vertical\n",
    "\n",
    "A = [[0,2],[3,5]]\n",
    "B = [[3,5],[4,7]]\n",
    "\n",
    "overlap(A,B)"
   ]
  },
  {
   "cell_type": "code",
   "execution_count": 219,
   "metadata": {},
   "outputs": [],
   "source": [
    "rectangle = []\n",
    "\n",
    "t = 0\n",
    "\n",
    "eps = 0.00\n",
    "\n",
    "while t < 150:\n",
    "    \n",
    "    a,c = 1.25*np.random.random(2)\n",
    "    L1 = (0.25 - eps)*np.random.random() + eps\n",
    "    L2 = (0.25 - eps)*np.random.random() + eps\n",
    "    b,d = a + L1, c + L2\n",
    "    if a > b:\n",
    "        a,b = b,a\n",
    "    if c > d:\n",
    "        c,d = d,c\n",
    "    rectangle += [[[a,b],[c,d]]]\n",
    "    \n",
    "    X = rectangle[-1]\n",
    "    o = False\n",
    "    for s in range(t):\n",
    "        Y = rectangle[s]\n",
    "        o = o or overlap(X,Y)\n",
    "        #print(X)\n",
    "        #print(Y)\n",
    "        #print(o)\n",
    "    \n",
    "    if o:\n",
    "        rectangle = rectangle[:-1]\n",
    "    else:\n",
    "        t += 1        \n",
    "    #print(t, sum([1 for r in rectangle]))\n",
    "\n",
    "\n",
    "#rectangle"
   ]
  },
  {
   "cell_type": "code",
   "execution_count": 222,
   "metadata": {},
   "outputs": [
    {
     "data": {
      "image/png": "[encoded data removed]",
      "text/plain": [
       "<Figure size 720x720 with 1 Axes>"
      ]
     },
     "metadata": {
      "needs_background": "light"
     },
     "output_type": "display_data"
    }
   ],
   "source": [
    "for r in rectangle:\n",
    "    plt.fill( [r[0][0], r[0][1], r[0][1], r[0][0]] , [r[1][0], r[1][0], r[1][1], r[1][1]], 'k', alpha=0.1)\n",
    "\n",
    "plt.axis(\"Equal\")\n",
    "#plt.axis(\"Off\")\n",
    "plt.grid(True)"
   ]
  },
  {
   "cell_type": "code",
   "execution_count": null,
   "metadata": {},
   "outputs": [],
   "source": []
  }
 ],
 "metadata": {
  "kernelspec": {
   "display_name": "Python 3",
   "language": "python3",
   "name": "python3"
  },
  "language_info": {
   "codemirror_mode": {
    "name": "ipython",
    "version": 3
   },
   "file_extension": ".py",
   "mimetype": "text/x-python",
   "name": "python",
   "nbconvert_exporter": "python",
   "pygments_lexer": "ipython3",
   "version": "3.6.7"
  }
 },
 "nbformat": 4,
 "nbformat_minor": 2
}
