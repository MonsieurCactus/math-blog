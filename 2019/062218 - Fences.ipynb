{
 "cells": [
  {
   "cell_type": "code",
   "execution_count": 2,
   "metadata": {
    "collapsed": true
   },
   "outputs": [],
   "source": [
    "import numpy as np\n",
    "from pulp import *"
   ]
  },
  {
   "cell_type": "code",
   "execution_count": 3,
   "metadata": {
    "collapsed": true
   },
   "outputs": [],
   "source": [
    "# https://cs.stackexchange.com/questions/95712/can-this-arrow-ring-puzzle-be-encoded-as-an-integer-programming-problem"
   ]
  },
  {
   "cell_type": "code",
   "execution_count": 4,
   "metadata": {
    "collapsed": true
   },
   "outputs": [],
   "source": [
    "# there are M rows and N columns\n",
    "# for each of the M*N squares we can ask if a line points left or right, up or down \n",
    "# total of 4*M*N variables\n",
    "\n",
    "rows = [\"1\", \"2\", \"3\", \"4\", \"5\"]\n",
    "cols = [\"1\", \"2\", \"3\", \"4\", \"5\"]\n",
    "vals = [\"1\", \"2\", \"3\", \"4\", \"EMPTY\"]"
   ]
  },
  {
   "cell_type": "code",
   "execution_count": 8,
   "metadata": {
    "collapsed": true
   },
   "outputs": [],
   "source": [
    "prob = LpProblem(\"arrowRing\", LpMinimize)"
   ]
  },
  {
   "cell_type": "code",
   "execution_count": 9,
   "metadata": {},
   "outputs": [],
   "source": [
    "# the CHOICES variable is indexed by the row, column (1,2,3,...,N) and value (1,2,3,4)\n",
    "\n",
    "choices = LpVariable.dicts(\"Choice\" , (rows,cols,vals) , 0 , 1 , LpInteger )"
   ]
  },
  {
   "cell_type": "code",
   "execution_count": 10,
   "metadata": {},
   "outputs": [],
   "source": [
    "prob += 0, \"Arbitrary Objective Function\""
   ]
  },
  {
   "cell_type": "code",
   "execution_count": 16,
   "metadata": {},
   "outputs": [],
   "source": [
    "blocks   = []\n",
    "vertices = [(r,c) for r in rows for c in cols if (r,c) not in blocks]\n",
    "\n",
    "for (r,c) in vertices:\n",
    "        prob += lpSum([ choices[r][c][v] for v in vals]) == 2, \"\""
   ]
  },
  {
   "cell_type": "code",
   "execution_count": null,
   "metadata": {
    "collapsed": true
   },
   "outputs": [],
   "source": [
    "# how to encode a single closed loop?  and solve for the missing blocks\n",
    "# missing value called EMPTY which should count as two"
   ]
  }
 ],
 "metadata": {
  "kernelspec": {
   "display_name": "Python 2",
   "language": "python",
   "name": "python2"
  },
  "language_info": {
   "codemirror_mode": {
    "name": "ipython",
    "version": 2
   },
   "file_extension": ".py",
   "mimetype": "text/x-python",
   "name": "python",
   "nbconvert_exporter": "python",
   "pygments_lexer": "ipython2",
   "version": "2.7.12"
  }
 },
 "nbformat": 4,
 "nbformat_minor": 2
}
