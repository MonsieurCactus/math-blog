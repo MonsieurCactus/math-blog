{
 "cells": [
  {
   "cell_type": "code",
   "execution_count": 2,
   "metadata": {
    "collapsed": true
   },
   "outputs": [],
   "source": [
    "import numpy as np\n",
    "import matplotlib.pyplot as plt\n",
    "%matplotlib inline\n",
    "plt.rcParams['figure.figsize'] = 7,7"
   ]
  },
  {
   "cell_type": "markdown",
   "metadata": {},
   "source": [
    "# 23 March 2018 Agenda\n",
    "\n",
    "* nilsequences (from Szemeredi's Theorem) (arithmetic progessions)\n",
    "* uniform spanning tree (Schramm)\n",
    "* $SL_2(\\mathbb{F}_p)$ graph (Helfgott)"
   ]
  },
  {
   "cell_type": "code",
   "execution_count": 21,
   "metadata": {},
   "outputs": [
    {
     "data": {
      "text/plain": [
       "[2.8272,\n",
       " 2.827269092363055,\n",
       " 2.8269384492406076,\n",
       " 2.827007590890931,\n",
       " 2.827076677316294,\n",
       " 2.8271457085828344,\n",
       " 2.827214684756584,\n",
       " 2.8272836059034705,\n",
       " 2.827352472089314,\n",
       " 2.827022718214428]"
      ]
     },
     "execution_count": 21,
     "metadata": {},
     "output_type": "execute_result"
    }
   ],
   "source": [
    "pt = []\n",
    "\n",
    "for N in 2500 + np.arange(10):\n",
    "\n",
    "    x = (( np.arange(N)*np.sqrt(2) )).astype(int)\n",
    "\n",
    "    x = (x[...,None] + x[None,...]).reshape((N**2))\n",
    "\n",
    "    x = np.unique(x)\n",
    "\n",
    "    pt += [len(x)*1.0/N]\n",
    "    \n",
    "pt"
   ]
  },
  {
   "cell_type": "code",
   "execution_count": 16,
   "metadata": {},
   "outputs": [
    {
     "data": {
      "text/plain": [
       "2.8284271247461903"
      ]
     },
     "execution_count": 16,
     "metadata": {},
     "output_type": "execute_result"
    }
   ],
   "source": [
    "2*2**0.5"
   ]
  },
  {
   "cell_type": "code",
   "execution_count": 12,
   "metadata": {
    "collapsed": true
   },
   "outputs": [],
   "source": [
    "A,B = np.array([[1,3],[0,1]]), np.array([[1,0],[3,1]])"
   ]
  },
  {
   "cell_type": "code",
   "execution_count": 13,
   "metadata": {},
   "outputs": [
    {
     "data": {
      "image/png": "[encoded data removed]",
      "text/plain": [
       "<matplotlib.figure.Figure at 0x7f0c90da9f10>"
      ]
     },
     "metadata": {},
     "output_type": "display_data"
    }
   ],
   "source": [
    "X = [A,B]\n",
    "\n",
    "for t in range(15):\n",
    "    X = [np.dot(x,y) for x in [A,B] for y in X]\n",
    "\n",
    "z = [(x[0,0],x[1,0]) for x in X]\n",
    "\n",
    "z = np.array(z)\n",
    "\n",
    "z = z/((z[:,0]**2 + z[:,1]**2)**0.5)[...,None]\n",
    "\n",
    "for (a,b) in [(1,1),(-1,1),(1,-1),(-1,-1)]:\n",
    "    plt.plot(a*z[:,0], b*z[:,1], 'b.', markersize=1)"
   ]
  },
  {
   "cell_type": "code",
   "execution_count": 5,
   "metadata": {},
   "outputs": [
    {
     "data": {
      "text/plain": [
       "(0.79, 0.81)"
      ]
     },
     "execution_count": 5,
     "metadata": {},
     "output_type": "execute_result"
    },
    {
     "data": {
      "image/png": "[encoded data removed]",
      "text/plain": [
       "<matplotlib.figure.Figure at 0x7f0c91926450>"
      ]
     },
     "metadata": {},
     "output_type": "display_data"
    }
   ],
   "source": [
    "X = [A,B]\n",
    "\n",
    "for t in range(15):\n",
    "    X = [np.dot(x,y) for x in [A,B] for y in X]\n",
    "\n",
    "z = [(x[0,0],x[1,0]) for x in X]\n",
    "\n",
    "z = np.array(z)\n",
    "\n",
    "z = z/((z[:,0]**2 + z[:,1]**2)**0.5)[...,None]\n",
    "\n",
    "for (a,b) in [(1,1),(-1,1),(1,-1),(-1,-1)]:\n",
    "    plt.plot(a*z[:,0], b*z[:,1], 'b.', markersize=1)\n",
    "    \n",
    "\n",
    "plt.grid(True)\n",
    "plt.xlim([0.59,0.61])\n",
    "plt.ylim([0.79,0.81])"
   ]
  },
  {
   "cell_type": "markdown",
   "metadata": {
    "collapsed": true
   },
   "source": [
    "# $SL_2(\\mathbb{Z})$ is a free product $C_2 * C_3$\n",
    "\n",
    "We can generate these elements recursively $w \\mapsto \\{ wA, wB, wB^2\\}$ with $A : z \\mapsto - \\frac{1}{z}$ and $B: z \\mapsto - \\frac{1}{z+1}$"
   ]
  },
  {
   "cell_type": "code",
   "execution_count": 17,
   "metadata": {},
   "outputs": [
    {
     "data": {
      "text/plain": [
       "[array([[ 0,  1],\n",
       "        [-1,  0]]), array([[1, 1],\n",
       "        [0, 1]]), array([[1, 0],\n",
       "        [1, 1]]), array([[-1,  1],\n",
       "        [-1,  0]]), array([[ 0,  1],\n",
       "        [-1,  1]]), array([[1, 2],\n",
       "        [0, 1]]), array([[2, 1],\n",
       "        [1, 1]]), array([[1, 1],\n",
       "        [1, 2]]), array([[1, 0],\n",
       "        [2, 1]]), array([[-2,  1],\n",
       "        [-1,  0]]), array([[-1,  2],\n",
       "        [-1,  1]]), array([[-1,  1],\n",
       "        [-2,  1]]), array([[ 0,  1],\n",
       "        [-1,  2]]), array([[1, 3],\n",
       "        [0, 1]]), array([[3, 2],\n",
       "        [1, 1]]), array([[2, 3],\n",
       "        [1, 2]]), array([[3, 1],\n",
       "        [2, 1]]), array([[1, 2],\n",
       "        [1, 3]]), array([[2, 1],\n",
       "        [3, 2]]), array([[1, 1],\n",
       "        [2, 3]]), array([[1, 0],\n",
       "        [3, 1]]), array([[-3,  1],\n",
       "        [-1,  0]]), array([[-2,  3],\n",
       "        [-1,  1]]), array([[-3,  2],\n",
       "        [-2,  1]]), array([[-1,  3],\n",
       "        [-1,  2]]), array([[-2,  1],\n",
       "        [-3,  1]]), array([[-1,  2],\n",
       "        [-2,  3]]), array([[-1,  1],\n",
       "        [-3,  2]]), array([[ 0,  1],\n",
       "        [-1,  3]]), array([[1, 4],\n",
       "        [0, 1]]), array([[4, 3],\n",
       "        [1, 1]]), array([[3, 5],\n",
       "        [1, 2]]), array([[5, 2],\n",
       "        [2, 1]]), array([[2, 5],\n",
       "        [1, 3]]), array([[5, 3],\n",
       "        [3, 2]]), array([[3, 4],\n",
       "        [2, 3]]), array([[4, 1],\n",
       "        [3, 1]]), array([[1, 3],\n",
       "        [1, 4]]), array([[3, 2],\n",
       "        [4, 3]]), array([[2, 3],\n",
       "        [3, 5]]), array([[3, 1],\n",
       "        [5, 2]]), array([[1, 2],\n",
       "        [2, 5]]), array([[2, 1],\n",
       "        [5, 3]]), array([[1, 1],\n",
       "        [3, 4]]), array([[1, 0],\n",
       "        [4, 1]]), array([[-4,  1],\n",
       "        [-1,  0]]), array([[-3,  4],\n",
       "        [-1,  1]]), array([[-5,  3],\n",
       "        [-2,  1]]), array([[-2,  5],\n",
       "        [-1,  2]]), array([[-5,  2],\n",
       "        [-3,  1]]), array([[-3,  5],\n",
       "        [-2,  3]]), array([[-4,  3],\n",
       "        [-3,  2]]), array([[-1,  4],\n",
       "        [-1,  3]]), array([[-3,  1],\n",
       "        [-4,  1]]), array([[-2,  3],\n",
       "        [-3,  4]]), array([[-3,  2],\n",
       "        [-5,  3]]), array([[-1,  3],\n",
       "        [-2,  5]]), array([[-2,  1],\n",
       "        [-5,  2]]), array([[-1,  2],\n",
       "        [-3,  5]]), array([[-1,  1],\n",
       "        [-4,  3]]), array([[ 0,  1],\n",
       "        [-1,  4]]), array([[1, 5],\n",
       "        [0, 1]]), array([[5, 4],\n",
       "        [1, 1]]), array([[4, 7],\n",
       "        [1, 2]]), array([[7, 3],\n",
       "        [2, 1]]), array([[3, 8],\n",
       "        [1, 3]]), array([[8, 5],\n",
       "        [3, 2]]), array([[5, 7],\n",
       "        [2, 3]]), array([[7, 2],\n",
       "        [3, 1]]), array([[2, 7],\n",
       "        [1, 4]]), array([[7, 5],\n",
       "        [4, 3]]), array([[5, 8],\n",
       "        [3, 5]]), array([[8, 3],\n",
       "        [5, 2]]), array([[3, 7],\n",
       "        [2, 5]]), array([[7, 4],\n",
       "        [5, 3]]), array([[4, 5],\n",
       "        [3, 4]]), array([[5, 1],\n",
       "        [4, 1]]), array([[1, 4],\n",
       "        [1, 5]]), array([[4, 3],\n",
       "        [5, 4]]), array([[3, 5],\n",
       "        [4, 7]]), array([[5, 2],\n",
       "        [7, 3]]), array([[2, 5],\n",
       "        [3, 8]]), array([[5, 3],\n",
       "        [8, 5]]), array([[3, 4],\n",
       "        [5, 7]]), array([[4, 1],\n",
       "        [7, 2]]), array([[1, 3],\n",
       "        [2, 7]]), array([[3, 2],\n",
       "        [7, 5]]), array([[2, 3],\n",
       "        [5, 8]]), array([[3, 1],\n",
       "        [8, 3]]), array([[1, 2],\n",
       "        [3, 7]]), array([[2, 1],\n",
       "        [7, 4]]), array([[1, 1],\n",
       "        [4, 5]]), array([[1, 0],\n",
       "        [5, 1]])]"
      ]
     },
     "execution_count": 17,
     "metadata": {},
     "output_type": "execute_result"
    }
   ],
   "source": [
    "A = np.array([[0,1],[-1,0]])\n",
    "B = np.array([[0,-1],[1,1]])\n",
    "\n",
    "X = [ np.array([[1,0],[0,1]]) ]\n",
    "\n",
    "Y = []\n",
    "\n",
    "for t in range(5):\n",
    "    X  = [ np.dot(x,y) for x in X for y in [A] ]\n",
    "    Y += X\n",
    "    \n",
    "    X = [ np.dot(x,y) for x in X for y in [B,np.dot(B,B)] ]\n",
    "    Y += X\n",
    "    \n",
    "Y"
   ]
  },
  {
   "cell_type": "code",
   "execution_count": 18,
   "metadata": {},
   "outputs": [
    {
     "ename": "ImportError",
     "evalue": "No module named sage",
     "output_type": "error",
     "traceback": [
      "\u001b[0;31m---------------------------------------------------------------------------\u001b[0m",
      "\u001b[0;31mImportError\u001b[0m                               Traceback (most recent call last)",
      "\u001b[0;32m<ipython-input-18-8f7031291d6f>\u001b[0m in \u001b[0;36m<module>\u001b[0;34m()\u001b[0m\n\u001b[0;32m----> 1\u001b[0;31m \u001b[0;32mimport\u001b[0m \u001b[0msage\u001b[0m\u001b[0;34m\u001b[0m\u001b[0m\n\u001b[0m",
      "\u001b[0;31mImportError\u001b[0m: No module named sage"
     ]
    }
   ],
   "source": [
    "import sage"
   ]
  },
  {
   "cell_type": "code",
   "execution_count": 31,
   "metadata": {},
   "outputs": [
    {
     "name": "stdout",
     "output_type": "stream",
     "text": [
      "(500, 2)\n",
      "(501, 0)\n",
      "(502, 0)\n",
      "(503, 0)\n",
      "(504, 0)\n",
      "(505, 2)\n",
      "(506, 0)\n",
      "(507, 0)\n",
      "(508, 0)\n",
      "(509, 1)\n",
      "(510, 0)\n",
      "(511, 0)\n",
      "(512, 0)\n",
      "(513, 0)\n",
      "(514, 1)\n",
      "(515, 0)\n",
      "(516, 0)\n",
      "(517, 0)\n",
      "(518, 0)\n",
      "(519, 0)\n",
      "(520, 2)\n",
      "(521, 1)\n",
      "(522, 1)\n",
      "(523, 0)\n",
      "(524, 0)\n",
      "(525, 0)\n",
      "(526, 0)\n",
      "(527, 0)\n",
      "(528, 0)\n",
      "(529, 1)\n",
      "(530, 2)\n",
      "(531, 0)\n",
      "(532, 0)\n",
      "(533, 2)\n",
      "(534, 0)\n",
      "(535, 0)\n",
      "(536, 0)\n",
      "(537, 0)\n",
      "(538, 1)\n",
      "(539, 0)\n",
      "(540, 0)\n",
      "(541, 1)\n",
      "(542, 0)\n",
      "(543, 0)\n",
      "(544, 1)\n",
      "(545, 2)\n",
      "(546, 0)\n",
      "(547, 0)\n",
      "(548, 1)\n",
      "(549, 1)\n",
      "(550, 0)\n",
      "(551, 0)\n",
      "(552, 0)\n",
      "(553, 0)\n",
      "(554, 1)\n",
      "(555, 0)\n",
      "(556, 0)\n",
      "(557, 1)\n",
      "(558, 0)\n",
      "(559, 0)\n",
      "(560, 0)\n",
      "(561, 0)\n",
      "(562, 1)\n",
      "(563, 0)\n",
      "(564, 0)\n",
      "(565, 2)\n",
      "(566, 0)\n",
      "(567, 0)\n",
      "(568, 0)\n",
      "(569, 1)\n",
      "(570, 0)\n",
      "(571, 0)\n",
      "(572, 0)\n",
      "(573, 0)\n",
      "(574, 0)\n",
      "(575, 0)\n",
      "(576, 1)\n",
      "(577, 1)\n",
      "(578, 1)\n",
      "(579, 0)\n",
      "(580, 2)\n",
      "(581, 0)\n",
      "(582, 0)\n",
      "(583, 0)\n",
      "(584, 1)\n",
      "(585, 2)\n",
      "(586, 1)\n",
      "(587, 0)\n",
      "(588, 0)\n",
      "(589, 0)\n",
      "(590, 0)\n",
      "(591, 0)\n",
      "(592, 1)\n",
      "(593, 1)\n",
      "(594, 0)\n",
      "(595, 0)\n",
      "(596, 1)\n",
      "(597, 0)\n",
      "(598, 0)\n",
      "(599, 0)\n"
     ]
    },
    {
     "data": {
      "text/plain": [
       "[]"
      ]
     },
     "execution_count": 31,
     "metadata": {},
     "output_type": "execute_result"
    }
   ],
   "source": [
    "for n in 500 + np.arange(100):\n",
    "    #x = [(a,b)  for a in range(int(n**0.5)) for b in range(a) if a**2 + b**2 == n]\n",
    "    x = [(a,b)  for a in range(n) for b in range(a) if a**2 + b**2 == n]\n",
    "    print (n,len(x))\n",
    "#t = np.arange(0,1,0.01)\n",
    "x"
   ]
  },
  {
   "cell_type": "code",
   "execution_count": null,
   "metadata": {
    "collapsed": true
   },
   "outputs": [],
   "source": []
  }
 ],
 "metadata": {
  "kernelspec": {
   "display_name": "Python 2",
   "language": "python",
   "name": "python2"
  },
  "language_info": {
   "codemirror_mode": {
    "name": "ipython",
    "version": 2
   },
   "file_extension": ".py",
   "mimetype": "text/x-python",
   "name": "python",
   "nbconvert_exporter": "python",
   "pygments_lexer": "ipython2",
   "version": "2.7.12"
  }
 },
 "nbformat": 4,
 "nbformat_minor": 2
}
