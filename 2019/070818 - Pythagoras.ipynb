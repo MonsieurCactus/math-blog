{
 "cells": [
  {
   "cell_type": "code",
   "execution_count": 1,
   "metadata": {
    "collapsed": true
   },
   "outputs": [],
   "source": [
    "import numpy as np\n",
    "import matplotlib.pyplot as plt\n",
    "%matplotlib inline\n",
    "plt.rcParams['figure.figsize'] = 6,6"
   ]
  },
  {
   "cell_type": "code",
   "execution_count": 2,
   "metadata": {
    "collapsed": true
   },
   "outputs": [],
   "source": [
    "def gcd(a, b):\n",
    "    \"\"\"Calculate the Greatest Common Divisor of a and b.\n",
    "\n",
    "    Unless b==0, the result will have the same sign as b (so that when\n",
    "    b is divided by it, the result comes out positive).\n",
    "    \"\"\"\n",
    "    while b:\n",
    "        a, b = b, a%b\n",
    "    return a"
   ]
  },
  {
   "cell_type": "code",
   "execution_count": 7,
   "metadata": {},
   "outputs": [
    {
     "data": {
      "text/plain": [
       "(3.2+3.4j)"
      ]
     },
     "execution_count": 7,
     "metadata": {},
     "output_type": "execute_result"
    }
   ],
   "source": [
    "(3+10j)/(2+1j)"
   ]
  },
  {
   "cell_type": "code",
   "execution_count": 110,
   "metadata": {},
   "outputs": [],
   "source": [
    "N = 20\n",
    "\n",
    "X = [ (m,n) for m in range(N) for n in range(N) if gcd(m,n) == 1 and n < m and m**2 + n**2 < 2*N**2]\n",
    "\n",
    "Z = [ (gcd(a**2-b**2, a**2+b**2), gcd(2*a*b,a**2+b**2)) for (a,b) in X ]\n",
    "\n",
    "Y = [(a**2 - b**2, 2*a*b, a**2+b**2) for (a,b) in X ]\n",
    "\n",
    "Y = [ (a,b,c) for (a,b,c) in Y \n",
    "     if \n",
    "     c/gcd(a,c) < N**2 \n",
    "     and \n",
    "     c/gcd(b,c) < N**2\n",
    "    ]"
   ]
  },
  {
   "cell_type": "code",
   "execution_count": 111,
   "metadata": {},
   "outputs": [
    {
     "data": {
      "text/plain": [
       "<matplotlib.text.Text at 0x7f167a54c790>"
      ]
     },
     "execution_count": 111,
     "metadata": {},
     "output_type": "execute_result"
    },
    {
     "data": {
      "image/png": "[encoded data removed]",
      "text/plain": [
       "<matplotlib.figure.Figure at 0x7f167a7d3590>"
      ]
     },
     "metadata": {},
     "output_type": "display_data"
    }
   ],
   "source": [
    "theta = 1\n",
    "\n",
    "for (x,y) in [(-1,-1), (1,-1), (-1,1), (1,1)]:\n",
    "    for (a,b,c) in Y:\n",
    "        plt.plot( [x*a*1.0/c], [y*b*1.0/c] , 'k.', markersize=50/c**theta, alpha=0.5)\n",
    "        plt.plot( [x*b*1.0/c], [y*a*1.0/c] , 'k.', markersize=50/c**theta, alpha=0.5)\n",
    "        #plt.plot( [x*a*1.0/c], [y*b*1.0/c] , 'k.', markersize=1, alpha=0.5)\n",
    "        #plt.plot( [x*b*1.0/c], [y*a*1.0/c] , 'k.', markersize=1, alpha=0.5)\n",
    "        #print c**2-a**2-b**2,\n",
    "        \n",
    "plt.xlim([-1.25,1.25])\n",
    "plt.ylim([-1.25,1.25])\n",
    "plt.title('$x^2 + y^2 = 1$', fontsize=15)"
   ]
  },
  {
   "cell_type": "code",
   "execution_count": 106,
   "metadata": {},
   "outputs": [],
   "source": [
    "N = 20\n",
    "\n",
    "X = [ (m,n) for m in range(N) for n in range(N) if gcd(m,n) == 1 and n < m and m**2 + n**2 < 2*N**2]\n",
    "\n",
    "#Z = [ (gcd(a**2-b**2, a**2+b**2), gcd(2*a*b,a**2+b**2)) for (a,b) in X ]\n",
    "\n",
    "Y = [(-1*a**2 + 2*a*b + b**2, a**2 + 2*a*b - b**2, a**2+b**2) for (a,b) in X ]\n",
    "\n",
    "Y = [ (abs(a),b,c) for (a,b,c) in Y \n",
    "     if \n",
    "     c/gcd(a,c) < N**2 \n",
    "     and \n",
    "     c/gcd(b,c) < N**2\n",
    "    ]"
   ]
  },
  {
   "cell_type": "code",
   "execution_count": 108,
   "metadata": {},
   "outputs": [
    {
     "data": {
      "text/plain": [
       "<matplotlib.text.Text at 0x7f1680f84050>"
      ]
     },
     "execution_count": 108,
     "metadata": {},
     "output_type": "execute_result"
    },
    {
     "data": {
      "image/png": "[encoded data removed]",
      "text/plain": [
       "<matplotlib.figure.Figure at 0x7f168100c490>"
      ]
     },
     "metadata": {},
     "output_type": "display_data"
    }
   ],
   "source": [
    "theta = 1\n",
    "\n",
    "for (x,y) in [(-1,-1), (1,-1), (-1,1), (1,1)]:\n",
    "    for (a,b,c) in Y:\n",
    "        plt.plot( [x*a*1.0/c], [y*b*1.0/c] , 'k.', markersize=50/c**theta, alpha=0.5)\n",
    "        plt.plot( [x*b*1.0/c], [y*a*1.0/c] , 'k.', markersize=50/c**theta, alpha=0.5)\n",
    "        #plt.plot( [x*a*1.0/c], [y*b*1.0/c] , 'k.', markersize=1, alpha=0.5)\n",
    "        #plt.plot( [x*b*1.0/c], [y*a*1.0/c] , 'k.', markersize=1, alpha=0.5)\n",
    "        #print c**2-a**2-b**2,\n",
    "        \n",
    "plt.xlim([-1.5,1.5])\n",
    "plt.ylim([-1.5,1.5])\n",
    "plt.title('$x^2 + y^2 = 2$', fontsize=15)"
   ]
  },
  {
   "cell_type": "code",
   "execution_count": null,
   "metadata": {
    "collapsed": true
   },
   "outputs": [],
   "source": []
  }
 ],
 "metadata": {
  "kernelspec": {
   "display_name": "Python 2",
   "language": "python",
   "name": "python2"
  },
  "language_info": {
   "codemirror_mode": {
    "name": "ipython",
    "version": 2
   },
   "file_extension": ".py",
   "mimetype": "text/x-python",
   "name": "python",
   "nbconvert_exporter": "python",
   "pygments_lexer": "ipython2",
   "version": "2.7.12"
  }
 },
 "nbformat": 4,
 "nbformat_minor": 2
}
