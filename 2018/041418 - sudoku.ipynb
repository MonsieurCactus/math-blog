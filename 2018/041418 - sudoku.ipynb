{
 "cells": [
  {
   "cell_type": "code",
   "execution_count": 1,
   "metadata": {
    "collapsed": true
   },
   "outputs": [],
   "source": [
    "import numpy as np"
   ]
  },
  {
   "cell_type": "code",
   "execution_count": 2,
   "metadata": {
    "collapsed": true
   },
   "outputs": [],
   "source": [
    "from pulp import *"
   ]
  },
  {
   "cell_type": "code",
   "execution_count": 3,
   "metadata": {
    "collapsed": true
   },
   "outputs": [],
   "source": [
    "# https://github.com/coin-or/pulp\n",
    "# http://www.juliaopt.org/notebooks/JuMP-Sudoku.html\n",
    "# https://pythonhosted.org/PuLP/CaseStudies/a_sudoku_problem.html\n",
    "# https://projects.coin-or.org/Cbc\n",
    "# https://www.coursera.org/learn/discrete-optimization"
   ]
  },
  {
   "cell_type": "code",
   "execution_count": 4,
   "metadata": {
    "collapsed": true
   },
   "outputs": [],
   "source": [
    "# http://langvillea.people.cofc.edu/sudoku5.pdf"
   ]
  },
  {
   "cell_type": "markdown",
   "metadata": {},
   "source": [
    "# Sudoku\n",
    "\n",
    "There seem to be two solutions to this kind of problem.  \n",
    "\n",
    "* a computer programming solution where we use a library such as Coin-OR or PulP to set up the equations and obtain an answer\n",
    "* a computer science solution where we try to solve the linear system of 729 equations and unknowns from scratch using integer programming or linear programming"
   ]
  },
  {
   "cell_type": "code",
   "execution_count": 5,
   "metadata": {
    "collapsed": true
   },
   "outputs": [],
   "source": [
    "# A list of strings from \"1\" to \"9\" is created\n",
    "Sequence = [\"1\", \"2\", \"3\", \"4\", \"5\", \"6\", \"7\", \"8\", \"9\"]\n",
    "\n",
    "# The Vals, Rows and Cols sequences all follow this form\n",
    "Vals = Sequence\n",
    "Rows = Sequence\n",
    "Cols = Sequence"
   ]
  },
  {
   "cell_type": "code",
   "execution_count": 6,
   "metadata": {
    "collapsed": true
   },
   "outputs": [],
   "source": [
    "# The boxes list is created, with the row and column index of each square in each box\n",
    "Boxes =[]\n",
    "for i in range(3):\n",
    "    for j in range(3):\n",
    "        Boxes += [[(Rows[3*i+k],Cols[3*j+l]) for k in range(3) for l in range(3)]]"
   ]
  },
  {
   "cell_type": "code",
   "execution_count": 10,
   "metadata": {},
   "outputs": [],
   "source": [
    "# The prob variable is created to contain the problem data        \n",
    "prob = LpProblem(\"Sudoku Problem\",LpMinimize)\n",
    "# The problem variables are created\n",
    "choices = LpVariable.dicts(\"Choice\",(Vals,Rows,Cols),0,1,LpInteger)\n",
    "# The arbitrary objective function is added\n",
    "prob += 0, \"Arbitrary Objective Function\""
   ]
  },
  {
   "cell_type": "code",
   "execution_count": 11,
   "metadata": {
    "collapsed": true
   },
   "outputs": [],
   "source": [
    "# A constraint ensuring that only one value can be in each square is created\n",
    "for r in Rows:\n",
    "    for c in Cols:\n",
    "        prob += lpSum([choices[v][r][c] for v in Vals]) == 1, \"\"\n",
    "# The row, column and box constraints are added for each value\n",
    "for v in Vals:\n",
    "    for r in Rows:\n",
    "        prob += lpSum([choices[v][r][c] for c in Cols]) == 1,\"\"\n",
    "        \n",
    "    for c in Cols:\n",
    "        prob += lpSum([choices[v][r][c] for r in Rows]) == 1,\"\"\n",
    "\n",
    "    for b in Boxes:\n",
    "        prob += lpSum([choices[v][r][c] for (r,c) in b]) == 1,\"\"\n",
    "        \n",
    "# any other constraints??"
   ]
  },
  {
   "cell_type": "code",
   "execution_count": 12,
   "metadata": {
    "collapsed": true
   },
   "outputs": [],
   "source": [
    "# The starting numbers are entered as constraints                \n",
    "prob += choices[\"5\"][\"1\"][\"1\"] == 1,\"\"\n",
    "prob += choices[\"6\"][\"2\"][\"1\"] == 1,\"\"\n",
    "prob += choices[\"8\"][\"4\"][\"1\"] == 1,\"\"\n",
    "prob += choices[\"4\"][\"5\"][\"1\"] == 1,\"\"\n",
    "prob += choices[\"7\"][\"6\"][\"1\"] == 1,\"\"\n",
    "prob += choices[\"3\"][\"1\"][\"2\"] == 1,\"\"\n",
    "prob += choices[\"9\"][\"3\"][\"2\"] == 1,\"\"\n",
    "prob += choices[\"6\"][\"7\"][\"2\"] == 1,\"\"\n",
    "prob += choices[\"8\"][\"3\"][\"3\"] == 1,\"\"\n",
    "prob += choices[\"1\"][\"2\"][\"4\"] == 1,\"\"\n",
    "prob += choices[\"8\"][\"5\"][\"4\"] == 1,\"\"\n",
    "prob += choices[\"4\"][\"8\"][\"4\"] == 1,\"\"\n",
    "prob += choices[\"7\"][\"1\"][\"5\"] == 1,\"\"\n",
    "prob += choices[\"9\"][\"2\"][\"5\"] == 1,\"\"\n",
    "prob += choices[\"6\"][\"4\"][\"5\"] == 1,\"\"\n",
    "prob += choices[\"2\"][\"6\"][\"5\"] == 1,\"\"\n",
    "prob += choices[\"1\"][\"8\"][\"5\"] == 1,\"\"\n",
    "prob += choices[\"8\"][\"9\"][\"5\"] == 1,\"\"\n",
    "prob += choices[\"5\"][\"2\"][\"6\"] == 1,\"\"\n",
    "prob += choices[\"3\"][\"5\"][\"6\"] == 1,\"\"\n",
    "prob += choices[\"9\"][\"8\"][\"6\"] == 1,\"\"\n",
    "prob += choices[\"2\"][\"7\"][\"7\"] == 1,\"\"\n",
    "prob += choices[\"6\"][\"3\"][\"8\"] == 1,\"\"\n",
    "prob += choices[\"8\"][\"7\"][\"8\"] == 1,\"\"\n",
    "prob += choices[\"7\"][\"9\"][\"8\"] == 1,\"\"\n",
    "prob += choices[\"3\"][\"4\"][\"9\"] == 1,\"\"\n",
    "prob += choices[\"1\"][\"5\"][\"9\"] == 1,\"\"\n",
    "prob += choices[\"6\"][\"6\"][\"9\"] == 1,\"\"\n",
    "prob += choices[\"5\"][\"8\"][\"9\"] == 1,\"\""
   ]
  },
  {
   "cell_type": "code",
   "execution_count": 13,
   "metadata": {},
   "outputs": [
    {
     "name": "stdout",
     "output_type": "stream",
     "text": [
      "('Status:', 'Optimal')\n"
     ]
    }
   ],
   "source": [
    "# The problem data is written to an .lp file\n",
    "prob.writeLP(\"Sudoku.lp\")\n",
    "\n",
    "# The problem is solved using PuLP's choice of Solver\n",
    "prob.solve()\n",
    "\n",
    "# The status of the solution is printed to the screen\n",
    "print(\"Status:\", LpStatus[prob.status])"
   ]
  },
  {
   "cell_type": "code",
   "execution_count": 15,
   "metadata": {},
   "outputs": [],
   "source": [
    "sudokuout = file(\"sudokuout.txt\", \"w\")\n",
    "\n",
    "# The solution is written to the sudokuout.txt file \n",
    "for r in Rows:\n",
    "    if r == \"1\" or r == \"4\" or r == \"7\":\n",
    "                    sudokuout.write(\"+-------+-------+-------+\\n\")\n",
    "    for c in Cols:\n",
    "        for v in Vals:\n",
    "            if value(choices[v][r][c])==1:\n",
    "                               \n",
    "                if c == \"1\" or c == \"4\" or c ==\"7\":\n",
    "                    sudokuout.write(\"| \")\n",
    "                    \n",
    "                sudokuout.write(v + \" \")\n",
    "                \n",
    "                if c == \"9\":\n",
    "                    sudokuout.write(\"|\\n\")\n",
    "sudokuout.write(\"+-------+-------+-------+\")                    \n",
    "sudokuout.close()"
   ]
  },
  {
   "cell_type": "markdown",
   "metadata": {},
   "source": [
    "# Sudoku"
   ]
  },
  {
   "cell_type": "code",
   "execution_count": 16,
   "metadata": {
    "collapsed": true
   },
   "outputs": [],
   "source": [
    "# A list of strings from \"1\" to \"9\" is created\n",
    "Sequence = [\"1\", \"2\", \"3\", \"4\", \"5\", \"6\", \"7\", \"8\", \"9\"]\n",
    "\n",
    "# The Vals, Rows and Cols sequences all follow this form\n",
    "Vals = Sequence\n",
    "Rows = Sequence\n",
    "Cols = Sequence\n",
    "\n",
    "# The boxes list is created, with the row and column index of each square in each box\n",
    "Boxes =[]\n",
    "for i in range(3):\n",
    "    for j in range(3):\n",
    "        Boxes += [[(Rows[3*i+k],Cols[3*j+l]) for k in range(3) for l in range(3)]]\n",
    "        \n",
    "# The prob variable is created to contain the problem data        \n",
    "prob = LpProblem(\"Sudoku Problem\",LpMinimize)\n",
    "# The problem variables are created\n",
    "choices = LpVariable.dicts(\"Choice\",(Vals,Rows,Cols),0,1,LpInteger)\n",
    "# The arbitrary objective function is added\n",
    "prob += 0, \"Arbitrary Objective Function\""
   ]
  },
  {
   "cell_type": "code",
   "execution_count": 17,
   "metadata": {
    "collapsed": true
   },
   "outputs": [],
   "source": [
    "# A constraint ensuring that only one value can be in each square is created\n",
    "for r in Rows:\n",
    "    for c in Cols:\n",
    "        prob += lpSum([choices[v][r][c] for v in Vals]) == 1, \"\"\n",
    "# The row, column and box constraints are added for each value\n",
    "for v in Vals:\n",
    "    for r in Rows:\n",
    "        prob += lpSum([choices[v][r][c] for c in Cols]) == 1,\"\"\n",
    "        \n",
    "    for c in Cols:\n",
    "        prob += lpSum([choices[v][r][c] for r in Rows]) == 1,\"\"\n",
    "\n",
    "    for b in Boxes:\n",
    "        prob += lpSum([choices[v][r][c] for (r,c) in b]) == 1,\"\"\n",
    "        \n",
    "# any other constraints??"
   ]
  },
  {
   "cell_type": "code",
   "execution_count": 23,
   "metadata": {},
   "outputs": [],
   "source": [
    "clues =   [\n",
    "(5,1,1),\n",
    "(6,2,1),\n",
    "(8,4,1),\n",
    "(4,5,1),\n",
    "(7,6,1),\n",
    "(3,1,2),\n",
    "(9,3,2),\n",
    "(6,7,2),\n",
    "(8,3,3),\n",
    "(1,2,4),\n",
    "(8,5,4),\n",
    "(4,8,4),\n",
    "(7,1,5),\n",
    "(9,2,5),\n",
    "(6,4,5),\n",
    "(2,6,5),\n",
    "(1,8,5),\n",
    "(8,9,5),\n",
    "(5,2,6),\n",
    "(3,5,6),\n",
    "(9,8,6),\n",
    "(2,7,7),\n",
    "(6,3,8),\n",
    "(8,7,8),\n",
    "(7,9,8),\n",
    "(3,4,9),\n",
    "(1,5,9),\n",
    "(6,6,9),\n",
    "(5,8,9)]\n",
    "\n",
    "for x in clues:\n",
    "    prob += choices[str(x[0])][str(x[1])][str(x[2])] == 1,\"\""
   ]
  },
  {
   "cell_type": "code",
   "execution_count": 24,
   "metadata": {},
   "outputs": [
    {
     "name": "stdout",
     "output_type": "stream",
     "text": [
      "('Status:', 'Optimal')\n"
     ]
    }
   ],
   "source": [
    "# The problem is solved using PuLP's choice of Solver\n",
    "prob.solve()\n",
    "\n",
    "# The status of the solution is printed to the screen\n",
    "print(\"Status:\", LpStatus[prob.status])"
   ]
  },
  {
   "cell_type": "code",
   "execution_count": 32,
   "metadata": {},
   "outputs": [
    {
     "name": "stdout",
     "output_type": "stream",
     "text": [
      "+-------+-------+-------+\n",
      "| 5 3 4 | 6 7 8 | 9 1 2 |\n",
      "| 6 7 2 | 1 9 5 | 3 4 8 |\n",
      "| 1 9 8 | 3 4 2 | 5 6 7 |\n",
      "+-------+-------+-------+\n",
      "| 8 5 9 | 7 6 1 | 4 2 3 |\n",
      "| 4 2 6 | 8 5 3 | 7 9 1 |\n",
      "| 7 1 3 | 9 2 4 | 8 5 6 |\n",
      "+-------+-------+-------+\n",
      "| 9 6 1 | 5 3 7 | 2 8 4 |\n",
      "| 2 8 7 | 4 1 9 | 6 3 5 |\n",
      "| 3 4 5 | 2 8 6 | 1 7 9 |\n",
      "+-------+-------+-------+\n"
     ]
    }
   ],
   "source": [
    "# The solution is written to the sudokuout.txt file \n",
    "for r in Rows:\n",
    "    if r == \"1\" or r == \"4\" or r == \"7\":\n",
    "                    print \"+-------+-------+-------+\\n\",\n",
    "    for c in Cols:\n",
    "        for v in Vals:\n",
    "            if value(choices[v][r][c])==1:\n",
    "                               \n",
    "                if c == \"1\" or c == \"4\" or c ==\"7\":\n",
    "                    print \"|\",\n",
    "                    \n",
    "                print v + \"\",\n",
    "                \n",
    "                if c == \"9\":\n",
    "                    print \"|\\n\",\n",
    "print \"+-------+-------+-------+\""
   ]
  },
  {
   "cell_type": "markdown",
   "metadata": {},
   "source": [
    "# Diagonal Sudoku"
   ]
  },
  {
   "cell_type": "code",
   "execution_count": 72,
   "metadata": {
    "collapsed": true
   },
   "outputs": [],
   "source": [
    "# A list of strings from \"1\" to \"9\" is created\n",
    "Sequence = [\"1\", \"2\", \"3\", \"4\", \"5\", \"6\", \"7\", \"8\", \"9\"]\n",
    "\n",
    "# The Vals, Rows and Cols sequences all follow this form\n",
    "Vals = Sequence\n",
    "Rows = Sequence\n",
    "Cols = Sequence\n",
    "\n",
    "# The boxes list is created, with the row and column index of each square in each box\n",
    "Boxes =[]\n",
    "for i in range(3):\n",
    "    for j in range(3):\n",
    "        Boxes += [[(Rows[3*i+k],Cols[3*j+l]) for k in range(3) for l in range(3)]]\n",
    "        \n",
    "# The prob variable is created to contain the problem data        \n",
    "prob = LpProblem(\"Sudoku Problem\",LpMinimize)\n",
    "# The problem variables are created\n",
    "choices = LpVariable.dicts(\"Choice\",(Vals,Rows,Cols),0,1,LpInteger)\n",
    "# The arbitrary objective function is added\n",
    "prob += 0, \"Arbitrary Objective Function\""
   ]
  },
  {
   "cell_type": "code",
   "execution_count": 73,
   "metadata": {},
   "outputs": [],
   "source": [
    "# A constraint ensuring that only one value can be in each square is created\n",
    "for r in Rows:\n",
    "    for c in Cols:\n",
    "        prob += lpSum([choices[v][r][c] for v in Vals]) == 1, \"\"\n",
    "\n",
    "# The row, column and box constraints are added for each value\n",
    "for v in Vals:\n",
    "    for r in Rows:\n",
    "        prob += lpSum([choices[v][r][c] for c in Cols]) == 1,\"\"\n",
    "        \n",
    "    for c in Cols:\n",
    "        prob += lpSum([choices[v][r][c] for r in Rows]) == 1,\"\"\n",
    "\n",
    "    for b in Boxes:\n",
    "        prob += lpSum([choices[v][r][c] for (r,c) in b]) == 1,\"\"\n",
    "        \n",
    "# any other constraints??\n",
    "# The diagonal constraints are added for each value\n",
    "\n",
    "Diag = Sequence\n",
    "\n",
    "for v in Vals:\n",
    "    prob += lpSum([choices[v][d][str(10-int(d))] for d in Diag]) == 1,\"\"\n",
    "    prob += lpSum([choices[v][d][d             ] for d in Diag]) == 1,\"\""
   ]
  },
  {
   "cell_type": "code",
   "execution_count": 74,
   "metadata": {
    "collapsed": true
   },
   "outputs": [],
   "source": [
    "clues =   [\n",
    "    (9,1,2),\n",
    "    (7,1,4),\n",
    "    (1,1,5),\n",
    "    (3,2,5),\n",
    "    (2,2,6),\n",
    "    (1,2,9),\n",
    "    (6,3,2),\n",
    "    (9,3,4),\n",
    "    (2,4,1),\n",
    "    (9,4,3),\n",
    "    (5,4,6),\n",
    "    (1,6,4),\n",
    "    (5,6,7),\n",
    "    (7,6,9),\n",
    "    (1,7,6),\n",
    "    (4,7,8),\n",
    "    (9,8,1),\n",
    "    (4,8,4),\n",
    "    (9,8,1),\n",
    "    (4,8,4),\n",
    "    (7,8,5),\n",
    "    (6,9,5),\n",
    "    (8,9,6),\n",
    "    (3,9,8)\n",
    "]\n",
    "\n",
    "for x in clues:\n",
    "    prob += choices[str(x[0])][str(x[1])][str(x[2])] == 1,\"\""
   ]
  },
  {
   "cell_type": "code",
   "execution_count": 75,
   "metadata": {},
   "outputs": [
    {
     "name": "stdout",
     "output_type": "stream",
     "text": [
      "('Status:', 'Optimal')\n"
     ]
    }
   ],
   "source": [
    "# The problem is solved using PuLP's choice of Solver\n",
    "prob.solve()\n",
    "\n",
    "# The status of the solution is printed to the screen\n",
    "print(\"Status:\", LpStatus[prob.status])"
   ]
  },
  {
   "cell_type": "code",
   "execution_count": 76,
   "metadata": {},
   "outputs": [
    {
     "name": "stdout",
     "output_type": "stream",
     "text": [
      "+-------+-------+-------+\n",
      "| 3 9 8 | 7 1 6 | 2 5 4 |\n",
      "| 5 4 7 | 8 3 2 | 6 9 1 |\n",
      "| 1 6 2 | 9 5 4 | 3 7 8 |\n",
      "+-------+-------+-------+\n",
      "| 2 7 9 | 6 4 5 | 1 8 3 |\n",
      "| 6 5 1 | 3 8 7 | 4 2 9 |\n",
      "| 4 8 3 | 1 2 9 | 5 6 7 |\n",
      "+-------+-------+-------+\n",
      "| 8 3 6 | 5 9 1 | 7 4 2 |\n",
      "| 9 2 5 | 4 7 3 | 8 1 6 |\n",
      "| 7 1 4 | 2 6 8 | 9 3 5 |\n",
      "+-------+-------+-------+\n"
     ]
    }
   ],
   "source": [
    "# The solution is written to the sudokuout.txt file \n",
    "for r in Rows:\n",
    "    if r == \"1\" or r == \"4\" or r == \"7\":\n",
    "                    print \"+-------+-------+-------+\\n\",\n",
    "    for c in Cols:\n",
    "        for v in Vals:\n",
    "            if value(choices[v][r][c])==1:\n",
    "                               \n",
    "                if c == \"1\" or c == \"4\" or c ==\"7\":\n",
    "                    print \"|\",\n",
    "                    \n",
    "                print v + \"\",\n",
    "                \n",
    "                if c == \"9\":\n",
    "                    print \"|\\n\",\n",
    "print \"+-------+-------+-------+\""
   ]
  },
  {
   "cell_type": "code",
   "execution_count": null,
   "metadata": {
    "collapsed": true
   },
   "outputs": [],
   "source": []
  }
 ],
 "metadata": {
  "kernelspec": {
   "display_name": "Python 2",
   "language": "python",
   "name": "python2"
  },
  "language_info": {
   "codemirror_mode": {
    "name": "ipython",
    "version": 2
   },
   "file_extension": ".py",
   "mimetype": "text/x-python",
   "name": "python",
   "nbconvert_exporter": "python",
   "pygments_lexer": "ipython2",
   "version": "2.7.12"
  }
 },
 "nbformat": 4,
 "nbformat_minor": 2
}
